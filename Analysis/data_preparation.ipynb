{
 "cells": [
  {
   "cell_type": "markdown",
   "id": "37f469b3-15de-483b-bb3b-3a1b31df5c47",
   "metadata": {},
   "source": [
    "# Imports"
   ]
  },
  {
   "cell_type": "code",
   "execution_count": 50,
   "id": "cd71c34f-8e5d-4472-9140-8b372852aec0",
   "metadata": {
    "execution": {
     "iopub.execute_input": "2023-03-17T00:14:12.572174Z",
     "iopub.status.busy": "2023-03-17T00:14:12.571674Z",
     "iopub.status.idle": "2023-03-17T00:14:12.599975Z",
     "shell.execute_reply": "2023-03-17T00:14:12.599414Z",
     "shell.execute_reply.started": "2023-03-17T00:14:12.572129Z"
    },
    "tags": []
   },
   "outputs": [
    {
     "name": "stdout",
     "output_type": "stream",
     "text": [
      "The autoreload extension is already loaded. To reload it, use:\n",
      "  %reload_ext autoreload\n"
     ]
    }
   ],
   "source": [
    "%load_ext autoreload\n",
    "%autoreload 2\n",
    "\n",
    "import numpy as np\n",
    "import pandas as pd\n",
    "import datetime as dt\n",
    "import os\n",
    "import matplotlib.pyplot as plt\n",
    "import phonecalls as pc\n",
    "import scipy.stats as stats\n",
    "import scipy.interpolate as interpol\n",
    "import statsmodels.api as sm\n",
    "import pymannkendall as mk\n",
    "import time\n",
    "import copy\n",
    "import math\n",
    "import pickle\n",
    "\n",
    "\n",
    "markers = ['o', 'v', 's', 'P', '*', 'X', 'd', 'x', 'D', '2', '+']\n",
    "colors = ['#348ABD', '#A60628', '#7A68A6', '#467821', '#D55E00', '#CC79A7', '#56B4E9', '#009E73', '#F0E442', '#0072B2']"
   ]
  },
  {
   "cell_type": "markdown",
   "id": "f877e3ae-fdff-4226-9f68-6f05f323c350",
   "metadata": {},
   "source": [
    "# Unfiltered Data\n",
    "In practice, this means that the data is just as it was provided, in terms of the phone calls and their temporal limits. No filter is placed regarding the number of calls or the point in time (calendar days). There may be some modifications to anonymize the data."
   ]
  },
  {
   "cell_type": "markdown",
   "id": "fc364e3c-a127-4c21-b968-a74574dd6f77",
   "metadata": {},
   "source": [
    "## UK: Calls"
   ]
  },
  {
   "cell_type": "code",
   "execution_count": 2,
   "id": "0acfbeb2-34de-4b02-9628-a49111c3281f",
   "metadata": {
    "execution": {
     "iopub.execute_input": "2022-11-27T02:25:29.424005Z",
     "iopub.status.busy": "2022-11-27T02:25:29.423685Z",
     "iopub.status.idle": "2022-11-27T02:25:29.438023Z",
     "shell.execute_reply": "2022-11-27T02:25:29.437529Z",
     "shell.execute_reply.started": "2022-11-27T02:25:29.423990Z"
    },
    "tags": []
   },
   "outputs": [],
   "source": [
    "# tmp1 = pc.allcalls(\"../ukdata/collected_dunbar_calls_v3_e26OK_sorted.csv\", (3, 'call'), 1, 2, [6,7], '%d/%m/%y %H:%M', header=False, min_activity=1)\n",
    "# print(tmp1.dtypes)\n",
    "# tmp1.head()"
   ]
  },
  {
   "cell_type": "code",
   "execution_count": 13,
   "id": "12fcfacb-2cbd-455e-8448-61050c11811d",
   "metadata": {
    "execution": {
     "iopub.execute_input": "2023-03-16T23:44:49.294671Z",
     "iopub.status.busy": "2023-03-16T23:44:49.294412Z",
     "iopub.status.idle": "2023-03-16T23:44:49.324356Z",
     "shell.execute_reply": "2023-03-16T23:44:49.323966Z",
     "shell.execute_reply.started": "2023-03-16T23:44:49.294648Z"
    },
    "tags": []
   },
   "outputs": [
    {
     "data": {
      "text/html": [
       "<div>\n",
       "<style scoped>\n",
       "    .dataframe tbody tr th:only-of-type {\n",
       "        vertical-align: middle;\n",
       "    }\n",
       "\n",
       "    .dataframe tbody tr th {\n",
       "        vertical-align: top;\n",
       "    }\n",
       "\n",
       "    .dataframe thead th {\n",
       "        text-align: right;\n",
       "    }\n",
       "</style>\n",
       "<table border=\"1\" class=\"dataframe\">\n",
       "  <thead>\n",
       "    <tr style=\"text-align: right;\">\n",
       "      <th></th>\n",
       "      <th>Subject Number</th>\n",
       "      <th>Initials</th>\n",
       "      <th>Gender</th>\n",
       "      <th>Mobile Number</th>\n",
       "      <th>University/Plans</th>\n",
       "      <th>Stayed in Sheffield?</th>\n",
       "      <th>Subject</th>\n",
       "      <th>Completed Study to T3?</th>\n",
       "    </tr>\n",
       "  </thead>\n",
       "  <tbody>\n",
       "    <tr>\n",
       "      <th>0</th>\n",
       "      <td>1</td>\n",
       "      <td>AH</td>\n",
       "      <td>Male</td>\n",
       "      <td>07805206865</td>\n",
       "      <td>University of Manchester</td>\n",
       "      <td>No</td>\n",
       "      <td>Sociology</td>\n",
       "      <td>Yes</td>\n",
       "    </tr>\n",
       "    <tr>\n",
       "      <th>1</th>\n",
       "      <td>2</td>\n",
       "      <td>EF</td>\n",
       "      <td>Male</td>\n",
       "      <td>07905656488</td>\n",
       "      <td>Gap - Sheffield until July 07</td>\n",
       "      <td>Yes</td>\n",
       "      <td>Not applicable</td>\n",
       "      <td>Yes</td>\n",
       "    </tr>\n",
       "    <tr>\n",
       "      <th>2</th>\n",
       "      <td>3</td>\n",
       "      <td>LJ</td>\n",
       "      <td>Male</td>\n",
       "      <td>07800759083</td>\n",
       "      <td>University of York</td>\n",
       "      <td>No</td>\n",
       "      <td>Biology</td>\n",
       "      <td>Yes</td>\n",
       "    </tr>\n",
       "    <tr>\n",
       "      <th>3</th>\n",
       "      <td>4</td>\n",
       "      <td>DA</td>\n",
       "      <td>Male</td>\n",
       "      <td>07779270485</td>\n",
       "      <td>Leeds Metropolian University</td>\n",
       "      <td>No</td>\n",
       "      <td>Sports Buisness Management</td>\n",
       "      <td>Yes</td>\n",
       "    </tr>\n",
       "    <tr>\n",
       "      <th>4</th>\n",
       "      <td>5</td>\n",
       "      <td>MJ</td>\n",
       "      <td>Male</td>\n",
       "      <td>07855941005</td>\n",
       "      <td>Newcastle University</td>\n",
       "      <td>No</td>\n",
       "      <td>Geography</td>\n",
       "      <td>Yes</td>\n",
       "    </tr>\n",
       "  </tbody>\n",
       "</table>\n",
       "</div>"
      ],
      "text/plain": [
       "   Subject Number Initials Gender Mobile Number  \\\n",
       "0               1       AH   Male   07805206865   \n",
       "1               2       EF   Male   07905656488   \n",
       "2               3       LJ   Male   07800759083   \n",
       "3               4       DA   Male   07779270485   \n",
       "4               5       MJ   Male   07855941005   \n",
       "\n",
       "                University/Plans Stayed in Sheffield?  \\\n",
       "0       University of Manchester                   No   \n",
       "1  Gap - Sheffield until July 07                  Yes   \n",
       "2             University of York                   No   \n",
       "3   Leeds Metropolian University                   No   \n",
       "4           Newcastle University                   No   \n",
       "\n",
       "                      Subject Completed Study to T3?  \n",
       "0                   Sociology                    Yes  \n",
       "1              Not applicable                    Yes  \n",
       "2                     Biology                    Yes  \n",
       "3  Sports Buisness Management                    Yes  \n",
       "4                   Geography                    Yes  "
      ]
     },
     "execution_count": 13,
     "metadata": {},
     "output_type": "execute_result"
    }
   ],
   "source": [
    "tmp2 = pd.read_excel(\"../ukdata/participant_info.xls\", header=1, dtype={'Mobile Number': str})\n",
    "tmp2.head()"
   ]
  },
  {
   "cell_type": "code",
   "execution_count": 51,
   "id": "26fc2190-1033-4a62-af8f-88367d639773",
   "metadata": {
    "execution": {
     "iopub.execute_input": "2023-03-17T00:14:20.070312Z",
     "iopub.status.busy": "2023-03-17T00:14:20.069922Z",
     "iopub.status.idle": "2023-03-17T00:14:20.093949Z",
     "shell.execute_reply": "2023-03-17T00:14:20.093367Z",
     "shell.execute_reply.started": "2023-03-17T00:14:20.070276Z"
    },
    "tags": []
   },
   "outputs": [],
   "source": [
    "egoinfo = {}\n",
    "for i in tmp2.index:\n",
    "    pnum = tmp2.at[i, 'Mobile Number'][-10:]\n",
    "    eid = tmp2.at[i, 'Subject Number']\n",
    "    if tmp2.at[i, 'Gender'] == 'Male':\n",
    "        efemale = 0\n",
    "    else:\n",
    "        efemale = 1\n",
    "    egoinfo[pnum] = (eid, efemale)"
   ]
  },
  {
   "cell_type": "code",
   "execution_count": null,
   "id": "649784e7-6aca-4c90-85a4-468cc959bb06",
   "metadata": {
    "execution": {
     "iopub.status.busy": "2022-11-06T03:32:42.505750Z",
     "iopub.status.idle": "2022-11-06T03:32:42.505953Z",
     "shell.execute_reply": "2022-11-06T03:32:42.505847Z",
     "shell.execute_reply.started": "2022-11-06T03:32:42.505838Z"
    },
    "tags": []
   },
   "outputs": [],
   "source": [
    "len(egoinfo.keys())"
   ]
  },
  {
   "cell_type": "code",
   "execution_count": null,
   "id": "5d281e70-b787-4cdf-b966-2bb0d243c72f",
   "metadata": {
    "execution": {
     "iopub.status.busy": "2022-11-06T03:32:42.506677Z",
     "iopub.status.idle": "2022-11-06T03:32:42.506882Z",
     "shell.execute_reply": "2022-11-06T03:32:42.506793Z",
     "shell.execute_reply.started": "2022-11-06T03:32:42.506784Z"
    },
    "tags": []
   },
   "outputs": [],
   "source": [
    "egoinfo"
   ]
  },
  {
   "cell_type": "code",
   "execution_count": null,
   "id": "66171167-f2d2-4d71-97ee-bcad44af2264",
   "metadata": {
    "execution": {
     "iopub.status.busy": "2022-11-06T03:32:42.507551Z",
     "iopub.status.idle": "2022-11-06T03:32:42.507888Z",
     "shell.execute_reply": "2022-11-06T03:32:42.507725Z",
     "shell.execute_reply.started": "2022-11-06T03:32:42.507712Z"
    },
    "tags": []
   },
   "outputs": [],
   "source": [
    "len(str(tmp2.at[0, 'Mobile Number']))"
   ]
  },
  {
   "cell_type": "code",
   "execution_count": null,
   "id": "ae44d6b7-9875-4851-b648-b7135f62ef1f",
   "metadata": {
    "execution": {
     "iopub.status.busy": "2022-11-06T03:32:42.508604Z",
     "iopub.status.idle": "2022-11-06T03:32:42.508821Z",
     "shell.execute_reply": "2022-11-06T03:32:42.508720Z",
     "shell.execute_reply.started": "2022-11-06T03:32:42.508711Z"
    },
    "tags": []
   },
   "outputs": [],
   "source": [
    "len(tmp1.at[306132, 'ego'][-11:])"
   ]
  },
  {
   "cell_type": "code",
   "execution_count": null,
   "id": "ef29dbff-b632-4639-81e5-2bb14e90e88b",
   "metadata": {
    "execution": {
     "iopub.status.busy": "2022-11-06T03:32:42.509603Z",
     "iopub.status.idle": "2022-11-06T03:32:42.509792Z",
     "shell.execute_reply": "2022-11-06T03:32:42.509703Z",
     "shell.execute_reply.started": "2022-11-06T03:32:42.509694Z"
    },
    "tags": []
   },
   "outputs": [],
   "source": [
    "tmp1.at[306132, 'ego'][-11:]"
   ]
  },
  {
   "cell_type": "code",
   "execution_count": null,
   "id": "8de3b1ae-b2a8-4f54-8b9e-ca96fa0ba089",
   "metadata": {
    "execution": {
     "iopub.status.busy": "2022-11-06T03:32:42.510252Z",
     "iopub.status.idle": "2022-11-06T03:32:42.510437Z",
     "shell.execute_reply": "2022-11-06T03:32:42.510349Z",
     "shell.execute_reply.started": "2022-11-06T03:32:42.510340Z"
    },
    "tags": []
   },
   "outputs": [],
   "source": [
    "tmp2['Mobile Number'] = tmp2['Mobile Number'].map(lambda i: str(i))\n",
    "eidd = {tmp2.at[i, 'Mobile Number']: tmp2.at[i, 'Subject Number'] for i in tmp2.index}"
   ]
  },
  {
   "cell_type": "code",
   "execution_count": null,
   "id": "001262ac-600d-4965-bc11-588e9a981174",
   "metadata": {
    "execution": {
     "iopub.status.busy": "2022-11-06T03:32:42.511239Z",
     "iopub.status.idle": "2022-11-06T03:32:42.511435Z",
     "shell.execute_reply": "2022-11-06T03:32:42.511343Z",
     "shell.execute_reply.started": "2022-11-06T03:32:42.511333Z"
    },
    "tags": []
   },
   "outputs": [],
   "source": [
    "# tmp1['egoid'] = tmp1['ego'].map(lambda i: eidd[i[-10:]])\n",
    "# tmp.to_csv(\"uktmp.csv\", index=False, header=False, sep=\",\")\n",
    "# tmp1.head()"
   ]
  },
  {
   "cell_type": "code",
   "execution_count": null,
   "id": "85e8cea2-f9d2-46f0-9251-8f2ff6ea4396",
   "metadata": {
    "execution": {
     "iopub.status.busy": "2022-11-06T03:32:42.511903Z",
     "iopub.status.idle": "2022-11-06T03:32:42.512175Z",
     "shell.execute_reply": "2022-11-06T03:32:42.512082Z",
     "shell.execute_reply.started": "2022-11-06T03:32:42.512072Z"
    },
    "tags": []
   },
   "outputs": [],
   "source": [
    "tmp2['efemale'] = tmp2['Gender'].map(lambda i: 0 if i == 'Male' else 1)\n",
    "tmp2.head()"
   ]
  },
  {
   "cell_type": "code",
   "execution_count": null,
   "id": "cff60e89-dab8-4b24-b525-2ee27b42f2e4",
   "metadata": {
    "execution": {
     "iopub.status.busy": "2022-11-06T03:32:42.512637Z",
     "iopub.status.idle": "2022-11-06T03:32:42.512820Z",
     "shell.execute_reply": "2022-11-06T03:32:42.512733Z",
     "shell.execute_reply.started": "2022-11-06T03:32:42.512724Z"
    },
    "tags": []
   },
   "outputs": [],
   "source": [
    "esex = {tmp2.at[i, 'Subject Number']: tmp2.at[i, 'efemale'] for i in tmp2.index}"
   ]
  },
  {
   "cell_type": "code",
   "execution_count": null,
   "id": "e23d2a30-73cb-4e5d-a3ea-56e8a1510e9d",
   "metadata": {
    "execution": {
     "iopub.status.busy": "2022-11-06T03:32:42.513307Z",
     "iopub.status.idle": "2022-11-06T03:32:42.513592Z",
     "shell.execute_reply": "2022-11-06T03:32:42.513501Z",
     "shell.execute_reply.started": "2022-11-06T03:32:42.513491Z"
    },
    "tags": []
   },
   "outputs": [],
   "source": [
    "# tmp1['efemale'] = tmp1['egoid'].map(lambda i: esex[i])\n",
    "# tmp1.head()"
   ]
  },
  {
   "cell_type": "code",
   "execution_count": null,
   "id": "0a1d163a-31df-4fd3-a500-4eac9cc3e4c7",
   "metadata": {
    "execution": {
     "iopub.status.busy": "2022-11-06T03:32:42.513993Z",
     "iopub.status.idle": "2022-11-06T03:32:42.514179Z",
     "shell.execute_reply": "2022-11-06T03:32:42.514090Z",
     "shell.execute_reply.started": "2022-11-06T03:32:42.514081Z"
    },
    "tags": []
   },
   "outputs": [],
   "source": [
    "tmp1['a8'] = tmp1['alter'].map(lambda i: i[-8:])\n",
    "tmp1.head()"
   ]
  },
  {
   "cell_type": "code",
   "execution_count": null,
   "id": "a679289d-8d67-4a4b-ae72-640e07099ae3",
   "metadata": {
    "execution": {
     "iopub.status.busy": "2022-11-06T03:32:42.514801Z",
     "iopub.status.idle": "2022-11-06T03:32:42.515055Z",
     "shell.execute_reply": "2022-11-06T03:32:42.514950Z",
     "shell.execute_reply.started": "2022-11-06T03:32:42.514940Z"
    },
    "tags": []
   },
   "outputs": [],
   "source": [
    "# cols = ['aid', 'afemale', 'related', 'sameGen', 'ec1', 'ec2', 'ec3', 'alter1', 'alter2', 'alter3']\n",
    "# t0 = dt.datetime.now()\n",
    "# uk = pd.DataFrame()\n",
    "# for eid in range(1, 31):\n",
    "#     thisego = pd.DataFrame()\n",
    "#     df1 = tmp1.loc[tmp1['egoid'] == eid]\n",
    "#     df2 = pd.read_csv(f\"../ukdata/data_to_Eduardo/egos_attributeSummaries/ego{eid}_attributeSummary.dat\", na_values=-999, header=None, names=cols, sep=\" \", dtype={'alter1': str, 'alter2': str, 'alter3': str})\n",
    "#     for aid in df2.index:\n",
    "#         nums = [df2.at[aid, col] for col in ['alter1', 'alter2', 'alter3'] if pd.isnull(df2.at[aid, col]) == False]\n",
    "#         if len(thisego) > 0:\n",
    "#             nums = [n for n in nums if n not in thisego['a8'].unique()]\n",
    "#         df3 = df1[df1['a8'].isin(nums)].copy()\n",
    "#         df3['aid'] = aid\n",
    "#         df4 = df3.merge(df2[['aid', 'afemale', 'related', 'sameGen', 'ec1', 'ec2', 'ec3']], on='aid', how='left')\n",
    "#         thisego = thisego.append(df4)\n",
    "#     uk = uk.append(thisego)\n",
    "# print(f'Took {dt.datetime.now() - t0}')"
   ]
  },
  {
   "cell_type": "code",
   "execution_count": null,
   "id": "54cd4742-1776-416b-8e2f-008875d8c2f5",
   "metadata": {
    "execution": {
     "iopub.status.busy": "2022-11-06T03:32:42.515650Z",
     "iopub.status.idle": "2022-11-06T03:32:42.515839Z",
     "shell.execute_reply": "2022-11-06T03:32:42.515750Z",
     "shell.execute_reply.started": "2022-11-06T03:32:42.515741Z"
    },
    "tags": []
   },
   "outputs": [],
   "source": [
    "uk['efemale'].value_counts()"
   ]
  },
  {
   "cell_type": "code",
   "execution_count": null,
   "id": "6da9e578-58d8-49ee-89a4-1cdd038de609",
   "metadata": {
    "execution": {
     "iopub.status.busy": "2022-11-06T03:32:42.516392Z",
     "iopub.status.idle": "2022-11-06T03:32:42.516584Z",
     "shell.execute_reply": "2022-11-06T03:32:42.516495Z",
     "shell.execute_reply.started": "2022-11-06T03:32:42.516485Z"
    },
    "tags": []
   },
   "outputs": [],
   "source": [
    "len(uk['pair'].unique())"
   ]
  },
  {
   "cell_type": "code",
   "execution_count": null,
   "id": "66ff2acd-9dbd-43a2-9264-dfa1d021e539",
   "metadata": {
    "execution": {
     "iopub.status.busy": "2022-11-06T03:32:42.517019Z",
     "iopub.status.idle": "2022-11-06T03:32:42.517206Z",
     "shell.execute_reply": "2022-11-06T03:32:42.517117Z",
     "shell.execute_reply.started": "2022-11-06T03:32:42.517108Z"
    },
    "tags": []
   },
   "outputs": [],
   "source": [
    "tmp1['efemale'].value_counts()"
   ]
  },
  {
   "cell_type": "code",
   "execution_count": null,
   "id": "50bb0dd1-c292-4a0a-910f-e29e5e09e322",
   "metadata": {
    "execution": {
     "iopub.status.busy": "2022-11-06T03:32:42.517619Z",
     "iopub.status.idle": "2022-11-06T03:32:42.517947Z",
     "shell.execute_reply": "2022-11-06T03:32:42.517855Z",
     "shell.execute_reply.started": "2022-11-06T03:32:42.517845Z"
    },
    "tags": []
   },
   "outputs": [],
   "source": [
    "len(tmp1['pair'].unique())"
   ]
  },
  {
   "cell_type": "code",
   "execution_count": null,
   "id": "4927f9ad-7e62-4fd4-b98c-8e60bae2cc7e",
   "metadata": {
    "execution": {
     "iopub.status.busy": "2022-11-06T03:32:42.518370Z",
     "iopub.status.idle": "2022-11-06T03:32:42.518557Z",
     "shell.execute_reply": "2022-11-06T03:32:42.518467Z",
     "shell.execute_reply.started": "2022-11-06T03:32:42.518458Z"
    },
    "tags": []
   },
   "outputs": [],
   "source": [
    "uk.loc[(uk['egoid'] == 1) & (uk['aid'] == 5)]"
   ]
  },
  {
   "cell_type": "code",
   "execution_count": null,
   "id": "c42f1b94-ed13-48d7-a708-00668a7de1be",
   "metadata": {
    "execution": {
     "iopub.status.busy": "2022-11-06T03:32:42.519032Z",
     "iopub.status.idle": "2022-11-06T03:32:42.519266Z",
     "shell.execute_reply": "2022-11-06T03:32:42.519177Z",
     "shell.execute_reply.started": "2022-11-06T03:32:42.519168Z"
    },
    "tags": []
   },
   "outputs": [],
   "source": [
    "tmp1.loc[tmp1['a8'] == '47717624']"
   ]
  },
  {
   "cell_type": "code",
   "execution_count": null,
   "id": "a4847e4d-f4bd-4801-ad17-7636c9a35a1e",
   "metadata": {
    "execution": {
     "iopub.status.busy": "2022-11-06T03:32:42.519719Z",
     "iopub.status.idle": "2022-11-06T03:32:42.519907Z",
     "shell.execute_reply": "2022-11-06T03:32:42.519818Z",
     "shell.execute_reply.started": "2022-11-06T03:32:42.519808Z"
    },
    "tags": []
   },
   "outputs": [],
   "source": [
    "df2 = pd.read_csv(f\"../ukdata/data_to_Eduardo/egos_attributeSummaries/ego1_attributeSummary.dat\", na_values=-999, header=None, names=cols, sep=\" \", dtype={'alter1': str, 'alter2': str, 'alter2': str})\n",
    "df2.head(6)"
   ]
  },
  {
   "cell_type": "code",
   "execution_count": null,
   "id": "ca0803c7-0f4a-490c-93c5-50458f6f0326",
   "metadata": {
    "execution": {
     "iopub.status.busy": "2022-11-06T03:32:42.520461Z",
     "iopub.status.idle": "2022-11-06T03:32:42.520648Z",
     "shell.execute_reply": "2022-11-06T03:32:42.520559Z",
     "shell.execute_reply.started": "2022-11-06T03:32:42.520549Z"
    },
    "tags": []
   },
   "outputs": [],
   "source": [
    "df1 = tmp1.loc[tmp1['egoid'] == 1]"
   ]
  },
  {
   "cell_type": "code",
   "execution_count": null,
   "id": "28bc4baa-d43d-4614-9571-84869e7333cf",
   "metadata": {
    "execution": {
     "iopub.status.busy": "2022-11-06T03:32:42.521182Z",
     "iopub.status.idle": "2022-11-06T03:32:42.521368Z",
     "shell.execute_reply": "2022-11-06T03:32:42.521279Z",
     "shell.execute_reply.started": "2022-11-06T03:32:42.521270Z"
    },
    "tags": []
   },
   "outputs": [],
   "source": [
    "df1.loc[df1['a8'] == '47717624']"
   ]
  },
  {
   "cell_type": "code",
   "execution_count": null,
   "id": "94d9074e-7c01-4a49-9de7-1eccc4d50146",
   "metadata": {
    "execution": {
     "iopub.status.busy": "2022-11-06T03:32:42.521896Z",
     "iopub.status.idle": "2022-11-06T03:32:42.522145Z",
     "shell.execute_reply": "2022-11-06T03:32:42.522054Z",
     "shell.execute_reply.started": "2022-11-06T03:32:42.522044Z"
    },
    "tags": []
   },
   "outputs": [],
   "source": [
    "eidd"
   ]
  },
  {
   "cell_type": "code",
   "execution_count": null,
   "id": "f4711c23-f319-487c-aa53-5157cecaa4c0",
   "metadata": {
    "execution": {
     "iopub.status.busy": "2022-11-06T03:32:42.522574Z",
     "iopub.status.idle": "2022-11-06T03:32:42.522762Z",
     "shell.execute_reply": "2022-11-06T03:32:42.522672Z",
     "shell.execute_reply.started": "2022-11-06T03:32:42.522663Z"
    },
    "tags": []
   },
   "outputs": [],
   "source": [
    "nums = [df2.at[5, col] for col in ['alter1', 'alter2', 'alter3'] if pd.isnull(df2.at[5, col]) == False]\n",
    "nums"
   ]
  },
  {
   "cell_type": "code",
   "execution_count": null,
   "id": "7bb908dd-23c6-4e8c-935e-3b8c0bbbf515",
   "metadata": {
    "execution": {
     "iopub.status.busy": "2022-11-06T03:32:42.523210Z",
     "iopub.status.idle": "2022-11-06T03:32:42.523396Z",
     "shell.execute_reply": "2022-11-06T03:32:42.523307Z",
     "shell.execute_reply.started": "2022-11-06T03:32:42.523298Z"
    },
    "tags": []
   },
   "outputs": [],
   "source": [
    "# tmp1 = tmp1.sort_values(by=['ego', 'alter', 'time']).reset_index(drop=True)\n",
    "# tmp1.to_csv(\"data/UKc.txt\", index=False, header=True, sep=\"\\t\")"
   ]
  },
  {
   "cell_type": "code",
   "execution_count": null,
   "id": "c55168f8-fa3b-436b-9b19-82a31c37e426",
   "metadata": {
    "execution": {
     "iopub.status.busy": "2022-11-06T03:32:42.523850Z",
     "iopub.status.idle": "2022-11-06T03:32:42.524124Z",
     "shell.execute_reply": "2022-11-06T03:32:42.524031Z",
     "shell.execute_reply.started": "2022-11-06T03:32:42.524021Z"
    },
    "tags": []
   },
   "outputs": [],
   "source": [
    "# with open(\"data/UKc.pkl\", 'wb') as f:\n",
    "#     pickle.dump(tmp1, f)\n",
    "#     f.close()"
   ]
  },
  {
   "cell_type": "markdown",
   "id": "a23031a5-37a0-48bc-bcf8-8bc6d3b71963",
   "metadata": {},
   "source": [
    "### Potential problem\n",
    "Since I detected that some numbers for alters do not match their egos, I went back to the original files and tried to identify which cases are these."
   ]
  },
  {
   "cell_type": "code",
   "execution_count": null,
   "id": "419cb996-d1f0-405b-8b04-12e3bbb48bb5",
   "metadata": {
    "execution": {
     "iopub.status.busy": "2022-11-06T03:32:42.524544Z",
     "iopub.status.idle": "2022-11-06T03:32:42.524730Z",
     "shell.execute_reply": "2022-11-06T03:32:42.524642Z",
     "shell.execute_reply.started": "2022-11-06T03:32:42.524632Z"
    },
    "scrolled": true,
    "tags": []
   },
   "outputs": [],
   "source": [
    "with open(\"../ukdata/bills/AA_07974-937603.txt\", 'r') as file:\n",
    "    for line in file.readlines():\n",
    "        a = line.rsplit()\n",
    "        if len(a) == 1:\n",
    "            print(a)\n",
    "        elif len(a) == 9:\n",
    "            print(a)\n",
    "        else:\n",
    "            print(a)"
   ]
  },
  {
   "cell_type": "markdown",
   "id": "509798ac-8398-4ee2-9a6b-45bff93371b6",
   "metadata": {},
   "source": [
    "## UK: Texts"
   ]
  },
  {
   "cell_type": "code",
   "execution_count": null,
   "id": "e989839b-8ddc-4dc8-a566-03ed0261d95f",
   "metadata": {
    "execution": {
     "iopub.status.busy": "2022-11-06T03:32:42.525253Z",
     "iopub.status.idle": "2022-11-06T03:32:42.525440Z",
     "shell.execute_reply": "2022-11-06T03:32:42.525351Z",
     "shell.execute_reply.started": "2022-11-06T03:32:42.525341Z"
    },
    "tags": []
   },
   "outputs": [],
   "source": [
    "tmp1 = pc.allcalls(\"../ukdata/collected_dunbar_calls_v3_e26OK_sorted.csv\", (3, 'text'), 1, 2, [6,7], '%d/%m/%y %H:%M', header=False, min_activity=1)\n",
    "tmp1.head()"
   ]
  },
  {
   "cell_type": "code",
   "execution_count": null,
   "id": "0a23e80c-f542-418f-87f7-9c60ed8f6ada",
   "metadata": {
    "execution": {
     "iopub.status.busy": "2022-11-06T03:32:42.525956Z",
     "iopub.status.idle": "2022-11-06T03:32:42.526144Z",
     "shell.execute_reply": "2022-11-06T03:32:42.526055Z",
     "shell.execute_reply.started": "2022-11-06T03:32:42.526045Z"
    },
    "tags": []
   },
   "outputs": [],
   "source": [
    "max(tmp1['t'])"
   ]
  },
  {
   "cell_type": "code",
   "execution_count": null,
   "id": "d1458d35-827e-41eb-96bb-c8ffd5573676",
   "metadata": {
    "execution": {
     "iopub.status.busy": "2022-11-06T03:32:42.526611Z",
     "iopub.status.idle": "2022-11-06T03:32:42.526799Z",
     "shell.execute_reply": "2022-11-06T03:32:42.526709Z",
     "shell.execute_reply.started": "2022-11-06T03:32:42.526699Z"
    },
    "tags": []
   },
   "outputs": [],
   "source": [
    "# tmp1 = tmp1.sort_values(by=['ego', 'alter', 'time']).reset_index(drop=True)\n",
    "# tmp1.to_csv(\"data/UKt.txt\", index=False, header=True, sep=\"\\t\")"
   ]
  },
  {
   "cell_type": "code",
   "execution_count": null,
   "id": "79336c6a-ff9c-4922-b39f-3aac96da08a0",
   "metadata": {
    "execution": {
     "iopub.status.busy": "2022-11-06T03:32:42.527326Z",
     "iopub.status.idle": "2022-11-06T03:32:42.527513Z",
     "shell.execute_reply": "2022-11-06T03:32:42.527424Z",
     "shell.execute_reply.started": "2022-11-06T03:32:42.527414Z"
    },
    "tags": []
   },
   "outputs": [],
   "source": [
    "# with open(\"data/UKt.pkl\", 'wb') as f:\n",
    "#     pickle.dump(tmp1, f)\n",
    "#     f.close()"
   ]
  },
  {
   "cell_type": "markdown",
   "id": "920a7562-d671-4a18-a246-c46cfe65d05d",
   "metadata": {
    "execution": {
     "iopub.execute_input": "2022-03-01T19:28:23.181323Z",
     "iopub.status.busy": "2022-03-01T19:28:23.180762Z",
     "iopub.status.idle": "2022-03-01T19:28:23.363294Z",
     "shell.execute_reply": "2022-03-01T19:28:23.362485Z",
     "shell.execute_reply.started": "2022-03-01T19:28:23.181288Z"
    },
    "tags": []
   },
   "source": [
    "## US: Calls"
   ]
  },
  {
   "cell_type": "code",
   "execution_count": null,
   "id": "90ad1c2e-1d64-434a-aa1b-00dba14ae9e5",
   "metadata": {
    "execution": {
     "iopub.status.busy": "2022-11-06T03:32:42.528076Z",
     "iopub.status.idle": "2022-11-06T03:32:42.528271Z",
     "shell.execute_reply": "2022-11-06T03:32:42.528180Z",
     "shell.execute_reply.started": "2022-11-06T03:32:42.528170Z"
    },
    "tags": []
   },
   "outputs": [],
   "source": [
    "tmp1 = pc.allcalls('../usadata/CallLog.csv', ('type', 'outgoing', 'outgoing+', 'missed'), 'participantID.A', 'number.hash', \n",
    "                                ['local_time'], \"%Y-%m-%d %H:%M:%S\", header=True, min_activity=1)\n",
    "tmp1.head()"
   ]
  },
  {
   "cell_type": "code",
   "execution_count": null,
   "id": "eea0dcde-c443-4c0c-bcbd-ae74b221869d",
   "metadata": {
    "execution": {
     "iopub.status.busy": "2022-11-06T03:32:42.528951Z",
     "iopub.status.idle": "2022-11-06T03:32:42.529234Z",
     "shell.execute_reply": "2022-11-06T03:32:42.529142Z",
     "shell.execute_reply.started": "2022-11-06T03:32:42.529131Z"
    },
    "tags": []
   },
   "outputs": [],
   "source": [
    "len(tmp1['pair'].unique())"
   ]
  },
  {
   "cell_type": "code",
   "execution_count": null,
   "id": "a6b95d54-f2fe-4276-b90d-bd59af96d5ce",
   "metadata": {
    "execution": {
     "iopub.status.busy": "2022-11-06T03:32:42.529607Z",
     "iopub.status.idle": "2022-11-06T03:32:42.529791Z",
     "shell.execute_reply": "2022-11-06T03:32:42.529704Z",
     "shell.execute_reply.started": "2022-11-06T03:32:42.529694Z"
    },
    "tags": []
   },
   "outputs": [],
   "source": [
    "# tmp1 = tmp1.sort_values(by=['ego', 'alter', 'time']).reset_index(drop=True)\n",
    "# tmp1.to_csv(\"data/USc.txt\", index=False, header=True, sep=\"\\t\")"
   ]
  },
  {
   "cell_type": "code",
   "execution_count": null,
   "id": "860dc404-9d73-405a-be92-f2e19fcae46f",
   "metadata": {
    "execution": {
     "iopub.status.busy": "2022-11-06T03:32:42.530331Z",
     "iopub.status.idle": "2022-11-06T03:32:42.530519Z",
     "shell.execute_reply": "2022-11-06T03:32:42.530431Z",
     "shell.execute_reply.started": "2022-11-06T03:32:42.530421Z"
    },
    "tags": []
   },
   "outputs": [],
   "source": [
    "# with open(\"data/USc.pkl\", 'wb') as f:\n",
    "#     pickle.dump(tmp1, f)\n",
    "#     f.close()"
   ]
  },
  {
   "cell_type": "markdown",
   "id": "36bc4fd0-580b-480d-88a7-ef0aef7ea934",
   "metadata": {},
   "source": [
    "### US with duration "
   ]
  },
  {
   "cell_type": "code",
   "execution_count": null,
   "id": "2bec4599-bf5a-4a3e-a656-5d4a107dde71",
   "metadata": {
    "execution": {
     "iopub.status.busy": "2022-11-06T03:32:42.531073Z",
     "iopub.status.idle": "2022-11-06T03:32:42.531259Z",
     "shell.execute_reply": "2022-11-06T03:32:42.531171Z",
     "shell.execute_reply.started": "2022-11-06T03:32:42.531162Z"
    },
    "tags": []
   },
   "outputs": [],
   "source": [
    "testing = pd.read_csv('../usadata/CallLog.csv')\n",
    "testing['pair'] = list(zip(testing['participantID.A'], testing['number.hash']))\n",
    "print(len(testing['pair'].unique()))\n",
    "testing.head()"
   ]
  },
  {
   "cell_type": "code",
   "execution_count": null,
   "id": "cac630f8-de75-43b7-bd2f-ff6a21037736",
   "metadata": {
    "execution": {
     "iopub.status.busy": "2022-11-06T03:32:42.531825Z",
     "iopub.status.idle": "2022-11-06T03:32:42.532014Z",
     "shell.execute_reply": "2022-11-06T03:32:42.531924Z",
     "shell.execute_reply.started": "2022-11-06T03:32:42.531914Z"
    },
    "tags": []
   },
   "outputs": [],
   "source": [
    "newdf = testing[testing['type'].isin(['outgoing', 'outgoing+'])]\n",
    "len(newdf['pair'].unique())"
   ]
  },
  {
   "cell_type": "code",
   "execution_count": null,
   "id": "70d0e8d7-c707-449d-80fc-591851139c22",
   "metadata": {
    "execution": {
     "iopub.status.busy": "2022-11-06T03:32:42.532459Z",
     "iopub.status.idle": "2022-11-06T03:32:42.532646Z",
     "shell.execute_reply": "2022-11-06T03:32:42.532558Z",
     "shell.execute_reply.started": "2022-11-06T03:32:42.532548Z"
    },
    "tags": []
   },
   "outputs": [],
   "source": [
    "newdf['time'] = pd.to_datetime(newdf['local_time'], format=\"%Y-%m-%d %H:%M:%S\")\n",
    "newdf['date'] = newdf['time'].map(lambda i: i.strftime('%Y-%m-%d'))\n",
    "newdf['date'] = pd.to_datetime(newdf['date'], format='%Y-%m-%d')\n",
    "newdf.head()"
   ]
  },
  {
   "cell_type": "code",
   "execution_count": null,
   "id": "84631dc3-fe8b-4fd1-bd39-278ba0d00a4e",
   "metadata": {
    "execution": {
     "iopub.status.busy": "2022-11-06T03:32:42.533100Z",
     "iopub.status.idle": "2022-11-06T03:32:42.533288Z",
     "shell.execute_reply": "2022-11-06T03:32:42.533199Z",
     "shell.execute_reply.started": "2022-11-06T03:32:42.533189Z"
    },
    "tags": []
   },
   "outputs": [],
   "source": [
    "newdf.columns = ['ego', 'dwcfwdcw', 'dwfwefwefwe', 'dwfwefwefwe', 'duration', 'alter', 'pair', 'time', 'date']\n",
    "newdf = newdf[['ego', 'alter', 'pair', 'duration', 'time', 'date']]\n",
    "newdf.head()"
   ]
  },
  {
   "cell_type": "code",
   "execution_count": null,
   "id": "47baa87e-19f8-44f5-af5d-41105d9c4ca3",
   "metadata": {
    "execution": {
     "iopub.status.busy": "2022-11-06T03:32:42.533798Z",
     "iopub.status.idle": "2022-11-06T03:32:42.534046Z",
     "shell.execute_reply": "2022-11-06T03:32:42.533956Z",
     "shell.execute_reply.started": "2022-11-06T03:32:42.533946Z"
    },
    "tags": []
   },
   "outputs": [],
   "source": [
    "newdf = newdf.sort_values(by=['alter', 'ego', 'time'], ascending=[True, True, True]).reset_index(drop=True)\n",
    "mindate = min(newdf['date'])\n",
    "newdf['t'] = newdf['date'].map(lambda i: (i - mindate).days)\n",
    "t0i = newdf.groupby('pair')['date'].min().rename({'date': 't0i'}, axis='columns')\n",
    "newdf['a'] = newdf.index.map(lambda i: (newdf.at[i, 'date'] - t0i[newdf.at[i, 'pair']]).days)\n",
    "newdf.head()"
   ]
  },
  {
   "cell_type": "code",
   "execution_count": null,
   "id": "8e35d7fa-f565-4f43-bd71-42c02a700319",
   "metadata": {
    "execution": {
     "iopub.status.busy": "2022-11-06T03:32:42.534540Z",
     "iopub.status.idle": "2022-11-06T03:32:42.534727Z",
     "shell.execute_reply": "2022-11-06T03:32:42.534638Z",
     "shell.execute_reply.started": "2022-11-06T03:32:42.534628Z"
    },
    "tags": []
   },
   "outputs": [],
   "source": [
    "newdf['ego'] = newdf['ego'].map(lambda i: hex(hash(i)))\n",
    "newdf['alter'] = newdf['alter'].map(lambda i: hex(hash(i)))\n",
    "newdf['pair'] = newdf['pair'].map(lambda i: hex(hash(i)))\n",
    "newdf.head()"
   ]
  },
  {
   "cell_type": "code",
   "execution_count": null,
   "id": "8a8ddc0c-355a-48e3-8655-b0302e8d53fd",
   "metadata": {
    "execution": {
     "iopub.status.busy": "2022-11-06T03:32:42.535313Z",
     "iopub.status.idle": "2022-11-06T03:32:42.535501Z",
     "shell.execute_reply": "2022-11-06T03:32:42.535411Z",
     "shell.execute_reply.started": "2022-11-06T03:32:42.535402Z"
    },
    "tags": []
   },
   "outputs": [],
   "source": [
    "hex(hash('fa10-01-19'))"
   ]
  },
  {
   "cell_type": "code",
   "execution_count": null,
   "id": "eb0beaf3-61f0-4c8a-8cfc-2846faa4ec30",
   "metadata": {
    "execution": {
     "iopub.status.busy": "2022-11-06T03:32:42.536046Z",
     "iopub.status.idle": "2022-11-06T03:32:42.536233Z",
     "shell.execute_reply": "2022-11-06T03:32:42.536145Z",
     "shell.execute_reply.started": "2022-11-06T03:32:42.536135Z"
    },
    "tags": []
   },
   "outputs": [],
   "source": [
    "us = newdf.copy(deep=True)"
   ]
  },
  {
   "cell_type": "code",
   "execution_count": null,
   "id": "d38990e3-c810-48b1-9418-289e98b9a9a9",
   "metadata": {
    "execution": {
     "iopub.status.busy": "2022-11-06T03:32:42.536670Z",
     "iopub.status.idle": "2022-11-06T03:32:42.536861Z",
     "shell.execute_reply": "2022-11-06T03:32:42.536768Z",
     "shell.execute_reply.started": "2022-11-06T03:32:42.536759Z"
    },
    "tags": []
   },
   "outputs": [],
   "source": [
    "us.sort_values(by=['alter', 'ego', 'time'], ascending=[True, True, True], inplace=True)\n",
    "t0i = us.groupby('ego')['date'].min()\n",
    "us['tau'] = us.index.map(lambda i: (us.at[i, 'date'] - t0i[us.at[i, 'ego']]).days)\n",
    "us.head()"
   ]
  },
  {
   "cell_type": "code",
   "execution_count": null,
   "id": "d39aacc3-6f3e-44dd-a2ca-f58fed473ef3",
   "metadata": {
    "execution": {
     "iopub.status.busy": "2022-11-06T03:32:42.537478Z",
     "iopub.status.idle": "2022-11-06T03:32:42.537689Z",
     "shell.execute_reply": "2022-11-06T03:32:42.537580Z",
     "shell.execute_reply.started": "2022-11-06T03:32:42.537570Z"
    },
    "tags": []
   },
   "outputs": [],
   "source": [
    "us = us[['ego', 'alter', 'pair', 'duration', 'time', 'date', 't', 'tau', 'a']].reset_index(drop=True)\n",
    "us.head()"
   ]
  },
  {
   "cell_type": "code",
   "execution_count": null,
   "id": "98967df4-0fdc-4077-8805-9da0193a06ce",
   "metadata": {
    "execution": {
     "iopub.status.busy": "2022-11-06T03:32:42.538234Z",
     "iopub.status.idle": "2022-11-06T03:32:42.538426Z",
     "shell.execute_reply": "2022-11-06T03:32:42.538336Z",
     "shell.execute_reply.started": "2022-11-06T03:32:42.538326Z"
    },
    "tags": []
   },
   "outputs": [],
   "source": [
    "[min(us['t']), max(us['t']), min(us['a']), max(us['a'])]"
   ]
  },
  {
   "cell_type": "code",
   "execution_count": null,
   "id": "e74fb2a4-bcf5-4a19-80ab-ffce06d85c36",
   "metadata": {
    "execution": {
     "iopub.status.busy": "2022-11-06T03:32:42.539010Z",
     "iopub.status.idle": "2022-11-06T03:32:42.539200Z",
     "shell.execute_reply": "2022-11-06T03:32:42.539110Z",
     "shell.execute_reply.started": "2022-11-06T03:32:42.539100Z"
    },
    "tags": []
   },
   "outputs": [],
   "source": [
    "len(us['pair'].unique())"
   ]
  },
  {
   "cell_type": "code",
   "execution_count": null,
   "id": "ae0a8648-3397-4ddd-b4ae-f817030e8994",
   "metadata": {
    "execution": {
     "iopub.status.busy": "2022-11-06T03:32:42.539661Z",
     "iopub.status.idle": "2022-11-06T03:32:42.539852Z",
     "shell.execute_reply": "2022-11-06T03:32:42.539762Z",
     "shell.execute_reply.started": "2022-11-06T03:32:42.539752Z"
    },
    "tags": []
   },
   "outputs": [],
   "source": [
    "# us.to_csv(\"data/USc.txt\", index=False, header=True, sep=\"\\t\")"
   ]
  },
  {
   "cell_type": "markdown",
   "id": "70cc91a6-5227-456e-864e-23a3046943d8",
   "metadata": {},
   "source": [
    "### Personality Traits"
   ]
  },
  {
   "cell_type": "code",
   "execution_count": null,
   "id": "2168884c-0946-4cbe-aa5e-0d428838c18f",
   "metadata": {
    "execution": {
     "iopub.status.busy": "2022-11-06T03:32:42.540481Z",
     "iopub.status.idle": "2022-11-06T03:32:42.540667Z",
     "shell.execute_reply": "2022-11-06T03:32:42.540579Z",
     "shell.execute_reply.started": "2022-11-06T03:32:42.540569Z"
    },
    "tags": []
   },
   "outputs": [],
   "source": [
    "pt = pd.read_csv(\"../usadata/DataRelease/SurveyBig5.csv\")\n",
    "pt.columns"
   ]
  },
  {
   "cell_type": "code",
   "execution_count": null,
   "id": "ab6bd8d1-b9bc-4881-87e1-6de3e09bf034",
   "metadata": {
    "execution": {
     "iopub.status.busy": "2022-11-06T03:32:42.541207Z",
     "iopub.status.idle": "2022-11-06T03:32:42.541398Z",
     "shell.execute_reply": "2022-11-06T03:32:42.541306Z",
     "shell.execute_reply.started": "2022-11-06T03:32:42.541297Z"
    },
    "tags": []
   },
   "outputs": [],
   "source": [
    "pt = pt.rename(columns={'Unnamed: 0': 'ego'})\n",
    "pt.head()"
   ]
  },
  {
   "cell_type": "code",
   "execution_count": null,
   "id": "fc468553-c262-43fa-8e0e-509a20ae4cd5",
   "metadata": {
    "execution": {
     "iopub.status.busy": "2022-11-06T03:32:42.542267Z",
     "iopub.status.idle": "2022-11-06T03:32:42.542604Z",
     "shell.execute_reply": "2022-11-06T03:32:42.542432Z",
     "shell.execute_reply.started": "2022-11-06T03:32:42.542417Z"
    },
    "tags": []
   },
   "outputs": [],
   "source": [
    "for col in [2,6,8,9,12,18,21,23,24,27,31,34,35,37,41,43]:\n",
    "    pt[f'Q{col}'] = 6 - pt[f'Q{col}']\n",
    "pt.head()"
   ]
  },
  {
   "cell_type": "code",
   "execution_count": null,
   "id": "c95573fc-b0ab-43b2-aa49-f6b11a2c14eb",
   "metadata": {
    "execution": {
     "iopub.status.busy": "2022-11-06T03:32:42.543311Z",
     "iopub.status.idle": "2022-11-06T03:32:42.543647Z",
     "shell.execute_reply": "2022-11-06T03:32:42.543466Z",
     "shell.execute_reply.started": "2022-11-06T03:32:42.543451Z"
    },
    "tags": []
   },
   "outputs": [],
   "source": [
    "pt['ego'] = pt['ego'].map(lambda i: i.lower())\n",
    "pt.head()"
   ]
  },
  {
   "cell_type": "code",
   "execution_count": null,
   "id": "ef1d7f88-c08f-4ada-9e42-42a518ce46ce",
   "metadata": {
    "execution": {
     "iopub.status.busy": "2022-11-06T03:32:42.544402Z",
     "iopub.status.idle": "2022-11-06T03:32:42.544709Z",
     "shell.execute_reply": "2022-11-06T03:32:42.544563Z",
     "shell.execute_reply.started": "2022-11-06T03:32:42.544548Z"
    },
    "tags": []
   },
   "outputs": [],
   "source": [
    "hex(hash(pt.at[0, 'ego'])) in  us['ego'].unique()"
   ]
  },
  {
   "cell_type": "code",
   "execution_count": null,
   "id": "316b330c-60bb-4730-87d4-1a4f9bade9aa",
   "metadata": {
    "execution": {
     "iopub.status.busy": "2022-11-06T03:32:42.545704Z",
     "iopub.status.idle": "2022-11-06T03:32:42.546007Z",
     "shell.execute_reply": "2022-11-06T03:32:42.545862Z",
     "shell.execute_reply.started": "2022-11-06T03:32:42.545847Z"
    },
    "tags": []
   },
   "outputs": [],
   "source": [
    "pt['ego'] = pt['ego'].map(lambda i: hex(hash(i)))"
   ]
  },
  {
   "cell_type": "code",
   "execution_count": null,
   "id": "c8873ffb-85af-4f52-b377-a7b4a2aae6bb",
   "metadata": {
    "execution": {
     "iopub.status.busy": "2022-11-06T03:32:42.546688Z",
     "iopub.status.idle": "2022-11-06T03:32:42.546927Z",
     "shell.execute_reply": "2022-11-06T03:32:42.546794Z",
     "shell.execute_reply.started": "2022-11-06T03:32:42.546785Z"
    },
    "tags": []
   },
   "outputs": [],
   "source": [
    "pt['extraversion'] = pt[[f'Q{col}' for col in [1,6,11,16,21,26,31,36]]].sum(axis=1).astype(int)\n",
    "pt.head()"
   ]
  },
  {
   "cell_type": "code",
   "execution_count": null,
   "id": "dbbffb62-3fb6-47bb-a931-dfb516d85fe1",
   "metadata": {
    "execution": {
     "iopub.status.busy": "2022-11-06T03:32:42.547520Z",
     "iopub.status.idle": "2022-11-06T03:32:42.547802Z",
     "shell.execute_reply": "2022-11-06T03:32:42.547632Z",
     "shell.execute_reply.started": "2022-11-06T03:32:42.547622Z"
    },
    "tags": []
   },
   "outputs": [],
   "source": [
    "pt['agreeableness'] = pt[[f'Q{col}' for col in [2,7,12,17,22,27,32,37,42]]].sum(axis=1).astype(int)\n",
    "pt['conscientiousness'] = pt[[f'Q{col}' for col in [3,8,13,18,23,28,33,38,43]]].sum(axis=1).astype(int)\n",
    "pt['neuroticism'] = pt[[f'Q{col}' for col in [4,9,14,19,24,29,34,39]]].sum(axis=1).astype(int)\n",
    "pt['openness'] = pt[[f'Q{col}' for col in [5,10,15,20,25,30,35,40,41,44]]].sum(axis=1).astype(int)"
   ]
  },
  {
   "cell_type": "code",
   "execution_count": null,
   "id": "58639874-d4ab-4ff5-bbd1-459d77c8cb81",
   "metadata": {
    "execution": {
     "iopub.status.busy": "2022-11-06T03:32:42.548570Z",
     "iopub.status.idle": "2022-11-06T03:32:42.548769Z",
     "shell.execute_reply": "2022-11-06T03:32:42.548677Z",
     "shell.execute_reply.started": "2022-11-06T03:32:42.548667Z"
    },
    "tags": []
   },
   "outputs": [],
   "source": [
    "pt.head()"
   ]
  },
  {
   "cell_type": "code",
   "execution_count": null,
   "id": "15335d1d-086e-4266-a6a4-2e49487b7131",
   "metadata": {
    "execution": {
     "iopub.status.busy": "2022-11-06T03:32:42.549475Z",
     "iopub.status.idle": "2022-11-06T03:32:42.549726Z",
     "shell.execute_reply": "2022-11-06T03:32:42.549634Z",
     "shell.execute_reply.started": "2022-11-06T03:32:42.549624Z"
    },
    "tags": []
   },
   "outputs": [],
   "source": [
    "colnames = pt.iloc[:, -5:].columns\n",
    "personality = {}\n",
    "personality['us'] = pd.DataFrame({col: list(pt[col]) for col in colnames}, index=pt['ego'])\n",
    "personality['us'].head()"
   ]
  },
  {
   "cell_type": "code",
   "execution_count": null,
   "id": "51908b89-405f-4238-889b-3edbd2d69e46",
   "metadata": {
    "execution": {
     "iopub.status.busy": "2022-11-06T03:32:42.550448Z",
     "iopub.status.idle": "2022-11-06T03:32:42.550708Z",
     "shell.execute_reply": "2022-11-06T03:32:42.550552Z",
     "shell.execute_reply.started": "2022-11-06T03:32:42.550543Z"
    },
    "tags": []
   },
   "outputs": [],
   "source": [
    "for i in personality['us'].index:\n",
    "    if i not in us['ego'].unique():\n",
    "        print(f'Problem with {i}')"
   ]
  },
  {
   "cell_type": "markdown",
   "id": "78329c23-1db7-4ef5-81ed-02e17e12510a",
   "metadata": {},
   "source": [
    "## US: Texts"
   ]
  },
  {
   "cell_type": "code",
   "execution_count": null,
   "id": "18567eee-51a7-4c5a-8a3e-c26855a1e9fc",
   "metadata": {
    "execution": {
     "iopub.status.busy": "2022-11-06T03:32:42.551327Z",
     "iopub.status.idle": "2022-11-06T03:32:42.551554Z",
     "shell.execute_reply": "2022-11-06T03:32:42.551426Z",
     "shell.execute_reply.started": "2022-11-06T03:32:42.551417Z"
    },
    "tags": []
   },
   "outputs": [],
   "source": [
    "len(tmp1['pair'].unique())"
   ]
  },
  {
   "cell_type": "code",
   "execution_count": null,
   "id": "1629771b-e729-4d35-b87c-06ff99ccc3a1",
   "metadata": {
    "execution": {
     "iopub.status.busy": "2022-11-06T03:32:42.552182Z",
     "iopub.status.idle": "2022-11-06T03:32:42.552533Z",
     "shell.execute_reply": "2022-11-06T03:32:42.552418Z",
     "shell.execute_reply.started": "2022-11-06T03:32:42.552407Z"
    },
    "tags": []
   },
   "outputs": [],
   "source": [
    "tmp = pd.read_csv(\"../usadata/SMSLog.csv\")\n",
    "tmp.tail()"
   ]
  },
  {
   "cell_type": "code",
   "execution_count": null,
   "id": "fcdb9a3b-3ee1-4b84-afde-936c70356669",
   "metadata": {
    "execution": {
     "iopub.status.busy": "2022-11-06T03:32:42.553124Z",
     "iopub.status.idle": "2022-11-06T03:32:42.553340Z",
     "shell.execute_reply": "2022-11-06T03:32:42.553232Z",
     "shell.execute_reply.started": "2022-11-06T03:32:42.553222Z"
    },
    "tags": []
   },
   "outputs": [],
   "source": [
    "tmp['type'].value_counts()"
   ]
  },
  {
   "cell_type": "code",
   "execution_count": null,
   "id": "200c16e0-63bc-4738-bc09-91f263863283",
   "metadata": {
    "execution": {
     "iopub.status.busy": "2022-11-06T03:32:42.553845Z",
     "iopub.status.idle": "2022-11-06T03:32:42.554054Z",
     "shell.execute_reply": "2022-11-06T03:32:42.553965Z",
     "shell.execute_reply.started": "2022-11-06T03:32:42.553956Z"
    },
    "tags": []
   },
   "outputs": [],
   "source": [
    "newdf = tmp[tmp['type'] == 'outgoing']\n",
    "newdf['pair'] = list(zip(newdf['participantID.A'], newdf['number.hash']))\n",
    "len(newdf['pair'].unique())"
   ]
  },
  {
   "cell_type": "code",
   "execution_count": null,
   "id": "9bc19e3e-f129-45bd-933a-c8ed23825b5f",
   "metadata": {
    "execution": {
     "iopub.status.busy": "2022-11-06T03:32:42.554591Z",
     "iopub.status.idle": "2022-11-06T03:32:42.554780Z",
     "shell.execute_reply": "2022-11-06T03:32:42.554690Z",
     "shell.execute_reply.started": "2022-11-06T03:32:42.554681Z"
    },
    "tags": []
   },
   "outputs": [],
   "source": [
    "newdf['time'] = pd.to_datetime(newdf['local_time'], format=\"%Y-%m-%d %H:%M:%S\")\n",
    "newdf['date'] = newdf['time'].map(lambda i: i.strftime('%Y-%m-%d'))\n",
    "newdf['date'] = pd.to_datetime(newdf['date'], format='%Y-%m-%d')\n",
    "newdf.head()"
   ]
  },
  {
   "cell_type": "code",
   "execution_count": null,
   "id": "97afda7f-10bd-4b33-87e5-bc860803e59f",
   "metadata": {
    "execution": {
     "iopub.status.busy": "2022-11-06T03:32:42.555388Z",
     "iopub.status.idle": "2022-11-06T03:32:42.555656Z",
     "shell.execute_reply": "2022-11-06T03:32:42.555532Z",
     "shell.execute_reply.started": "2022-11-06T03:32:42.555522Z"
    },
    "tags": []
   },
   "outputs": [],
   "source": [
    "newdf.columns = ['ego', 'dwcfwdcw', 'dwfwefwefwe', 'dwfwefwefwe', 'alter', 'pair', 'time', 'date']\n",
    "newdf = newdf[['ego', 'alter', 'pair', 'time', 'date']]\n",
    "newdf.head()"
   ]
  },
  {
   "cell_type": "code",
   "execution_count": null,
   "id": "7ba5fd48-5105-4b74-ae0c-1cf4bf5cfa89",
   "metadata": {
    "execution": {
     "iopub.status.busy": "2022-11-06T03:32:42.556072Z",
     "iopub.status.idle": "2022-11-06T03:32:42.556265Z",
     "shell.execute_reply": "2022-11-06T03:32:42.556174Z",
     "shell.execute_reply.started": "2022-11-06T03:32:42.556164Z"
    },
    "tags": []
   },
   "outputs": [],
   "source": [
    "newdf = newdf.sort_values(by=['alter', 'ego', 'time'], ascending=[True, True, True]).reset_index(drop=True)\n",
    "mindate = min(newdf['date'])\n",
    "newdf['t'] = newdf['date'].map(lambda i: (i - mindate).days)\n",
    "t0i = newdf.groupby('pair')['date'].min().rename({'date': 't0i'}, axis='columns')\n",
    "newdf['a'] = newdf.index.map(lambda i: (newdf.at[i, 'date'] - t0i[newdf.at[i, 'pair']]).days)\n",
    "newdf.head()"
   ]
  },
  {
   "cell_type": "code",
   "execution_count": null,
   "id": "76d8ebca-fefb-4972-be87-bc571a867cf0",
   "metadata": {
    "execution": {
     "iopub.status.busy": "2022-11-06T03:32:42.556787Z",
     "iopub.status.idle": "2022-11-06T03:32:42.557096Z",
     "shell.execute_reply": "2022-11-06T03:32:42.556999Z",
     "shell.execute_reply.started": "2022-11-06T03:32:42.556989Z"
    },
    "tags": []
   },
   "outputs": [],
   "source": [
    "newdf['ego'] = newdf['ego'].map(lambda i: hex(hash(i)))\n",
    "newdf['alter'] = newdf['alter'].map(lambda i: hex(hash(i)))\n",
    "newdf['pair'] = newdf['pair'].map(lambda i: hex(hash(i)))\n",
    "newdf.head()"
   ]
  },
  {
   "cell_type": "code",
   "execution_count": null,
   "id": "555681cc-6b34-4db3-8e9b-01044d9ba667",
   "metadata": {
    "execution": {
     "iopub.status.busy": "2022-11-06T03:32:42.557515Z",
     "iopub.status.idle": "2022-11-06T03:32:42.557773Z",
     "shell.execute_reply": "2022-11-06T03:32:42.557630Z",
     "shell.execute_reply.started": "2022-11-06T03:32:42.557620Z"
    },
    "tags": []
   },
   "outputs": [],
   "source": [
    "ust = newdf.copy(deep=True)\n",
    "[min(ust['t']), max(ust['t']), min(ust['a']), max(ust['a'])]"
   ]
  },
  {
   "cell_type": "code",
   "execution_count": null,
   "id": "acdab556-f0ae-4e08-b600-8a3e034444b6",
   "metadata": {
    "execution": {
     "iopub.status.busy": "2022-11-06T03:32:42.558443Z",
     "iopub.status.idle": "2022-11-06T03:32:42.558710Z",
     "shell.execute_reply": "2022-11-06T03:32:42.558614Z",
     "shell.execute_reply.started": "2022-11-06T03:32:42.558603Z"
    }
   },
   "outputs": [],
   "source": [
    "ust.sort_values(by=['alter', 'ego', 'time'], ascending=[True, True, True], inplace=True)\n",
    "t0i = ust.groupby('ego')['date'].min()\n",
    "ust['tau'] = ust.index.map(lambda i: (ust.at[i, 'date'] - t0i[ust.at[i, 'ego']]).days)"
   ]
  },
  {
   "cell_type": "code",
   "execution_count": null,
   "id": "e71791c1-e542-4e47-8195-dbab634ddb54",
   "metadata": {
    "execution": {
     "iopub.status.busy": "2022-11-06T03:32:42.559288Z",
     "iopub.status.idle": "2022-11-06T03:32:42.559593Z",
     "shell.execute_reply": "2022-11-06T03:32:42.559492Z",
     "shell.execute_reply.started": "2022-11-06T03:32:42.559482Z"
    },
    "tags": []
   },
   "outputs": [],
   "source": [
    "ust = ust[['ego', 'alter', 'pair', 'time', 'date', 't', 'tau', 'a']].reset_index(drop=True)\n",
    "ust.head()"
   ]
  },
  {
   "cell_type": "code",
   "execution_count": null,
   "id": "e1ad6512-ddad-4004-a9c8-8fe12958dc9f",
   "metadata": {
    "execution": {
     "iopub.status.busy": "2022-11-06T03:32:42.560196Z",
     "iopub.status.idle": "2022-11-06T03:32:42.560416Z",
     "shell.execute_reply": "2022-11-06T03:32:42.560327Z",
     "shell.execute_reply.started": "2022-11-06T03:32:42.560317Z"
    },
    "tags": []
   },
   "outputs": [],
   "source": [
    "len(ust['pair'].unique())"
   ]
  },
  {
   "cell_type": "code",
   "execution_count": null,
   "id": "eec85759-1c4a-4c7e-b7d1-759bb0560c0f",
   "metadata": {
    "execution": {
     "iopub.status.busy": "2022-11-06T03:32:42.561076Z",
     "iopub.status.idle": "2022-11-06T03:32:42.561269Z",
     "shell.execute_reply": "2022-11-06T03:32:42.561179Z",
     "shell.execute_reply.started": "2022-11-06T03:32:42.561169Z"
    },
    "tags": []
   },
   "outputs": [],
   "source": [
    "# ust.to_csv(\"data/USt.txt\", index=False, header=True, sep=\"\\t\")"
   ]
  },
  {
   "cell_type": "markdown",
   "id": "7d1a7720-0070-4a39-8ef9-c141904d2d9b",
   "metadata": {},
   "source": [
    "## Italy"
   ]
  },
  {
   "cell_type": "code",
   "execution_count": null,
   "id": "5831b45b-16dd-4ef3-95ac-36687720c1a3",
   "metadata": {
    "execution": {
     "iopub.status.busy": "2022-11-06T03:32:42.561844Z",
     "iopub.status.idle": "2022-11-06T03:32:42.562177Z",
     "shell.execute_reply": "2022-11-06T03:32:42.562083Z",
     "shell.execute_reply.started": "2022-11-06T03:32:42.562073Z"
    },
    "tags": []
   },
   "outputs": [],
   "source": [
    "with open('../itdata/mtl_unfiltered.pickle', 'rb') as handle:\n",
    "    tmpunf = pickle.load(handle)\n",
    "    handle.close()\n",
    "newdf = tmpunf['it'].copy(deep=True)\n",
    "newdf.head()"
   ]
  },
  {
   "cell_type": "code",
   "execution_count": null,
   "id": "058ac002-2d50-4f5a-bc45-3b168c67170d",
   "metadata": {
    "execution": {
     "iopub.status.busy": "2022-11-06T03:32:42.562852Z",
     "iopub.status.idle": "2022-11-06T03:32:42.563044Z",
     "shell.execute_reply": "2022-11-06T03:32:42.562953Z",
     "shell.execute_reply.started": "2022-11-06T03:32:42.562944Z"
    },
    "tags": []
   },
   "outputs": [],
   "source": [
    "min_activity = 1\n",
    "newdf['date'] = newdf['time'].map(lambda i: i.strftime('%Y-%m-%d'))\n",
    "newdf['date'] = pd.to_datetime(newdf['date'], format='%Y-%m-%d')\n",
    "newdf.sort_values(by=['alter', 'ego', 'time'], ascending=[True, True, True], inplace=True)\n",
    "mindate = min(newdf['date'])\n",
    "newdf['t'] = newdf['date'].map(lambda i: (i - mindate).days)\n",
    "newdf['ea'] = list(zip(newdf['ego'], newdf['alter']))\n",
    "t0ix = newdf.groupby('ea')['date'].min()\n",
    "t0i = newdf.groupby('ego')['date'].min()\n",
    "newdf['a'] = newdf.index.map(lambda i: (newdf.at[i, 'date'] - t0ix[newdf.at[i, 'ea']]).days)\n",
    "newdf['tau'] = newdf.index.map(lambda i: (newdf.at[i, 'date'] - t0i[newdf.at[i, 'ego']]).days)\n",
    "ncalls = newdf.groupby('ea')[['time']].count()\n",
    "ncalls = ncalls.loc[ncalls['time'] >= min_activity]\n",
    "newdf = newdf[newdf['ea'].isin(ncalls.index)]\n",
    "newdf['ego'] = newdf['ego'].map(lambda i: hex(hash(i)))\n",
    "newdf['alter'] = newdf['alter'].map(lambda i: hex(hash(i)))\n",
    "newdf['ea'] = newdf['ea'].map(lambda i: hex(hash(i)))\n",
    "newdf.head()"
   ]
  },
  {
   "cell_type": "code",
   "execution_count": null,
   "id": "4a5cdfa8-8843-43b2-9882-46efad7c5a5f",
   "metadata": {
    "execution": {
     "iopub.status.busy": "2022-11-06T03:32:42.563786Z",
     "iopub.status.idle": "2022-11-06T03:32:42.563978Z",
     "shell.execute_reply": "2022-11-06T03:32:42.563887Z",
     "shell.execute_reply.started": "2022-11-06T03:32:42.563877Z"
    },
    "tags": []
   },
   "outputs": [],
   "source": [
    "newdf.columns = ['ego', 'alter', 'time', 'uclock', 'aclock', 'date', 't', 'pair', 'a', 'tau']\n",
    "newdf = newdf[['ego', 'alter', 'pair', 'time', 'date', 't', 'tau', 'a']]\n",
    "newdf.head()"
   ]
  },
  {
   "cell_type": "code",
   "execution_count": null,
   "id": "312654ae-c848-4b84-898b-aede1c2bad3f",
   "metadata": {
    "execution": {
     "iopub.status.busy": "2022-11-06T03:32:42.564533Z",
     "iopub.status.idle": "2022-11-06T03:32:42.564731Z",
     "shell.execute_reply": "2022-11-06T03:32:42.564638Z",
     "shell.execute_reply.started": "2022-11-06T03:32:42.564628Z"
    },
    "tags": []
   },
   "outputs": [],
   "source": [
    "len(newdf['pair'].unique())"
   ]
  },
  {
   "cell_type": "code",
   "execution_count": null,
   "id": "4e356a63-776e-48b0-a5a7-444f4c4a2b43",
   "metadata": {
    "execution": {
     "iopub.status.busy": "2022-11-06T03:32:42.565291Z",
     "iopub.status.idle": "2022-11-06T03:32:42.565485Z",
     "shell.execute_reply": "2022-11-06T03:32:42.565395Z",
     "shell.execute_reply.started": "2022-11-06T03:32:42.565385Z"
    },
    "tags": []
   },
   "outputs": [],
   "source": [
    "max(newdf['t'])"
   ]
  },
  {
   "cell_type": "code",
   "execution_count": null,
   "id": "5b82c070-1eef-426c-9b63-fcb21bc69fc6",
   "metadata": {
    "execution": {
     "iopub.status.busy": "2022-11-06T03:32:42.565926Z",
     "iopub.status.idle": "2022-11-06T03:32:42.566116Z",
     "shell.execute_reply": "2022-11-06T03:32:42.566026Z",
     "shell.execute_reply.started": "2022-11-06T03:32:42.566016Z"
    },
    "tags": []
   },
   "outputs": [],
   "source": [
    "# newdf = newdf.sort_values(by=['ego', 'alter', 'time']).reset_index(drop=True)\n",
    "# newdf.to_csv(\"data/IT.txt\", index=False, header=True, sep=\"\\t\")"
   ]
  },
  {
   "cell_type": "code",
   "execution_count": null,
   "id": "5aa8015a-ba84-4173-be8e-95a556f6280f",
   "metadata": {
    "execution": {
     "iopub.status.busy": "2022-11-06T03:32:42.566646Z",
     "iopub.status.idle": "2022-11-06T03:32:42.566840Z",
     "shell.execute_reply": "2022-11-06T03:32:42.566750Z",
     "shell.execute_reply.started": "2022-11-06T03:32:42.566740Z"
    },
    "tags": []
   },
   "outputs": [],
   "source": [
    "# with open(\"data/IT.pkl\", 'wb') as f:\n",
    "#     pickle.dump(newdf, f)\n",
    "#     f.close()"
   ]
  },
  {
   "cell_type": "markdown",
   "id": "fe9ff6fc-111a-4ca3-a75e-c5da13f24de5",
   "metadata": {},
   "source": [
    "### Italian data with extra columns"
   ]
  },
  {
   "cell_type": "code",
   "execution_count": null,
   "id": "68eecd42-dc03-4e1a-a6af-e469b3b8449e",
   "metadata": {
    "execution": {
     "iopub.status.busy": "2022-11-06T03:32:42.567294Z",
     "iopub.status.idle": "2022-11-06T03:32:42.567480Z",
     "shell.execute_reply": "2022-11-06T03:32:42.567391Z",
     "shell.execute_reply.started": "2022-11-06T03:32:42.567382Z"
    },
    "tags": []
   },
   "outputs": [],
   "source": [
    "with open(\"../itdata/mtl_withextrainfo.pickle\", 'rb') as f:\n",
    "    it = pickle.load(f)\n",
    "    f.close()"
   ]
  },
  {
   "cell_type": "code",
   "execution_count": null,
   "id": "ddabddb5-a9d5-446b-a8cd-a7e9f2d42120",
   "metadata": {
    "execution": {
     "iopub.status.busy": "2022-11-06T03:32:42.568075Z",
     "iopub.status.idle": "2022-11-06T03:32:42.568263Z",
     "shell.execute_reply": "2022-11-06T03:32:42.568173Z",
     "shell.execute_reply.started": "2022-11-06T03:32:42.568163Z"
    },
    "tags": []
   },
   "outputs": [],
   "source": [
    "it['relationship'].value_counts()"
   ]
  },
  {
   "cell_type": "code",
   "execution_count": null,
   "id": "d810a878-47d7-4c0b-9853-c229c961bfb3",
   "metadata": {
    "execution": {
     "iopub.status.busy": "2022-11-06T03:32:42.568680Z",
     "iopub.status.idle": "2022-11-06T03:32:42.568993Z",
     "shell.execute_reply": "2022-11-06T03:32:42.568898Z",
     "shell.execute_reply.started": "2022-11-06T03:32:42.568888Z"
    },
    "tags": []
   },
   "outputs": [],
   "source": [
    "it.head()"
   ]
  },
  {
   "cell_type": "code",
   "execution_count": null,
   "id": "fe26beda-2680-4272-9730-2d3c2729beb2",
   "metadata": {
    "execution": {
     "iopub.status.busy": "2022-11-06T03:32:42.569450Z",
     "iopub.status.idle": "2022-11-06T03:32:42.569644Z",
     "shell.execute_reply": "2022-11-06T03:32:42.569553Z",
     "shell.execute_reply.started": "2022-11-06T03:32:42.569543Z"
    },
    "tags": []
   },
   "outputs": [],
   "source": [
    "len(it['pair'].unique())"
   ]
  },
  {
   "cell_type": "code",
   "execution_count": null,
   "id": "61a89052-883b-4c7b-bf24-e4b1e657e3fe",
   "metadata": {
    "execution": {
     "iopub.status.busy": "2022-11-06T03:32:42.570303Z",
     "iopub.status.idle": "2022-11-06T03:32:42.570590Z",
     "shell.execute_reply": "2022-11-06T03:32:42.570497Z",
     "shell.execute_reply.started": "2022-11-06T03:32:42.570487Z"
    },
    "tags": []
   },
   "outputs": [],
   "source": [
    "newdf = it.copy(deep=True)"
   ]
  },
  {
   "cell_type": "code",
   "execution_count": null,
   "id": "4ae40d4d-a857-41ab-9796-55c3f92e521e",
   "metadata": {
    "execution": {
     "iopub.status.busy": "2022-11-06T03:32:42.571255Z",
     "iopub.status.idle": "2022-11-06T03:32:42.571446Z",
     "shell.execute_reply": "2022-11-06T03:32:42.571356Z",
     "shell.execute_reply.started": "2022-11-06T03:32:42.571346Z"
    },
    "tags": []
   },
   "outputs": [],
   "source": [
    "newdf.dtypes"
   ]
  },
  {
   "cell_type": "code",
   "execution_count": null,
   "id": "d187e1c6-1879-49b1-8181-d7171abf8080",
   "metadata": {
    "execution": {
     "iopub.status.busy": "2022-11-06T03:32:42.572189Z",
     "iopub.status.idle": "2022-11-06T03:32:42.572479Z",
     "shell.execute_reply": "2022-11-06T03:32:42.572387Z",
     "shell.execute_reply.started": "2022-11-06T03:32:42.572376Z"
    },
    "tags": []
   },
   "outputs": [],
   "source": [
    "newdf.sort_values(by=['alter', 'ego', 'time'], ascending=[True, True, True], inplace=True)\n",
    "t0i = newdf.groupby('ego')['date'].min()\n",
    "newdf['tau'] = newdf.index.map(lambda i: (newdf.at[i, 'date'] - t0i[newdf.at[i, 'ego']]).days)\n",
    "newdf['pair'] = newdf['pair'].map(lambda i: hex(hash(i)))\n",
    "newdf.head()"
   ]
  },
  {
   "cell_type": "code",
   "execution_count": null,
   "id": "037fab9e-3ef8-4a30-8fb5-e5b9c6eccf95",
   "metadata": {
    "execution": {
     "iopub.status.busy": "2022-11-06T03:32:42.573083Z",
     "iopub.status.idle": "2022-11-06T03:32:42.573272Z",
     "shell.execute_reply": "2022-11-06T03:32:42.573183Z",
     "shell.execute_reply.started": "2022-11-06T03:32:42.573173Z"
    },
    "tags": []
   },
   "outputs": [],
   "source": [
    "# newdf.to_csv(\"data/IT.txt\", index=False, header=True, sep=\"\\t\")"
   ]
  },
  {
   "cell_type": "markdown",
   "id": "240fe868-9372-4c38-8c5c-b9958c27dbe2",
   "metadata": {},
   "source": [
    "### Italy with personality traits"
   ]
  },
  {
   "cell_type": "code",
   "execution_count": null,
   "id": "af6e711e-a38b-47f2-b322-fa5a824ce313",
   "metadata": {
    "execution": {
     "iopub.status.busy": "2022-11-06T03:32:42.573952Z",
     "iopub.status.idle": "2022-11-06T03:32:42.574160Z",
     "shell.execute_reply": "2022-11-06T03:32:42.574053Z",
     "shell.execute_reply.started": "2022-11-06T03:32:42.574043Z"
    }
   },
   "outputs": [],
   "source": [
    "with open(\"../itdata/mtl_withsurveyinfo.pickle\", 'rb') as f:\n",
    "    itpt = pickle.load(f)\n",
    "    f.close()"
   ]
  },
  {
   "cell_type": "code",
   "execution_count": null,
   "id": "5fc6fce0-b5ce-483a-9dfe-36097efd52fd",
   "metadata": {
    "execution": {
     "iopub.status.busy": "2022-11-06T03:32:42.574810Z",
     "iopub.status.idle": "2022-11-06T03:32:42.575120Z",
     "shell.execute_reply": "2022-11-06T03:32:42.575028Z",
     "shell.execute_reply.started": "2022-11-06T03:32:42.575017Z"
    },
    "tags": []
   },
   "outputs": [],
   "source": [
    "[len(newdf['ego'].unique()), len(itpt['ego'].unique())]"
   ]
  },
  {
   "cell_type": "code",
   "execution_count": null,
   "id": "e014d9d3-4927-486a-8dbb-a81a21ce6a3e",
   "metadata": {
    "execution": {
     "iopub.status.busy": "2022-11-06T03:32:42.575716Z",
     "iopub.status.idle": "2022-11-06T03:32:42.576012Z",
     "shell.execute_reply": "2022-11-06T03:32:42.575912Z",
     "shell.execute_reply.started": "2022-11-06T03:32:42.575901Z"
    },
    "tags": []
   },
   "outputs": [],
   "source": [
    "[len(newdf), len(itpt)]"
   ]
  },
  {
   "cell_type": "code",
   "execution_count": null,
   "id": "6ffae029-5f07-46c5-a2a9-9658971882dc",
   "metadata": {
    "execution": {
     "iopub.status.busy": "2022-11-06T03:32:42.576794Z",
     "iopub.status.idle": "2022-11-06T03:32:42.577003Z",
     "shell.execute_reply": "2022-11-06T03:32:42.576913Z",
     "shell.execute_reply.started": "2022-11-06T03:32:42.576903Z"
    },
    "tags": []
   },
   "outputs": [],
   "source": [
    "df = itpt.iloc[:, :8]\n",
    "df.sort_values(by=['alter', 'ego', 'time'], ascending=[True, True, True], inplace=True)\n",
    "t0i = df.groupby('ego')['date'].min()\n",
    "df['tau'] = df.index.map(lambda i: (df.at[i, 'date'] - t0i[df.at[i, 'ego']]).days)\n",
    "df['pair'] = df['pair'].map(lambda i: hex(hash(i)))\n",
    "print(len(df))\n",
    "df.head()"
   ]
  },
  {
   "cell_type": "code",
   "execution_count": null,
   "id": "13506466-2e70-427e-a9fd-6f25d36341a8",
   "metadata": {
    "execution": {
     "iopub.status.busy": "2022-11-06T03:32:42.577588Z",
     "iopub.status.idle": "2022-11-06T03:32:42.577803Z",
     "shell.execute_reply": "2022-11-06T03:32:42.577711Z",
     "shell.execute_reply.started": "2022-11-06T03:32:42.577701Z"
    },
    "tags": []
   },
   "outputs": [],
   "source": [
    "# df.to_csv(\"data/IT.txt\", index=False, header=True, sep=\"\\t\")"
   ]
  },
  {
   "cell_type": "code",
   "execution_count": null,
   "id": "f1f4dbcf-8baa-436d-96fb-9df57c618fdc",
   "metadata": {
    "execution": {
     "iopub.status.busy": "2022-11-06T03:32:42.578562Z",
     "iopub.status.idle": "2022-11-06T03:32:42.578755Z",
     "shell.execute_reply": "2022-11-06T03:32:42.578664Z",
     "shell.execute_reply.started": "2022-11-06T03:32:42.578654Z"
    },
    "tags": []
   },
   "outputs": [],
   "source": [
    "df.iloc[0]['ego']"
   ]
  },
  {
   "cell_type": "code",
   "execution_count": null,
   "id": "6cd4b3a5-d2ee-4823-a8f1-6f83bbe4f223",
   "metadata": {
    "execution": {
     "iopub.status.busy": "2022-11-06T03:32:42.579401Z",
     "iopub.status.idle": "2022-11-06T03:32:42.579743Z",
     "shell.execute_reply": "2022-11-06T03:32:42.579635Z",
     "shell.execute_reply.started": "2022-11-06T03:32:42.579624Z"
    },
    "tags": []
   },
   "outputs": [],
   "source": [
    "result = pd.DataFrame()\n",
    "for ego in itpt['ego'].unique():\n",
    "    df0 = itpt.loc[itpt['ego'] == ego]\n",
    "    df1 = df0.iloc[:, 8:]\n",
    "    for v in df1.columns:\n",
    "        result.at[ego, v] = df1.iloc[0][v]\n",
    "result.head(10)"
   ]
  },
  {
   "cell_type": "code",
   "execution_count": null,
   "id": "aa00ff6e-669c-4aab-9b45-1d025d461128",
   "metadata": {
    "execution": {
     "iopub.status.busy": "2022-11-06T03:32:42.580424Z",
     "iopub.status.idle": "2022-11-06T03:32:42.580621Z",
     "shell.execute_reply": "2022-11-06T03:32:42.580529Z",
     "shell.execute_reply.started": "2022-11-06T03:32:42.580519Z"
    },
    "tags": []
   },
   "outputs": [],
   "source": [
    "personality['it'] = result.copy()"
   ]
  },
  {
   "cell_type": "code",
   "execution_count": null,
   "id": "dcfaf110-a810-4c2e-b26a-69f2e41bddd5",
   "metadata": {},
   "outputs": [],
   "source": []
  },
  {
   "cell_type": "markdown",
   "id": "6dda51cb-12a1-43e8-b397-93be549fcafc",
   "metadata": {},
   "source": [
    "# Import UK data from phone bills"
   ]
  },
  {
   "cell_type": "code",
   "execution_count": 52,
   "id": "e8f89b28-f945-49dc-81e4-538822ce1ce6",
   "metadata": {
    "execution": {
     "iopub.execute_input": "2023-03-17T00:14:27.454010Z",
     "iopub.status.busy": "2023-03-17T00:14:27.453673Z",
     "iopub.status.idle": "2023-03-17T00:14:27.475656Z",
     "shell.execute_reply": "2023-03-17T00:14:27.475080Z",
     "shell.execute_reply.started": "2023-03-17T00:14:27.453981Z"
    },
    "tags": []
   },
   "outputs": [
    {
     "data": {
      "text/plain": [
       "['HG_07896-556837.txt',\n",
       " 'AA_07974-937603.txt',\n",
       " 'KG_07800-650314.txt',\n",
       " 'CF_07817-280467.txt',\n",
       " 'RH_07896-537661.txt',\n",
       " 'LJ_07800-759083_bills.txt',\n",
       " 'EF_07905-656488_bills.txt',\n",
       " 'MI_07855-941005.txt',\n",
       " 'SS_07814-508939.txt',\n",
       " 'RF_07791-428359.txt',\n",
       " 'EHB_07974-937643.txt',\n",
       " 'LD_07890-948782.txt',\n",
       " 'DA_07779-270485_bills.txt',\n",
       " 'CB_07800-756002.txt',\n",
       " 'FMC_07792-057901.txt',\n",
       " 'MR_07800-643466.txt',\n",
       " 'JG_07890-818114.txt',\n",
       " 'HL_07792-058001.txt',\n",
       " 'RW_07800-650511.txt',\n",
       " 'AP_07800-759255.txt',\n",
       " 'HM_07800-643415.txt',\n",
       " 'II_07800-756371.txt',\n",
       " 'MJ_07800-755987.txt',\n",
       " 'TS_07792-658311.txt',\n",
       " 'MM_07800-643277.txt',\n",
       " 'KN_07792-658339.txt',\n",
       " 'FA_07970-136770.txt',\n",
       " 'NW_07792-895869.txt',\n",
       " 'HA_07890-846515.txt',\n",
       " 'AH_07805-206865_bills.txt']"
      ]
     },
     "execution_count": 52,
     "metadata": {},
     "output_type": "execute_result"
    }
   ],
   "source": [
    "import os\n",
    "os.listdir(\"../ukdata/bills/\")"
   ]
  },
  {
   "cell_type": "code",
   "execution_count": 3,
   "id": "b37148a5-473d-4619-a719-8367a4a720f9",
   "metadata": {
    "execution": {
     "iopub.execute_input": "2023-03-16T23:41:00.567853Z",
     "iopub.status.busy": "2023-03-16T23:41:00.567671Z",
     "iopub.status.idle": "2023-03-16T23:42:59.954714Z",
     "shell.execute_reply": "2023-03-16T23:42:59.954066Z",
     "shell.execute_reply.started": "2023-03-16T23:41:00.567838Z"
    },
    "tags": []
   },
   "outputs": [
    {
     "name": "stderr",
     "output_type": "stream",
     "text": [
      "/tmp/ipykernel_30522/570843.py:54: FutureWarning: The frame.append method is deprecated and will be removed from pandas in a future version. Use pandas.concat instead.\n",
      "  uk = uk.append(anego).reset_index(drop=True)\n"
     ]
    },
    {
     "name": "stdout",
     "output_type": "stream",
     "text": [
      "took 0:01:59.367281\n"
     ]
    }
   ],
   "source": [
    "t0 = dt.datetime.now()\n",
    "uk = pd.DataFrame()\n",
    "removed = 0\n",
    "for bill in os.listdir(\"../ukdata/bills/\"):\n",
    "    lnum = 0\n",
    "    with open(f'../ukdata/bills/{bill}', 'r') as file:\n",
    "        times = []\n",
    "        dates = []\n",
    "        alters = []\n",
    "        durs = []\n",
    "        iscall = []\n",
    "        counter = 0\n",
    "        for i in file.readlines():\n",
    "            line = i.rsplit()\n",
    "            if len(line) == 1:\n",
    "                ego = line[0][-10:]\n",
    "            elif (len(line) > 3) and (len(line[0]) == 8) and (len(line[1]) == 3) and (len(line[3]) >= 11) and (line[-4] in ['talk', 'text']):\n",
    "                alter = line[3][-10:]\n",
    "                if (alter[0] not in [3,8]) and (line[2][2] == ':'):\n",
    "                    alters.append(alter)\n",
    "                    datestr = line[0]\n",
    "                    hourstr = line[2]          \n",
    "                    dates.append(pd.to_datetime(datestr, format='%d/%m/%y'))\n",
    "                    times.append(pd.to_datetime(datestr + ' ' + hourstr, format='%d/%m/%y %H:%M'))\n",
    "                    dur = time.strptime(line[-2], '%H:%M:%S')\n",
    "                    seconds = (dur.tm_hour * 3600) + (dur.tm_min * 60) + (dur.tm_sec)\n",
    "                    durs.append(seconds)\n",
    "                    thistype = line[-4]\n",
    "                    if thistype == 'talk':\n",
    "                        iscall.append(1)\n",
    "                    else:\n",
    "                        iscall.append(0)\n",
    "                else:\n",
    "                    removed += 1\n",
    "            elif (len(line) > 3) and (line[-4] in ['talk', 'text']):\n",
    "                alter = line[1][-10:]\n",
    "                if (alter[0] not in [3,8]) and (line[0][2] == ':'):\n",
    "                    alters.append(alter)\n",
    "                    hourstr = line[0]       \n",
    "                    dates.append(pd.to_datetime(datestr, format='%d/%m/%y'))\n",
    "                    times.append(pd.to_datetime(datestr + ' ' + hourstr, format='%d/%m/%y %H:%M'))\n",
    "                    dur = time.strptime(line[-2], '%H:%M:%S')\n",
    "                    seconds = (dur.tm_hour * 3600) + (dur.tm_min * 60) + (dur.tm_sec)\n",
    "                    durs.append(seconds)\n",
    "                    thistype = line[-4]\n",
    "                    if thistype == 'talk':\n",
    "                        iscall.append(1)\n",
    "                    else:\n",
    "                        iscall.append(0)\n",
    "                else:\n",
    "                    removed += 1\n",
    "            lnum += 1\n",
    "        anego = pd.DataFrame({'ego': ego, 'alter': alters, 'time': times, 'date': dates, 'isCall': iscall, 'duration': durs})\n",
    "        uk = uk.append(anego).reset_index(drop=True)\n",
    "print(f'took {dt.datetime.now() - t0}')"
   ]
  },
  {
   "cell_type": "code",
   "execution_count": 4,
   "id": "3151e44a-eb60-49dc-82d7-b72cfa4643a8",
   "metadata": {
    "execution": {
     "iopub.execute_input": "2023-03-16T23:43:28.308645Z",
     "iopub.status.busy": "2023-03-16T23:43:28.308364Z",
     "iopub.status.idle": "2023-03-16T23:43:28.329246Z",
     "shell.execute_reply": "2023-03-16T23:43:28.328619Z",
     "shell.execute_reply.started": "2023-03-16T23:43:28.308623Z"
    },
    "tags": []
   },
   "outputs": [
    {
     "data": {
      "text/html": [
       "<div>\n",
       "<style scoped>\n",
       "    .dataframe tbody tr th:only-of-type {\n",
       "        vertical-align: middle;\n",
       "    }\n",
       "\n",
       "    .dataframe tbody tr th {\n",
       "        vertical-align: top;\n",
       "    }\n",
       "\n",
       "    .dataframe thead th {\n",
       "        text-align: right;\n",
       "    }\n",
       "</style>\n",
       "<table border=\"1\" class=\"dataframe\">\n",
       "  <thead>\n",
       "    <tr style=\"text-align: right;\">\n",
       "      <th></th>\n",
       "      <th>ego</th>\n",
       "      <th>alter</th>\n",
       "      <th>time</th>\n",
       "      <th>date</th>\n",
       "      <th>isCall</th>\n",
       "      <th>duration</th>\n",
       "    </tr>\n",
       "  </thead>\n",
       "  <tbody>\n",
       "    <tr>\n",
       "      <th>0</th>\n",
       "      <td>7896556837</td>\n",
       "      <td>7794665331</td>\n",
       "      <td>2007-03-05 15:02:00</td>\n",
       "      <td>2007-03-05</td>\n",
       "      <td>1</td>\n",
       "      <td>56</td>\n",
       "    </tr>\n",
       "    <tr>\n",
       "      <th>1</th>\n",
       "      <td>7896556837</td>\n",
       "      <td>7800650511</td>\n",
       "      <td>2007-03-05 16:29:00</td>\n",
       "      <td>2007-03-05</td>\n",
       "      <td>0</td>\n",
       "      <td>0</td>\n",
       "    </tr>\n",
       "    <tr>\n",
       "      <th>2</th>\n",
       "      <td>7896556837</td>\n",
       "      <td>7821100539</td>\n",
       "      <td>2007-03-05 16:37:00</td>\n",
       "      <td>2007-03-05</td>\n",
       "      <td>1</td>\n",
       "      <td>28</td>\n",
       "    </tr>\n",
       "    <tr>\n",
       "      <th>3</th>\n",
       "      <td>7896556837</td>\n",
       "      <td>7785571995</td>\n",
       "      <td>2007-03-05 16:38:00</td>\n",
       "      <td>2007-03-05</td>\n",
       "      <td>1</td>\n",
       "      <td>30</td>\n",
       "    </tr>\n",
       "    <tr>\n",
       "      <th>4</th>\n",
       "      <td>7896556837</td>\n",
       "      <td>7800650511</td>\n",
       "      <td>2007-03-05 16:47:00</td>\n",
       "      <td>2007-03-05</td>\n",
       "      <td>1</td>\n",
       "      <td>2</td>\n",
       "    </tr>\n",
       "  </tbody>\n",
       "</table>\n",
       "</div>"
      ],
      "text/plain": [
       "          ego       alter                time       date  isCall  duration\n",
       "0  7896556837  7794665331 2007-03-05 15:02:00 2007-03-05       1        56\n",
       "1  7896556837  7800650511 2007-03-05 16:29:00 2007-03-05       0         0\n",
       "2  7896556837  7821100539 2007-03-05 16:37:00 2007-03-05       1        28\n",
       "3  7896556837  7785571995 2007-03-05 16:38:00 2007-03-05       1        30\n",
       "4  7896556837  7800650511 2007-03-05 16:47:00 2007-03-05       1         2"
      ]
     },
     "execution_count": 4,
     "metadata": {},
     "output_type": "execute_result"
    }
   ],
   "source": [
    "uk.head()"
   ]
  },
  {
   "cell_type": "code",
   "execution_count": 5,
   "id": "b5a71a93-d7b9-453c-bae5-c73fb74b73bc",
   "metadata": {
    "execution": {
     "iopub.execute_input": "2023-03-16T23:43:38.701379Z",
     "iopub.status.busy": "2023-03-16T23:43:38.701116Z",
     "iopub.status.idle": "2023-03-16T23:43:38.724786Z",
     "shell.execute_reply": "2023-03-16T23:43:38.724133Z",
     "shell.execute_reply.started": "2023-03-16T23:43:38.701355Z"
    },
    "tags": []
   },
   "outputs": [
    {
     "data": {
      "text/plain": [
       "179"
      ]
     },
     "execution_count": 5,
     "metadata": {},
     "output_type": "execute_result"
    }
   ],
   "source": [
    "removed"
   ]
  },
  {
   "cell_type": "code",
   "execution_count": 6,
   "id": "e0da42d4-b7df-479c-9b8d-da8a161b2c1a",
   "metadata": {
    "execution": {
     "iopub.execute_input": "2023-03-16T23:43:41.105703Z",
     "iopub.status.busy": "2023-03-16T23:43:41.105168Z",
     "iopub.status.idle": "2023-03-16T23:43:41.128493Z",
     "shell.execute_reply": "2023-03-16T23:43:41.127859Z",
     "shell.execute_reply.started": "2023-03-16T23:43:41.105680Z"
    },
    "tags": []
   },
   "outputs": [
    {
     "data": {
      "text/plain": [
       "440167"
      ]
     },
     "execution_count": 6,
     "metadata": {},
     "output_type": "execute_result"
    }
   ],
   "source": [
    "len(uk)"
   ]
  },
  {
   "cell_type": "code",
   "execution_count": 7,
   "id": "7dfff570-13e2-4f11-be6e-47addf792cfb",
   "metadata": {
    "execution": {
     "iopub.execute_input": "2023-03-16T23:43:44.813336Z",
     "iopub.status.busy": "2023-03-16T23:43:44.812938Z",
     "iopub.status.idle": "2023-03-16T23:43:44.850754Z",
     "shell.execute_reply": "2023-03-16T23:43:44.850182Z",
     "shell.execute_reply.started": "2023-03-16T23:43:44.813302Z"
    },
    "tags": []
   },
   "outputs": [
    {
     "data": {
      "text/plain": [
       "5915"
      ]
     },
     "execution_count": 7,
     "metadata": {},
     "output_type": "execute_result"
    }
   ],
   "source": [
    "len(uk['alter'].unique())"
   ]
  },
  {
   "cell_type": "code",
   "execution_count": 8,
   "id": "aae0f257-0a6d-4926-a1b2-7799c77d3b5d",
   "metadata": {
    "execution": {
     "iopub.execute_input": "2023-03-16T23:43:50.113213Z",
     "iopub.status.busy": "2023-03-16T23:43:50.112918Z",
     "iopub.status.idle": "2023-03-16T23:43:50.130490Z",
     "shell.execute_reply": "2023-03-16T23:43:50.129967Z",
     "shell.execute_reply.started": "2023-03-16T23:43:50.113187Z"
    },
    "tags": []
   },
   "outputs": [
    {
     "data": {
      "text/plain": [
       "'7794665331'"
      ]
     },
     "execution_count": 8,
     "metadata": {},
     "output_type": "execute_result"
    }
   ],
   "source": [
    "uk.at[0, 'alter']"
   ]
  },
  {
   "cell_type": "code",
   "execution_count": 9,
   "id": "d007f2b5-f694-4881-91b2-5660c6f5f952",
   "metadata": {
    "execution": {
     "iopub.execute_input": "2023-03-16T23:43:57.648706Z",
     "iopub.status.busy": "2023-03-16T23:43:57.648476Z",
     "iopub.status.idle": "2023-03-16T23:43:57.762778Z",
     "shell.execute_reply": "2023-03-16T23:43:57.762246Z",
     "shell.execute_reply.started": "2023-03-16T23:43:57.648691Z"
    },
    "tags": []
   },
   "outputs": [
    {
     "data": {
      "text/plain": [
       "('7896556837', '7794665331')"
      ]
     },
     "execution_count": 9,
     "metadata": {},
     "output_type": "execute_result"
    }
   ],
   "source": [
    "uk['pair'] = list(zip(uk['ego'], uk['alter']))\n",
    "uk.at[0, 'pair']"
   ]
  },
  {
   "cell_type": "code",
   "execution_count": 10,
   "id": "161953ac-2455-43a7-8fae-1ef18d249cfe",
   "metadata": {
    "execution": {
     "iopub.execute_input": "2023-03-16T23:43:59.847775Z",
     "iopub.status.busy": "2023-03-16T23:43:59.847422Z",
     "iopub.status.idle": "2023-03-16T23:43:59.866188Z",
     "shell.execute_reply": "2023-03-16T23:43:59.865633Z",
     "shell.execute_reply.started": "2023-03-16T23:43:59.847733Z"
    },
    "tags": []
   },
   "outputs": [
    {
     "data": {
      "text/plain": [
       "('7896556837', '7794665331')"
      ]
     },
     "execution_count": 10,
     "metadata": {},
     "output_type": "execute_result"
    }
   ],
   "source": [
    "uk.at[0, 'pair']"
   ]
  },
  {
   "cell_type": "code",
   "execution_count": 11,
   "id": "55e9b9ad-717a-421b-bf2a-3e24c50f4de9",
   "metadata": {
    "execution": {
     "iopub.execute_input": "2023-03-16T23:44:02.024635Z",
     "iopub.status.busy": "2023-03-16T23:44:02.024410Z",
     "iopub.status.idle": "2023-03-16T23:44:02.043863Z",
     "shell.execute_reply": "2023-03-16T23:44:02.043358Z",
     "shell.execute_reply.started": "2023-03-16T23:44:02.024620Z"
    },
    "tags": []
   },
   "outputs": [
    {
     "data": {
      "text/html": [
       "<div>\n",
       "<style scoped>\n",
       "    .dataframe tbody tr th:only-of-type {\n",
       "        vertical-align: middle;\n",
       "    }\n",
       "\n",
       "    .dataframe tbody tr th {\n",
       "        vertical-align: top;\n",
       "    }\n",
       "\n",
       "    .dataframe thead th {\n",
       "        text-align: right;\n",
       "    }\n",
       "</style>\n",
       "<table border=\"1\" class=\"dataframe\">\n",
       "  <thead>\n",
       "    <tr style=\"text-align: right;\">\n",
       "      <th></th>\n",
       "      <th>ego</th>\n",
       "      <th>alter</th>\n",
       "      <th>time</th>\n",
       "      <th>date</th>\n",
       "      <th>isCall</th>\n",
       "      <th>duration</th>\n",
       "      <th>pair</th>\n",
       "    </tr>\n",
       "  </thead>\n",
       "  <tbody>\n",
       "    <tr>\n",
       "      <th>0</th>\n",
       "      <td>7896556837</td>\n",
       "      <td>7794665331</td>\n",
       "      <td>2007-03-05 15:02:00</td>\n",
       "      <td>2007-03-05</td>\n",
       "      <td>1</td>\n",
       "      <td>56</td>\n",
       "      <td>(7896556837, 7794665331)</td>\n",
       "    </tr>\n",
       "    <tr>\n",
       "      <th>1</th>\n",
       "      <td>7896556837</td>\n",
       "      <td>7800650511</td>\n",
       "      <td>2007-03-05 16:29:00</td>\n",
       "      <td>2007-03-05</td>\n",
       "      <td>0</td>\n",
       "      <td>0</td>\n",
       "      <td>(7896556837, 7800650511)</td>\n",
       "    </tr>\n",
       "    <tr>\n",
       "      <th>2</th>\n",
       "      <td>7896556837</td>\n",
       "      <td>7821100539</td>\n",
       "      <td>2007-03-05 16:37:00</td>\n",
       "      <td>2007-03-05</td>\n",
       "      <td>1</td>\n",
       "      <td>28</td>\n",
       "      <td>(7896556837, 7821100539)</td>\n",
       "    </tr>\n",
       "    <tr>\n",
       "      <th>3</th>\n",
       "      <td>7896556837</td>\n",
       "      <td>7785571995</td>\n",
       "      <td>2007-03-05 16:38:00</td>\n",
       "      <td>2007-03-05</td>\n",
       "      <td>1</td>\n",
       "      <td>30</td>\n",
       "      <td>(7896556837, 7785571995)</td>\n",
       "    </tr>\n",
       "    <tr>\n",
       "      <th>4</th>\n",
       "      <td>7896556837</td>\n",
       "      <td>7800650511</td>\n",
       "      <td>2007-03-05 16:47:00</td>\n",
       "      <td>2007-03-05</td>\n",
       "      <td>1</td>\n",
       "      <td>2</td>\n",
       "      <td>(7896556837, 7800650511)</td>\n",
       "    </tr>\n",
       "  </tbody>\n",
       "</table>\n",
       "</div>"
      ],
      "text/plain": [
       "          ego       alter                time       date  isCall  duration  \\\n",
       "0  7896556837  7794665331 2007-03-05 15:02:00 2007-03-05       1        56   \n",
       "1  7896556837  7800650511 2007-03-05 16:29:00 2007-03-05       0         0   \n",
       "2  7896556837  7821100539 2007-03-05 16:37:00 2007-03-05       1        28   \n",
       "3  7896556837  7785571995 2007-03-05 16:38:00 2007-03-05       1        30   \n",
       "4  7896556837  7800650511 2007-03-05 16:47:00 2007-03-05       1         2   \n",
       "\n",
       "                       pair  \n",
       "0  (7896556837, 7794665331)  \n",
       "1  (7896556837, 7800650511)  \n",
       "2  (7896556837, 7821100539)  \n",
       "3  (7896556837, 7785571995)  \n",
       "4  (7896556837, 7800650511)  "
      ]
     },
     "execution_count": 11,
     "metadata": {},
     "output_type": "execute_result"
    }
   ],
   "source": [
    "uk.head()"
   ]
  },
  {
   "cell_type": "code",
   "execution_count": 15,
   "id": "df8f3a75-3939-4e5f-85e0-ae74ca289f7b",
   "metadata": {
    "execution": {
     "iopub.execute_input": "2023-03-16T23:45:01.010991Z",
     "iopub.status.busy": "2023-03-16T23:45:01.010596Z",
     "iopub.status.idle": "2023-03-16T23:45:01.360530Z",
     "shell.execute_reply": "2023-03-16T23:45:01.359928Z",
     "shell.execute_reply.started": "2023-03-16T23:45:01.010957Z"
    },
    "tags": []
   },
   "outputs": [
    {
     "name": "stdout",
     "output_type": "stream",
     "text": [
      "not in spreadsheet 7890846515\n",
      "not in uk 7999103487\n"
     ]
    }
   ],
   "source": [
    "for ego in uk['ego'].unique():\n",
    "    if ego not in egoinfo.keys():\n",
    "        print('not in spreadsheet', ego)\n",
    "for ego in egoinfo.keys():\n",
    "    if ego not in uk['ego'].unique():\n",
    "        print('not in uk', ego)"
   ]
  },
  {
   "cell_type": "code",
   "execution_count": 16,
   "id": "ee695af1-f071-4fe7-86c2-62d6c19af0a5",
   "metadata": {
    "execution": {
     "iopub.execute_input": "2023-03-16T23:45:07.071613Z",
     "iopub.status.busy": "2023-03-16T23:45:07.071374Z",
     "iopub.status.idle": "2023-03-16T23:45:07.131656Z",
     "shell.execute_reply": "2023-03-16T23:45:07.131137Z",
     "shell.execute_reply.started": "2023-03-16T23:45:07.071593Z"
    },
    "tags": []
   },
   "outputs": [
    {
     "data": {
      "text/html": [
       "<div>\n",
       "<style scoped>\n",
       "    .dataframe tbody tr th:only-of-type {\n",
       "        vertical-align: middle;\n",
       "    }\n",
       "\n",
       "    .dataframe tbody tr th {\n",
       "        vertical-align: top;\n",
       "    }\n",
       "\n",
       "    .dataframe thead th {\n",
       "        text-align: right;\n",
       "    }\n",
       "</style>\n",
       "<table border=\"1\" class=\"dataframe\">\n",
       "  <thead>\n",
       "    <tr style=\"text-align: right;\">\n",
       "      <th></th>\n",
       "      <th>ego</th>\n",
       "      <th>alter</th>\n",
       "      <th>time</th>\n",
       "      <th>date</th>\n",
       "      <th>isCall</th>\n",
       "      <th>duration</th>\n",
       "      <th>pair</th>\n",
       "    </tr>\n",
       "  </thead>\n",
       "  <tbody>\n",
       "  </tbody>\n",
       "</table>\n",
       "</div>"
      ],
      "text/plain": [
       "Empty DataFrame\n",
       "Columns: [ego, alter, time, date, isCall, duration, pair]\n",
       "Index: []"
      ]
     },
     "execution_count": 16,
     "metadata": {},
     "output_type": "execute_result"
    }
   ],
   "source": [
    "uk.loc[uk['ego'] == '7999103487']"
   ]
  },
  {
   "cell_type": "code",
   "execution_count": 17,
   "id": "c4fe4960-0dfc-41bd-b9c3-3480c223d450",
   "metadata": {
    "execution": {
     "iopub.execute_input": "2023-03-16T23:45:12.604636Z",
     "iopub.status.busy": "2023-03-16T23:45:12.604244Z",
     "iopub.status.idle": "2023-03-16T23:45:12.670553Z",
     "shell.execute_reply": "2023-03-16T23:45:12.669891Z",
     "shell.execute_reply.started": "2023-03-16T23:45:12.604602Z"
    },
    "tags": []
   },
   "outputs": [
    {
     "data": {
      "text/html": [
       "<div>\n",
       "<style scoped>\n",
       "    .dataframe tbody tr th:only-of-type {\n",
       "        vertical-align: middle;\n",
       "    }\n",
       "\n",
       "    .dataframe tbody tr th {\n",
       "        vertical-align: top;\n",
       "    }\n",
       "\n",
       "    .dataframe thead th {\n",
       "        text-align: right;\n",
       "    }\n",
       "</style>\n",
       "<table border=\"1\" class=\"dataframe\">\n",
       "  <thead>\n",
       "    <tr style=\"text-align: right;\">\n",
       "      <th></th>\n",
       "      <th>ego</th>\n",
       "      <th>alter</th>\n",
       "      <th>time</th>\n",
       "      <th>date</th>\n",
       "      <th>isCall</th>\n",
       "      <th>duration</th>\n",
       "      <th>pair</th>\n",
       "    </tr>\n",
       "  </thead>\n",
       "  <tbody>\n",
       "    <tr>\n",
       "      <th>398387</th>\n",
       "      <td>7890846515</td>\n",
       "      <td>7933201071</td>\n",
       "      <td>2008-08-07 21:19:00</td>\n",
       "      <td>2008-08-07</td>\n",
       "      <td>0</td>\n",
       "      <td>0</td>\n",
       "      <td>(7890846515, 7933201071)</td>\n",
       "    </tr>\n",
       "    <tr>\n",
       "      <th>398388</th>\n",
       "      <td>7890846515</td>\n",
       "      <td>7799327129</td>\n",
       "      <td>2008-08-07 21:23:00</td>\n",
       "      <td>2008-08-07</td>\n",
       "      <td>0</td>\n",
       "      <td>0</td>\n",
       "      <td>(7890846515, 7799327129)</td>\n",
       "    </tr>\n",
       "    <tr>\n",
       "      <th>398389</th>\n",
       "      <td>7890846515</td>\n",
       "      <td>7933201071</td>\n",
       "      <td>2008-08-07 21:28:00</td>\n",
       "      <td>2008-08-07</td>\n",
       "      <td>0</td>\n",
       "      <td>0</td>\n",
       "      <td>(7890846515, 7933201071)</td>\n",
       "    </tr>\n",
       "    <tr>\n",
       "      <th>398390</th>\n",
       "      <td>7890846515</td>\n",
       "      <td>7933201071</td>\n",
       "      <td>2008-08-07 21:38:00</td>\n",
       "      <td>2008-08-07</td>\n",
       "      <td>0</td>\n",
       "      <td>0</td>\n",
       "      <td>(7890846515, 7933201071)</td>\n",
       "    </tr>\n",
       "    <tr>\n",
       "      <th>398391</th>\n",
       "      <td>7890846515</td>\n",
       "      <td>7933201071</td>\n",
       "      <td>2008-08-07 21:43:00</td>\n",
       "      <td>2008-08-07</td>\n",
       "      <td>0</td>\n",
       "      <td>0</td>\n",
       "      <td>(7890846515, 7933201071)</td>\n",
       "    </tr>\n",
       "    <tr>\n",
       "      <th>...</th>\n",
       "      <td>...</td>\n",
       "      <td>...</td>\n",
       "      <td>...</td>\n",
       "      <td>...</td>\n",
       "      <td>...</td>\n",
       "      <td>...</td>\n",
       "      <td>...</td>\n",
       "    </tr>\n",
       "    <tr>\n",
       "      <th>438502</th>\n",
       "      <td>7890846515</td>\n",
       "      <td>7792658339</td>\n",
       "      <td>2008-08-07 21:14:00</td>\n",
       "      <td>2008-08-07</td>\n",
       "      <td>0</td>\n",
       "      <td>0</td>\n",
       "      <td>(7890846515, 7792658339)</td>\n",
       "    </tr>\n",
       "    <tr>\n",
       "      <th>438503</th>\n",
       "      <td>7890846515</td>\n",
       "      <td>7792658339</td>\n",
       "      <td>2008-08-07 21:18:00</td>\n",
       "      <td>2008-08-07</td>\n",
       "      <td>0</td>\n",
       "      <td>0</td>\n",
       "      <td>(7890846515, 7792658339)</td>\n",
       "    </tr>\n",
       "    <tr>\n",
       "      <th>438504</th>\n",
       "      <td>7890846515</td>\n",
       "      <td>7867861984</td>\n",
       "      <td>2008-08-07 21:26:00</td>\n",
       "      <td>2008-08-07</td>\n",
       "      <td>1</td>\n",
       "      <td>13</td>\n",
       "      <td>(7890846515, 7867861984)</td>\n",
       "    </tr>\n",
       "    <tr>\n",
       "      <th>438505</th>\n",
       "      <td>7890846515</td>\n",
       "      <td>7531492473</td>\n",
       "      <td>2008-08-07 22:01:00</td>\n",
       "      <td>2008-08-07</td>\n",
       "      <td>1</td>\n",
       "      <td>2</td>\n",
       "      <td>(7890846515, 7531492473)</td>\n",
       "    </tr>\n",
       "    <tr>\n",
       "      <th>438506</th>\n",
       "      <td>7890846515</td>\n",
       "      <td>7867861984</td>\n",
       "      <td>2008-08-07 23:24:00</td>\n",
       "      <td>2008-08-07</td>\n",
       "      <td>1</td>\n",
       "      <td>11</td>\n",
       "      <td>(7890846515, 7867861984)</td>\n",
       "    </tr>\n",
       "  </tbody>\n",
       "</table>\n",
       "<p>40120 rows × 7 columns</p>\n",
       "</div>"
      ],
      "text/plain": [
       "               ego       alter                time       date  isCall  \\\n",
       "398387  7890846515  7933201071 2008-08-07 21:19:00 2008-08-07       0   \n",
       "398388  7890846515  7799327129 2008-08-07 21:23:00 2008-08-07       0   \n",
       "398389  7890846515  7933201071 2008-08-07 21:28:00 2008-08-07       0   \n",
       "398390  7890846515  7933201071 2008-08-07 21:38:00 2008-08-07       0   \n",
       "398391  7890846515  7933201071 2008-08-07 21:43:00 2008-08-07       0   \n",
       "...            ...         ...                 ...        ...     ...   \n",
       "438502  7890846515  7792658339 2008-08-07 21:14:00 2008-08-07       0   \n",
       "438503  7890846515  7792658339 2008-08-07 21:18:00 2008-08-07       0   \n",
       "438504  7890846515  7867861984 2008-08-07 21:26:00 2008-08-07       1   \n",
       "438505  7890846515  7531492473 2008-08-07 22:01:00 2008-08-07       1   \n",
       "438506  7890846515  7867861984 2008-08-07 23:24:00 2008-08-07       1   \n",
       "\n",
       "        duration                      pair  \n",
       "398387         0  (7890846515, 7933201071)  \n",
       "398388         0  (7890846515, 7799327129)  \n",
       "398389         0  (7890846515, 7933201071)  \n",
       "398390         0  (7890846515, 7933201071)  \n",
       "398391         0  (7890846515, 7933201071)  \n",
       "...          ...                       ...  \n",
       "438502         0  (7890846515, 7792658339)  \n",
       "438503         0  (7890846515, 7792658339)  \n",
       "438504        13  (7890846515, 7867861984)  \n",
       "438505         2  (7890846515, 7531492473)  \n",
       "438506        11  (7890846515, 7867861984)  \n",
       "\n",
       "[40120 rows x 7 columns]"
      ]
     },
     "execution_count": 17,
     "metadata": {},
     "output_type": "execute_result"
    }
   ],
   "source": [
    "uk.loc[uk['ego'] == '7890846515']"
   ]
  },
  {
   "cell_type": "code",
   "execution_count": 18,
   "id": "01452ea5-6999-40ae-830d-2945b7ce6c29",
   "metadata": {
    "execution": {
     "iopub.execute_input": "2023-03-16T23:45:18.963440Z",
     "iopub.status.busy": "2023-03-16T23:45:18.963027Z",
     "iopub.status.idle": "2023-03-16T23:45:18.987633Z",
     "shell.execute_reply": "2023-03-16T23:45:18.987035Z",
     "shell.execute_reply.started": "2023-03-16T23:45:18.963402Z"
    },
    "tags": []
   },
   "outputs": [],
   "source": [
    "ego26 = pd.read_csv(\"../ukdata/egos_alterNumbers/ego26_alterNumbers.dat\", sep=\" \", header=None, dtype={0:str})\n",
    "ego26['len'] = ego26[0].map(lambda i: len(i))\n",
    "ego26['len'].value_counts()\n",
    "ego26['alters'] = ego26[0].map(lambda i: i[-10:])\n",
    "alters26 = set(ego26['alters'])"
   ]
  },
  {
   "cell_type": "code",
   "execution_count": 19,
   "id": "52502cc4-c19a-4b13-991f-a23065051c8f",
   "metadata": {
    "execution": {
     "iopub.execute_input": "2023-03-16T23:45:31.595168Z",
     "iopub.status.busy": "2023-03-16T23:45:31.594501Z",
     "iopub.status.idle": "2023-03-16T23:45:31.635465Z",
     "shell.execute_reply": "2023-03-16T23:45:31.634896Z",
     "shell.execute_reply.started": "2023-03-16T23:45:31.595107Z"
    },
    "tags": []
   },
   "outputs": [],
   "source": [
    "egou = uk.loc[uk['ego'] == '7890846515']\n",
    "altersu = set(egou['alter'])"
   ]
  },
  {
   "cell_type": "code",
   "execution_count": 20,
   "id": "9d21fcf8-2444-4c61-8bfb-be2ff4db2a78",
   "metadata": {
    "execution": {
     "iopub.execute_input": "2023-03-16T23:45:35.455043Z",
     "iopub.status.busy": "2023-03-16T23:45:35.454689Z",
     "iopub.status.idle": "2023-03-16T23:45:35.479334Z",
     "shell.execute_reply": "2023-03-16T23:45:35.478760Z",
     "shell.execute_reply.started": "2023-03-16T23:45:35.455021Z"
    },
    "tags": []
   },
   "outputs": [
    {
     "data": {
      "text/plain": [
       "[71, 607]"
      ]
     },
     "execution_count": 20,
     "metadata": {},
     "output_type": "execute_result"
    }
   ],
   "source": [
    "[len(alters26), len(altersu)]"
   ]
  },
  {
   "cell_type": "code",
   "execution_count": 21,
   "id": "b6951cec-37ca-4bda-ab93-ba2a9c5c9e55",
   "metadata": {
    "execution": {
     "iopub.execute_input": "2023-03-16T23:45:53.111612Z",
     "iopub.status.busy": "2023-03-16T23:45:53.110914Z",
     "iopub.status.idle": "2023-03-16T23:45:53.146102Z",
     "shell.execute_reply": "2023-03-16T23:45:53.145494Z",
     "shell.execute_reply.started": "2023-03-16T23:45:53.111542Z"
    },
    "tags": []
   },
   "outputs": [
    {
     "data": {
      "text/plain": [
       "19"
      ]
     },
     "execution_count": 21,
     "metadata": {},
     "output_type": "execute_result"
    }
   ],
   "source": [
    "count = 0\n",
    "for i in alters26:\n",
    "    if i not in altersu:\n",
    "        count += 1\n",
    "count"
   ]
  },
  {
   "cell_type": "code",
   "execution_count": 22,
   "id": "ced128e3-5608-47e3-a58d-de50909c8422",
   "metadata": {
    "execution": {
     "iopub.execute_input": "2023-03-16T23:45:56.047608Z",
     "iopub.status.busy": "2023-03-16T23:45:56.047368Z",
     "iopub.status.idle": "2023-03-16T23:45:56.069803Z",
     "shell.execute_reply": "2023-03-16T23:45:56.069230Z",
     "shell.execute_reply.started": "2023-03-16T23:45:56.047588Z"
    },
    "tags": []
   },
   "outputs": [],
   "source": [
    "egoinfo['7890846515'] = (26, 1)"
   ]
  },
  {
   "cell_type": "code",
   "execution_count": 23,
   "id": "34ab9dec-9356-4e55-9422-19e2ca08ec19",
   "metadata": {
    "execution": {
     "iopub.execute_input": "2023-03-16T23:46:00.192789Z",
     "iopub.status.busy": "2023-03-16T23:46:00.192530Z",
     "iopub.status.idle": "2023-03-16T23:46:01.017048Z",
     "shell.execute_reply": "2023-03-16T23:46:01.016494Z",
     "shell.execute_reply.started": "2023-03-16T23:46:00.192766Z"
    },
    "tags": []
   },
   "outputs": [
    {
     "data": {
      "text/html": [
       "<div>\n",
       "<style scoped>\n",
       "    .dataframe tbody tr th:only-of-type {\n",
       "        vertical-align: middle;\n",
       "    }\n",
       "\n",
       "    .dataframe tbody tr th {\n",
       "        vertical-align: top;\n",
       "    }\n",
       "\n",
       "    .dataframe thead th {\n",
       "        text-align: right;\n",
       "    }\n",
       "</style>\n",
       "<table border=\"1\" class=\"dataframe\">\n",
       "  <thead>\n",
       "    <tr style=\"text-align: right;\">\n",
       "      <th></th>\n",
       "      <th>ego</th>\n",
       "      <th>alter</th>\n",
       "      <th>time</th>\n",
       "      <th>date</th>\n",
       "      <th>isCall</th>\n",
       "      <th>duration</th>\n",
       "      <th>pair</th>\n",
       "      <th>eid</th>\n",
       "      <th>efemale</th>\n",
       "    </tr>\n",
       "  </thead>\n",
       "  <tbody>\n",
       "    <tr>\n",
       "      <th>0</th>\n",
       "      <td>7896556837</td>\n",
       "      <td>7794665331</td>\n",
       "      <td>2007-03-05 15:02:00</td>\n",
       "      <td>2007-03-05</td>\n",
       "      <td>1</td>\n",
       "      <td>56</td>\n",
       "      <td>(7896556837, 7794665331)</td>\n",
       "      <td>6</td>\n",
       "      <td>0</td>\n",
       "    </tr>\n",
       "    <tr>\n",
       "      <th>1</th>\n",
       "      <td>7896556837</td>\n",
       "      <td>7800650511</td>\n",
       "      <td>2007-03-05 16:29:00</td>\n",
       "      <td>2007-03-05</td>\n",
       "      <td>0</td>\n",
       "      <td>0</td>\n",
       "      <td>(7896556837, 7800650511)</td>\n",
       "      <td>6</td>\n",
       "      <td>0</td>\n",
       "    </tr>\n",
       "    <tr>\n",
       "      <th>2</th>\n",
       "      <td>7896556837</td>\n",
       "      <td>7821100539</td>\n",
       "      <td>2007-03-05 16:37:00</td>\n",
       "      <td>2007-03-05</td>\n",
       "      <td>1</td>\n",
       "      <td>28</td>\n",
       "      <td>(7896556837, 7821100539)</td>\n",
       "      <td>6</td>\n",
       "      <td>0</td>\n",
       "    </tr>\n",
       "    <tr>\n",
       "      <th>3</th>\n",
       "      <td>7896556837</td>\n",
       "      <td>7785571995</td>\n",
       "      <td>2007-03-05 16:38:00</td>\n",
       "      <td>2007-03-05</td>\n",
       "      <td>1</td>\n",
       "      <td>30</td>\n",
       "      <td>(7896556837, 7785571995)</td>\n",
       "      <td>6</td>\n",
       "      <td>0</td>\n",
       "    </tr>\n",
       "    <tr>\n",
       "      <th>4</th>\n",
       "      <td>7896556837</td>\n",
       "      <td>7800650511</td>\n",
       "      <td>2007-03-05 16:47:00</td>\n",
       "      <td>2007-03-05</td>\n",
       "      <td>1</td>\n",
       "      <td>2</td>\n",
       "      <td>(7896556837, 7800650511)</td>\n",
       "      <td>6</td>\n",
       "      <td>0</td>\n",
       "    </tr>\n",
       "  </tbody>\n",
       "</table>\n",
       "</div>"
      ],
      "text/plain": [
       "          ego       alter                time       date  isCall  duration  \\\n",
       "0  7896556837  7794665331 2007-03-05 15:02:00 2007-03-05       1        56   \n",
       "1  7896556837  7800650511 2007-03-05 16:29:00 2007-03-05       0         0   \n",
       "2  7896556837  7821100539 2007-03-05 16:37:00 2007-03-05       1        28   \n",
       "3  7896556837  7785571995 2007-03-05 16:38:00 2007-03-05       1        30   \n",
       "4  7896556837  7800650511 2007-03-05 16:47:00 2007-03-05       1         2   \n",
       "\n",
       "                       pair  eid  efemale  \n",
       "0  (7896556837, 7794665331)    6        0  \n",
       "1  (7896556837, 7800650511)    6        0  \n",
       "2  (7896556837, 7821100539)    6        0  \n",
       "3  (7896556837, 7785571995)    6        0  \n",
       "4  (7896556837, 7800650511)    6        0  "
      ]
     },
     "execution_count": 23,
     "metadata": {},
     "output_type": "execute_result"
    }
   ],
   "source": [
    "uk['eid'] = uk['ego'].map(lambda i: egoinfo[i][0])\n",
    "uk['efemale'] = uk['ego'].map(lambda i: egoinfo[i][1])\n",
    "uk.head()"
   ]
  },
  {
   "cell_type": "code",
   "execution_count": 23,
   "id": "270f97de-b847-4480-9694-84fb31d6083f",
   "metadata": {
    "execution": {
     "iopub.execute_input": "2022-12-19T18:12:27.816055Z",
     "iopub.status.busy": "2022-12-19T18:12:27.815586Z",
     "iopub.status.idle": "2022-12-19T18:12:27.837626Z",
     "shell.execute_reply": "2022-12-19T18:12:27.837233Z",
     "shell.execute_reply.started": "2022-12-19T18:12:27.816012Z"
    },
    "tags": []
   },
   "outputs": [
    {
     "data": {
      "text/plain": [
       "ego                 object\n",
       "alter               object\n",
       "time        datetime64[ns]\n",
       "date        datetime64[ns]\n",
       "isCall               int64\n",
       "duration             int64\n",
       "pair                object\n",
       "eid                  int64\n",
       "efemale              int64\n",
       "dtype: object"
      ]
     },
     "execution_count": 23,
     "metadata": {},
     "output_type": "execute_result"
    }
   ],
   "source": [
    "uk.dtypes"
   ]
  },
  {
   "cell_type": "code",
   "execution_count": 24,
   "id": "aca0d167-fc6e-40c0-99c4-d8368a0c84e4",
   "metadata": {
    "execution": {
     "iopub.execute_input": "2023-03-16T23:46:13.194950Z",
     "iopub.status.busy": "2023-03-16T23:46:13.194304Z",
     "iopub.status.idle": "2023-03-16T23:46:13.254195Z",
     "shell.execute_reply": "2023-03-16T23:46:13.253544Z",
     "shell.execute_reply.started": "2023-03-16T23:46:13.194889Z"
    },
    "tags": []
   },
   "outputs": [],
   "source": [
    "alterid = {}\n",
    "for file in os.listdir(\"../ukdata/egos_alterNumbers/\"):\n",
    "    # print(file)\n",
    "    eid = int(file[3:5])\n",
    "    alterid[eid] = {}\n",
    "    df = pd.read_csv(f\"../ukdata/egos_alterNumbers/{file}\", header=None, sep=\" \", dtype={0: str})\n",
    "    for i in df.index:\n",
    "        numb = df.at[i, 0]\n",
    "        if len(numb) > 10:\n",
    "            numb = numb[-10:]\n",
    "            alterid[eid][numb] = int(df.at[i, 1])"
   ]
  },
  {
   "cell_type": "code",
   "execution_count": 25,
   "id": "82b19f5f-75fd-4876-9677-34a195a55ad9",
   "metadata": {
    "execution": {
     "iopub.execute_input": "2023-03-16T23:46:17.608891Z",
     "iopub.status.busy": "2023-03-16T23:46:17.608535Z",
     "iopub.status.idle": "2023-03-16T23:46:17.626982Z",
     "shell.execute_reply": "2023-03-16T23:46:17.626387Z",
     "shell.execute_reply.started": "2023-03-16T23:46:17.608861Z"
    },
    "tags": []
   },
   "outputs": [
    {
     "name": "stdout",
     "output_type": "stream",
     "text": [
      "7\n",
      "13\n",
      "18\n",
      "19\n",
      "30\n"
     ]
    }
   ],
   "source": [
    "for i in range(1, 31):\n",
    "    if i not in alterid.keys():\n",
    "        print(i)"
   ]
  },
  {
   "cell_type": "code",
   "execution_count": 26,
   "id": "1a7a7c04-afb0-497d-9e97-5bf3f7e5d2dd",
   "metadata": {
    "execution": {
     "iopub.execute_input": "2023-03-16T23:55:10.563469Z",
     "iopub.status.busy": "2023-03-16T23:55:10.563250Z",
     "iopub.status.idle": "2023-03-16T23:55:10.938082Z",
     "shell.execute_reply": "2023-03-16T23:55:10.937565Z",
     "shell.execute_reply.started": "2023-03-16T23:55:10.563454Z"
    },
    "tags": []
   },
   "outputs": [],
   "source": [
    "cols = ['aid', 'afemale', 'related', 'sameGen', 'ec1', 'ec2', 'ec3', 'alter1', 'alter2', 'alter3']\n",
    "\n",
    "for ego in ['07', '13', '18', '19', '30']:\n",
    "    eid = int(ego)\n",
    "    alterid[eid] = {}\n",
    "    df = uk.loc[uk['eid'] == eid]\n",
    "    a10 = [i for i in df['alter']]\n",
    "    a8 = [i[-8:] for i in df['alter']]\n",
    "    df2 = pd.read_csv(f\"../ukdata/egos_attributeSummaries/ego{ego}_attributeSummary.dat\", na_values=-999, header=None, names=cols, sep=\" \", dtype={'alter1': str, 'alter2': str, 'alter3': str})\n",
    "    for i in df2.index:\n",
    "        num1 = df2.at[i, 'alter1']\n",
    "        num2 = df2.at[i, 'alter2']\n",
    "        num3 = df2.at[i, 'alter3']\n",
    "        if num1 in a8:\n",
    "            pos = a8.index(num1)\n",
    "            number = a10[pos]\n",
    "            alterid[eid][number] = i\n",
    "        if (not pd.isna(num2)) and (num2 in a8):\n",
    "            pos = a8.index(num2)\n",
    "            number = a10[pos]\n",
    "            alterid[eid][number] = i\n",
    "        if (not pd.isna(num3)) and (num3 in a8):\n",
    "            pos = a8.index(num3)\n",
    "            number = a10[pos]\n",
    "            alterid[eid][number] = i"
   ]
  },
  {
   "cell_type": "code",
   "execution_count": 27,
   "id": "1795131c-5b8e-41f1-9152-1f51e7c42c5c",
   "metadata": {
    "execution": {
     "iopub.execute_input": "2023-03-16T23:55:14.213662Z",
     "iopub.status.busy": "2023-03-16T23:55:14.213323Z",
     "iopub.status.idle": "2023-03-16T23:55:14.231427Z",
     "shell.execute_reply": "2023-03-16T23:55:14.230911Z",
     "shell.execute_reply.started": "2023-03-16T23:55:14.213632Z"
    },
    "tags": []
   },
   "outputs": [
    {
     "data": {
      "text/plain": [
       "dict_keys([10, 9, 24, 28, 22, 16, 6, 17, 21, 15, 26, 29, 3, 2, 12, 14, 1, 4, 27, 8, 20, 5, 25, 11, 23, 7, 13, 18, 19, 30])"
      ]
     },
     "execution_count": 27,
     "metadata": {},
     "output_type": "execute_result"
    }
   ],
   "source": [
    "alterid.keys()"
   ]
  },
  {
   "cell_type": "code",
   "execution_count": 28,
   "id": "3e9430a0-3b95-406f-9b29-1a296c9d2c39",
   "metadata": {
    "execution": {
     "iopub.execute_input": "2023-03-16T23:55:16.464778Z",
     "iopub.status.busy": "2023-03-16T23:55:16.464587Z",
     "iopub.status.idle": "2023-03-16T23:55:16.484634Z",
     "shell.execute_reply": "2023-03-16T23:55:16.484047Z",
     "shell.execute_reply.started": "2023-03-16T23:55:16.464762Z"
    },
    "tags": []
   },
   "outputs": [
    {
     "data": {
      "text/plain": [
       "{'7886653124': 0,\n",
       " '1142960331': 1,\n",
       " '7974414160': 1,\n",
       " '1142967595': 9,\n",
       " '7886935602': 10,\n",
       " '1246550323': 24,\n",
       " '1142553990': 15,\n",
       " '7753598894': 18,\n",
       " '1142641985': 18,\n",
       " '7792658311': 21,\n",
       " '7731512955': 22,\n",
       " '7929885391': 23,\n",
       " '1142437671': 29,\n",
       " '7870886446': 28,\n",
       " '1142556721': 30,\n",
       " '7902793964': 31,\n",
       " '7792658339': 33,\n",
       " '7969760845': 34,\n",
       " '7835588869': 35,\n",
       " '7970136770': 39,\n",
       " '7986312152': 40,\n",
       " '7767631720': 41,\n",
       " '7908803983': 42,\n",
       " '7760150929': 43,\n",
       " '7709186078': 44,\n",
       " '7788653124': 45,\n",
       " '7800643466': 46,\n",
       " '7706863788': 47,\n",
       " '7796015648': 48,\n",
       " '7791018584': 49,\n",
       " '7772378467': 50,\n",
       " '7807099302': 51,\n",
       " '1142500254': 52,\n",
       " '7854098713': 53,\n",
       " '7891656476': 54,\n",
       " '7714413317': 55,\n",
       " '7877543792': 56,\n",
       " '1142585103': 57,\n",
       " '1142684753': 58,\n",
       " '1142490019': 59,\n",
       " '7828717709': 60,\n",
       " '7737278047': 61,\n",
       " '7973100123': 62,\n",
       " '1142931761': 63,\n",
       " '7852796054': 64,\n",
       " '7977115946': 65,\n",
       " '7800714259': 66,\n",
       " '7800643415': 67,\n",
       " '7800643277': 68,\n",
       " '7830044389': 69,\n",
       " '1709373715': 70,\n",
       " '7946866841': 71,\n",
       " '7890948782': 72,\n",
       " '7961287984': 73,\n",
       " '7747568958': 74,\n",
       " '7833514719': 75,\n",
       " '7812603180': 76,\n",
       " '7773260009': 77,\n",
       " '7757216409': 78,\n",
       " '7973885163': 79,\n",
       " '7755500505': 80,\n",
       " '1785250000': 81,\n",
       " '1785710253': 82,\n",
       " '7711068579': 83,\n",
       " '7932593187': 84,\n",
       " '1142509394': 85,\n",
       " '7858221894': 86,\n",
       " '7989517508': 87,\n",
       " '7894349925': 88,\n",
       " '7744369000': 89,\n",
       " '7901913627': 92,\n",
       " '7807932556': 93,\n",
       " '7790564884': 94,\n",
       " '7807929266': 95,\n",
       " '7952671224': 96,\n",
       " '1142581694': 97,\n",
       " '7874870722': 98,\n",
       " '7946832747': 99,\n",
       " '7976661999': 100,\n",
       " '7855939049': 101,\n",
       " '2083111748': 102,\n",
       " '2071793636': 103,\n",
       " '1709839007': 104,\n",
       " '7805843430': 105,\n",
       " '7805050451': 106,\n",
       " '7967893449': 107,\n",
       " '7887892863': 108,\n",
       " '7920131669': 109,\n",
       " '1142629600': 110,\n",
       " '7847077044': 111,\n",
       " '1142670000': 112,\n",
       " '7849638750': 113,\n",
       " '1142568188': 115,\n",
       " '7784122198': 116,\n",
       " '1158465428': 117,\n",
       " '1159249813': 118,\n",
       " '7888863100': 119,\n",
       " '7961700524': 120,\n",
       " '1142580786': 121,\n",
       " '7796316557': 122,\n",
       " '1142508898': 123,\n",
       " '7967473709': 124,\n",
       " '7737024181': 125,\n",
       " '1629583890': 126,\n",
       " '1142500484': 127,\n",
       " '7788803080': 128,\n",
       " '7978555555': 130,\n",
       " '7908483678': 131,\n",
       " '7942747627': 132,\n",
       " '7985331196': 133,\n",
       " '7785546613': 134,\n",
       " '7942606515': 135,\n",
       " '7923255998': 136,\n",
       " '7972227501': 137,\n",
       " '7972883089': 138,\n",
       " '7853275028': 139,\n",
       " '1159788811': 140,\n",
       " '7942477724': 141,\n",
       " '7864185310': 142,\n",
       " '7821418739': 143,\n",
       " '7973265283': 144,\n",
       " '7964687187': 145,\n",
       " '7874873876': 146,\n",
       " '7789187291': 147,\n",
       " '7961738983': 148,\n",
       " '7867507495': 149,\n",
       " '1142558100': 150,\n",
       " '7785278268': 151,\n",
       " '1159258158': 152,\n",
       " '7838254608': 153,\n",
       " '7942745711': 154,\n",
       " '7515125593': 155,\n",
       " '7942747675': 156,\n",
       " '1159502548': 158,\n",
       " '2084290429': 159,\n",
       " '7999111099': 160,\n",
       " '7515444102': 161,\n",
       " '7971405369': 163,\n",
       " '7931203605': 164,\n",
       " '7711766697': 166,\n",
       " '7512660091': 168,\n",
       " '7908470902': 169,\n",
       " '7785975158': 170,\n",
       " '7513075482': 171,\n",
       " '7890849832': 172,\n",
       " '7853698437': 173,\n",
       " '7951066727': 174,\n",
       " '1159170635': 175,\n",
       " '1159607607': 176,\n",
       " '7792708156': 177,\n",
       " '1142622640': 178,\n",
       " '7816955139': 179,\n",
       " '7504521355': 180,\n",
       " '7796751333': 181,\n",
       " '7796524732': 182,\n",
       " '7810401430': 183,\n",
       " '7815010269': 184,\n",
       " '7785969664': 185,\n",
       " '7843916491': 186,\n",
       " '7888883007': 187,\n",
       " '7973490822': 188,\n",
       " '1159700700': 189,\n",
       " '1142669344': 190,\n",
       " '1594163012': 191,\n",
       " '7915663734': 192,\n",
       " '7828913138': 193,\n",
       " '7950167444': 194,\n",
       " '7949600483': 195,\n",
       " '1159416301': 196,\n",
       " '7872009987': 197,\n",
       " '7972586182': 198,\n",
       " '7768907986': 200,\n",
       " '7954605088': 201,\n",
       " '7812343223': 202,\n",
       " '7973662929': 203,\n",
       " '7988693814': 204,\n",
       " '7815051975': 205,\n",
       " '7781474421': 206,\n",
       " '1159257129': 208,\n",
       " '7969750981': 209,\n",
       " '7908321794': 210,\n",
       " '7528030110': 211,\n",
       " '1159700020': 212,\n",
       " '1158772992': 213,\n",
       " '7525720246': 214,\n",
       " '1159224141': 215,\n",
       " '7849943497': 216,\n",
       " '7525724316': 218,\n",
       " '1159677877': 219,\n",
       " '7857423239': 220,\n",
       " '7894159751': 221,\n",
       " '7515566908': 222,\n",
       " '7525716713': 223,\n",
       " '7527479040': 224,\n",
       " '7525014023': 225,\n",
       " '7528642967': 226,\n",
       " '1142584544': 227,\n",
       " '7974505666': 228,\n",
       " '7795375126': 229,\n",
       " '7760188701': 230,\n",
       " '1159253377': 231,\n",
       " '7525162984': 232,\n",
       " '7515420770': 233,\n",
       " '7814450197': 234,\n",
       " '7533655198': 235,\n",
       " '7530595104': 236,\n",
       " '7813215391': 237,\n",
       " '7965316525': 238,\n",
       " '7515808178': 239,\n",
       " '1142037204': 240,\n",
       " '7990906787': 241,\n",
       " '1142588824': 242,\n",
       " '1142754913': 243,\n",
       " '7737205057': 244,\n",
       " '7940284457': 245,\n",
       " '7957139706': 247,\n",
       " '7723486737': 248,\n",
       " '7541414016': 249,\n",
       " '7965432437': 250,\n",
       " '1159128416': 251,\n",
       " '1143353501': 252,\n",
       " '7767821020': 253,\n",
       " '7746219819': 254,\n",
       " '1246298333': 255,\n",
       " '1604855100': 256,\n",
       " '7508128603': 257,\n",
       " '7870409619': 258,\n",
       " '7800759255': 260}"
      ]
     },
     "execution_count": 28,
     "metadata": {},
     "output_type": "execute_result"
    }
   ],
   "source": [
    "alterid[7]"
   ]
  },
  {
   "cell_type": "code",
   "execution_count": 29,
   "id": "b0992fa2-611f-4f16-b6ba-6b13b96537f9",
   "metadata": {
    "execution": {
     "iopub.execute_input": "2023-03-16T23:55:33.923013Z",
     "iopub.status.busy": "2023-03-16T23:55:33.922788Z",
     "iopub.status.idle": "2023-03-16T23:55:34.151417Z",
     "shell.execute_reply": "2023-03-16T23:55:34.150928Z",
     "shell.execute_reply.started": "2023-03-16T23:55:33.922997Z"
    },
    "tags": []
   },
   "outputs": [
    {
     "data": {
      "text/plain": [
       "Ego                  int64\n",
       "Alter                Int64\n",
       "Alter mobile        object\n",
       "Alter landline      object\n",
       "Face contact T1    float64\n",
       "Face contact T2    float64\n",
       "Face contact T3    float64\n",
       "dtype: object"
      ]
     },
     "execution_count": 29,
     "metadata": {},
     "output_type": "execute_result"
    }
   ],
   "source": [
    "face = pd.read_excel(\"../ukdata/face_to_face contact.xlsx\", na_values=999, dtype={'Alter': 'Int64'})\n",
    "face.dtypes"
   ]
  },
  {
   "cell_type": "code",
   "execution_count": 30,
   "id": "9aebba98-85e3-4eec-9f3e-083a90dd07fa",
   "metadata": {
    "execution": {
     "iopub.execute_input": "2023-03-16T23:55:41.113053Z",
     "iopub.status.busy": "2023-03-16T23:55:41.112153Z",
     "iopub.status.idle": "2023-03-16T23:55:41.131116Z",
     "shell.execute_reply": "2023-03-16T23:55:41.130385Z",
     "shell.execute_reply.started": "2023-03-16T23:55:41.112968Z"
    },
    "tags": []
   },
   "outputs": [],
   "source": [
    "def dealnum(num):\n",
    "    if type(num) == str:\n",
    "        num2 = num.replace(\" \", \"\")[-10:]\n",
    "    elif type(num) == int:\n",
    "        num2 = str(num)[-10:]\n",
    "    else:\n",
    "        num2 = np.nan\n",
    "    return num2"
   ]
  },
  {
   "cell_type": "code",
   "execution_count": 31,
   "id": "6367c480-bf8e-41ad-a84e-01533792f827",
   "metadata": {
    "execution": {
     "iopub.execute_input": "2023-03-16T23:55:46.827002Z",
     "iopub.status.busy": "2023-03-16T23:55:46.826778Z",
     "iopub.status.idle": "2023-03-16T23:55:46.850478Z",
     "shell.execute_reply": "2023-03-16T23:55:46.849889Z",
     "shell.execute_reply.started": "2023-03-16T23:55:46.826987Z"
    },
    "tags": []
   },
   "outputs": [
    {
     "data": {
      "text/html": [
       "<div>\n",
       "<style scoped>\n",
       "    .dataframe tbody tr th:only-of-type {\n",
       "        vertical-align: middle;\n",
       "    }\n",
       "\n",
       "    .dataframe tbody tr th {\n",
       "        vertical-align: top;\n",
       "    }\n",
       "\n",
       "    .dataframe thead th {\n",
       "        text-align: right;\n",
       "    }\n",
       "</style>\n",
       "<table border=\"1\" class=\"dataframe\">\n",
       "  <thead>\n",
       "    <tr style=\"text-align: right;\">\n",
       "      <th></th>\n",
       "      <th>Ego</th>\n",
       "      <th>Alter</th>\n",
       "      <th>Alter mobile</th>\n",
       "      <th>Alter landline</th>\n",
       "      <th>Face contact T1</th>\n",
       "      <th>Face contact T2</th>\n",
       "      <th>Face contact T3</th>\n",
       "      <th>amob</th>\n",
       "      <th>aland</th>\n",
       "    </tr>\n",
       "  </thead>\n",
       "  <tbody>\n",
       "    <tr>\n",
       "      <th>0</th>\n",
       "      <td>2</td>\n",
       "      <td>201</td>\n",
       "      <td>NaN</td>\n",
       "      <td>0114 2661804</td>\n",
       "      <td>1.0</td>\n",
       "      <td>1.0</td>\n",
       "      <td>1.0</td>\n",
       "      <td>NaN</td>\n",
       "      <td>1142661804</td>\n",
       "    </tr>\n",
       "    <tr>\n",
       "      <th>1</th>\n",
       "      <td>2</td>\n",
       "      <td>202</td>\n",
       "      <td>07986 687851</td>\n",
       "      <td>0114 2661804</td>\n",
       "      <td>1.0</td>\n",
       "      <td>1.0</td>\n",
       "      <td>1.0</td>\n",
       "      <td>7986687851</td>\n",
       "      <td>1142661804</td>\n",
       "    </tr>\n",
       "    <tr>\n",
       "      <th>2</th>\n",
       "      <td>2</td>\n",
       "      <td>203</td>\n",
       "      <td>07847 628716</td>\n",
       "      <td>NaN</td>\n",
       "      <td>1.0</td>\n",
       "      <td>1.0</td>\n",
       "      <td>1.0</td>\n",
       "      <td>7847628716</td>\n",
       "      <td>NaN</td>\n",
       "    </tr>\n",
       "    <tr>\n",
       "      <th>3</th>\n",
       "      <td>2</td>\n",
       "      <td>204</td>\n",
       "      <td>07962 022353</td>\n",
       "      <td>01246 235985</td>\n",
       "      <td>22.5</td>\n",
       "      <td>23.0</td>\n",
       "      <td>5.0</td>\n",
       "      <td>7962022353</td>\n",
       "      <td>1246235985</td>\n",
       "    </tr>\n",
       "    <tr>\n",
       "      <th>4</th>\n",
       "      <td>2</td>\n",
       "      <td>205</td>\n",
       "      <td>07962 022353</td>\n",
       "      <td>01246 235985</td>\n",
       "      <td>18.0</td>\n",
       "      <td>23.0</td>\n",
       "      <td>5.0</td>\n",
       "      <td>7962022353</td>\n",
       "      <td>1246235985</td>\n",
       "    </tr>\n",
       "  </tbody>\n",
       "</table>\n",
       "</div>"
      ],
      "text/plain": [
       "   Ego  Alter  Alter mobile Alter landline  Face contact T1  Face contact T2  \\\n",
       "0    2    201           NaN   0114 2661804              1.0              1.0   \n",
       "1    2    202  07986 687851   0114 2661804              1.0              1.0   \n",
       "2    2    203  07847 628716            NaN              1.0              1.0   \n",
       "3    2    204  07962 022353   01246 235985             22.5             23.0   \n",
       "4    2    205  07962 022353   01246 235985             18.0             23.0   \n",
       "\n",
       "   Face contact T3        amob       aland  \n",
       "0              1.0         NaN  1142661804  \n",
       "1              1.0  7986687851  1142661804  \n",
       "2              1.0  7847628716         NaN  \n",
       "3              5.0  7962022353  1246235985  \n",
       "4              5.0  7962022353  1246235985  "
      ]
     },
     "execution_count": 31,
     "metadata": {},
     "output_type": "execute_result"
    }
   ],
   "source": [
    "face['amob'] = face['Alter mobile'].map(lambda i: dealnum(i))\n",
    "face['aland'] = face['Alter landline'].map(lambda i: dealnum(i))\n",
    "face.head()"
   ]
  },
  {
   "cell_type": "code",
   "execution_count": 32,
   "id": "b2c681ed-266e-4f91-a8c0-ea9093e4149e",
   "metadata": {
    "execution": {
     "iopub.execute_input": "2023-03-16T23:55:50.778640Z",
     "iopub.status.busy": "2023-03-16T23:55:50.778373Z",
     "iopub.status.idle": "2023-03-16T23:55:50.986665Z",
     "shell.execute_reply": "2023-03-16T23:55:50.986116Z",
     "shell.execute_reply.started": "2023-03-16T23:55:50.778618Z"
    },
    "tags": []
   },
   "outputs": [
    {
     "data": {
      "text/html": [
       "<div>\n",
       "<style scoped>\n",
       "    .dataframe tbody tr th:only-of-type {\n",
       "        vertical-align: middle;\n",
       "    }\n",
       "\n",
       "    .dataframe tbody tr th {\n",
       "        vertical-align: top;\n",
       "    }\n",
       "\n",
       "    .dataframe thead th {\n",
       "        text-align: right;\n",
       "    }\n",
       "</style>\n",
       "<table border=\"1\" class=\"dataframe\">\n",
       "  <thead>\n",
       "    <tr style=\"text-align: right;\">\n",
       "      <th></th>\n",
       "      <th>Ego</th>\n",
       "      <th>Alter</th>\n",
       "      <th>Alter mobile</th>\n",
       "      <th>Alter landline</th>\n",
       "      <th>Face contact T1</th>\n",
       "      <th>Face contact T2</th>\n",
       "      <th>Face contact T3</th>\n",
       "      <th>amob</th>\n",
       "      <th>aland</th>\n",
       "      <th>aid</th>\n",
       "    </tr>\n",
       "  </thead>\n",
       "  <tbody>\n",
       "    <tr>\n",
       "      <th>0</th>\n",
       "      <td>2</td>\n",
       "      <td>201</td>\n",
       "      <td>NaN</td>\n",
       "      <td>0114 2661804</td>\n",
       "      <td>1.0</td>\n",
       "      <td>1.0</td>\n",
       "      <td>1.0</td>\n",
       "      <td>NaN</td>\n",
       "      <td>1142661804</td>\n",
       "      <td>2</td>\n",
       "    </tr>\n",
       "    <tr>\n",
       "      <th>1</th>\n",
       "      <td>2</td>\n",
       "      <td>202</td>\n",
       "      <td>07986 687851</td>\n",
       "      <td>0114 2661804</td>\n",
       "      <td>1.0</td>\n",
       "      <td>1.0</td>\n",
       "      <td>1.0</td>\n",
       "      <td>7986687851</td>\n",
       "      <td>1142661804</td>\n",
       "      <td>1</td>\n",
       "    </tr>\n",
       "    <tr>\n",
       "      <th>2</th>\n",
       "      <td>2</td>\n",
       "      <td>203</td>\n",
       "      <td>07847 628716</td>\n",
       "      <td>NaN</td>\n",
       "      <td>1.0</td>\n",
       "      <td>1.0</td>\n",
       "      <td>1.0</td>\n",
       "      <td>7847628716</td>\n",
       "      <td>NaN</td>\n",
       "      <td>2</td>\n",
       "    </tr>\n",
       "    <tr>\n",
       "      <th>3</th>\n",
       "      <td>2</td>\n",
       "      <td>204</td>\n",
       "      <td>07962 022353</td>\n",
       "      <td>01246 235985</td>\n",
       "      <td>22.5</td>\n",
       "      <td>23.0</td>\n",
       "      <td>5.0</td>\n",
       "      <td>7962022353</td>\n",
       "      <td>1246235985</td>\n",
       "      <td>13</td>\n",
       "    </tr>\n",
       "    <tr>\n",
       "      <th>4</th>\n",
       "      <td>2</td>\n",
       "      <td>205</td>\n",
       "      <td>07962 022353</td>\n",
       "      <td>01246 235985</td>\n",
       "      <td>18.0</td>\n",
       "      <td>23.0</td>\n",
       "      <td>5.0</td>\n",
       "      <td>7962022353</td>\n",
       "      <td>1246235985</td>\n",
       "      <td>13</td>\n",
       "    </tr>\n",
       "  </tbody>\n",
       "</table>\n",
       "</div>"
      ],
      "text/plain": [
       "   Ego  Alter  Alter mobile Alter landline  Face contact T1  Face contact T2  \\\n",
       "0    2    201           NaN   0114 2661804              1.0              1.0   \n",
       "1    2    202  07986 687851   0114 2661804              1.0              1.0   \n",
       "2    2    203  07847 628716            NaN              1.0              1.0   \n",
       "3    2    204  07962 022353   01246 235985             22.5             23.0   \n",
       "4    2    205  07962 022353   01246 235985             18.0             23.0   \n",
       "\n",
       "   Face contact T3        amob       aland  aid  \n",
       "0              1.0         NaN  1142661804    2  \n",
       "1              1.0  7986687851  1142661804    1  \n",
       "2              1.0  7847628716         NaN    2  \n",
       "3              5.0  7962022353  1246235985   13  \n",
       "4              5.0  7962022353  1246235985   13  "
      ]
     },
     "execution_count": 32,
     "metadata": {},
     "output_type": "execute_result"
    }
   ],
   "source": [
    "for i in face.index:\n",
    "    ego = face.at[i, 'Ego']\n",
    "    amob = face.at[i, 'amob']\n",
    "    if pd.isna(amob):\n",
    "        num = face.at[i, 'aland']\n",
    "        if (not pd.isna(num)) and (num in alterid[ego].keys()):\n",
    "            face.at[i, 'aid'] = alterid[ego][num]\n",
    "        else:\n",
    "            face.at[i, 'aid'] = np.nan\n",
    "    elif amob in alterid[ego].keys():\n",
    "        face.at[i, 'aid'] = alterid[ego][amob]\n",
    "    else:\n",
    "        face.at[i, 'aid'] = np.nan\n",
    "face['aid'] = face['aid'].astype('Int64')\n",
    "face.head()"
   ]
  },
  {
   "cell_type": "code",
   "execution_count": 33,
   "id": "dc917802-9015-472a-9b8a-59dd781a9798",
   "metadata": {
    "execution": {
     "iopub.execute_input": "2023-03-16T23:56:07.450545Z",
     "iopub.status.busy": "2023-03-16T23:56:07.450331Z",
     "iopub.status.idle": "2023-03-16T23:56:07.472796Z",
     "shell.execute_reply": "2023-03-16T23:56:07.472251Z",
     "shell.execute_reply.started": "2023-03-16T23:56:07.450530Z"
    },
    "tags": []
   },
   "outputs": [
    {
     "data": {
      "text/html": [
       "<div>\n",
       "<style scoped>\n",
       "    .dataframe tbody tr th:only-of-type {\n",
       "        vertical-align: middle;\n",
       "    }\n",
       "\n",
       "    .dataframe tbody tr th {\n",
       "        vertical-align: top;\n",
       "    }\n",
       "\n",
       "    .dataframe thead th {\n",
       "        text-align: right;\n",
       "    }\n",
       "</style>\n",
       "<table border=\"1\" class=\"dataframe\">\n",
       "  <thead>\n",
       "    <tr style=\"text-align: right;\">\n",
       "      <th></th>\n",
       "      <th>pair3</th>\n",
       "      <th>face1</th>\n",
       "      <th>face2</th>\n",
       "      <th>face3</th>\n",
       "    </tr>\n",
       "  </thead>\n",
       "  <tbody>\n",
       "    <tr>\n",
       "      <th>0</th>\n",
       "      <td>(2, 2)</td>\n",
       "      <td>1.0</td>\n",
       "      <td>1.0</td>\n",
       "      <td>1.0</td>\n",
       "    </tr>\n",
       "    <tr>\n",
       "      <th>1</th>\n",
       "      <td>(2, 1)</td>\n",
       "      <td>1.0</td>\n",
       "      <td>1.0</td>\n",
       "      <td>1.0</td>\n",
       "    </tr>\n",
       "    <tr>\n",
       "      <th>2</th>\n",
       "      <td>(2, 2)</td>\n",
       "      <td>1.0</td>\n",
       "      <td>1.0</td>\n",
       "      <td>1.0</td>\n",
       "    </tr>\n",
       "    <tr>\n",
       "      <th>3</th>\n",
       "      <td>(2, 13)</td>\n",
       "      <td>22.5</td>\n",
       "      <td>23.0</td>\n",
       "      <td>5.0</td>\n",
       "    </tr>\n",
       "    <tr>\n",
       "      <th>4</th>\n",
       "      <td>(2, 13)</td>\n",
       "      <td>18.0</td>\n",
       "      <td>23.0</td>\n",
       "      <td>5.0</td>\n",
       "    </tr>\n",
       "  </tbody>\n",
       "</table>\n",
       "</div>"
      ],
      "text/plain": [
       "     pair3  face1  face2  face3\n",
       "0   (2, 2)    1.0    1.0    1.0\n",
       "1   (2, 1)    1.0    1.0    1.0\n",
       "2   (2, 2)    1.0    1.0    1.0\n",
       "3  (2, 13)   22.5   23.0    5.0\n",
       "4  (2, 13)   18.0   23.0    5.0"
      ]
     },
     "execution_count": 33,
     "metadata": {},
     "output_type": "execute_result"
    }
   ],
   "source": [
    "face.columns = ['eid', 'fdfkwjbnfjkwr', 'eqdfeqd', 'fewfwefwe', 'face1', 'face2', 'face3', 'edffge', 'retrew', 'aid']\n",
    "face['pair3'] = list(zip(face['eid'], face['aid']))\n",
    "face = face[['pair3', 'face1', 'face2', 'face3']]\n",
    "face.head()"
   ]
  },
  {
   "cell_type": "code",
   "execution_count": 34,
   "id": "4979bfab-9c7a-4dec-a7a0-376a9a93e0b1",
   "metadata": {
    "execution": {
     "iopub.execute_input": "2023-03-16T23:56:11.662034Z",
     "iopub.status.busy": "2023-03-16T23:56:11.661558Z",
     "iopub.status.idle": "2023-03-16T23:56:11.676956Z",
     "shell.execute_reply": "2023-03-16T23:56:11.676408Z",
     "shell.execute_reply.started": "2023-03-16T23:56:11.662016Z"
    },
    "tags": []
   },
   "outputs": [],
   "source": [
    "for i in range(1, 31):\n",
    "    if i not in alterid.keys():\n",
    "        print(i)"
   ]
  },
  {
   "cell_type": "code",
   "execution_count": 35,
   "id": "76b5e8f8-fcc8-45bb-a91e-b7ec9545eb53",
   "metadata": {
    "execution": {
     "iopub.execute_input": "2023-03-16T23:56:15.783725Z",
     "iopub.status.busy": "2023-03-16T23:56:15.783045Z",
     "iopub.status.idle": "2023-03-16T23:56:16.110571Z",
     "shell.execute_reply": "2023-03-16T23:56:16.109986Z",
     "shell.execute_reply.started": "2023-03-16T23:56:15.783707Z"
    },
    "tags": []
   },
   "outputs": [
    {
     "data": {
      "text/html": [
       "<div>\n",
       "<style scoped>\n",
       "    .dataframe tbody tr th:only-of-type {\n",
       "        vertical-align: middle;\n",
       "    }\n",
       "\n",
       "    .dataframe tbody tr th {\n",
       "        vertical-align: top;\n",
       "    }\n",
       "\n",
       "    .dataframe thead th {\n",
       "        text-align: right;\n",
       "    }\n",
       "</style>\n",
       "<table border=\"1\" class=\"dataframe\">\n",
       "  <thead>\n",
       "    <tr style=\"text-align: right;\">\n",
       "      <th></th>\n",
       "      <th>ego</th>\n",
       "      <th>alter</th>\n",
       "      <th>time</th>\n",
       "      <th>date</th>\n",
       "      <th>isCall</th>\n",
       "      <th>duration</th>\n",
       "      <th>pair</th>\n",
       "      <th>eid</th>\n",
       "      <th>efemale</th>\n",
       "      <th>pair2</th>\n",
       "      <th>aid</th>\n",
       "    </tr>\n",
       "  </thead>\n",
       "  <tbody>\n",
       "    <tr>\n",
       "      <th>0</th>\n",
       "      <td>7896556837</td>\n",
       "      <td>7794665331</td>\n",
       "      <td>2007-03-05 15:02:00</td>\n",
       "      <td>2007-03-05</td>\n",
       "      <td>1</td>\n",
       "      <td>56</td>\n",
       "      <td>(7896556837, 7794665331)</td>\n",
       "      <td>6</td>\n",
       "      <td>0</td>\n",
       "      <td>(6, 7794665331)</td>\n",
       "      <td>6</td>\n",
       "    </tr>\n",
       "    <tr>\n",
       "      <th>1</th>\n",
       "      <td>7896556837</td>\n",
       "      <td>7800650511</td>\n",
       "      <td>2007-03-05 16:29:00</td>\n",
       "      <td>2007-03-05</td>\n",
       "      <td>0</td>\n",
       "      <td>0</td>\n",
       "      <td>(7896556837, 7800650511)</td>\n",
       "      <td>6</td>\n",
       "      <td>0</td>\n",
       "      <td>(6, 7800650511)</td>\n",
       "      <td>63</td>\n",
       "    </tr>\n",
       "    <tr>\n",
       "      <th>2</th>\n",
       "      <td>7896556837</td>\n",
       "      <td>7821100539</td>\n",
       "      <td>2007-03-05 16:37:00</td>\n",
       "      <td>2007-03-05</td>\n",
       "      <td>1</td>\n",
       "      <td>28</td>\n",
       "      <td>(7896556837, 7821100539)</td>\n",
       "      <td>6</td>\n",
       "      <td>0</td>\n",
       "      <td>(6, 7821100539)</td>\n",
       "      <td>0</td>\n",
       "    </tr>\n",
       "    <tr>\n",
       "      <th>3</th>\n",
       "      <td>7896556837</td>\n",
       "      <td>7785571995</td>\n",
       "      <td>2007-03-05 16:38:00</td>\n",
       "      <td>2007-03-05</td>\n",
       "      <td>1</td>\n",
       "      <td>30</td>\n",
       "      <td>(7896556837, 7785571995)</td>\n",
       "      <td>6</td>\n",
       "      <td>0</td>\n",
       "      <td>(6, 7785571995)</td>\n",
       "      <td>&lt;NA&gt;</td>\n",
       "    </tr>\n",
       "    <tr>\n",
       "      <th>4</th>\n",
       "      <td>7896556837</td>\n",
       "      <td>7800650511</td>\n",
       "      <td>2007-03-05 16:47:00</td>\n",
       "      <td>2007-03-05</td>\n",
       "      <td>1</td>\n",
       "      <td>2</td>\n",
       "      <td>(7896556837, 7800650511)</td>\n",
       "      <td>6</td>\n",
       "      <td>0</td>\n",
       "      <td>(6, 7800650511)</td>\n",
       "      <td>63</td>\n",
       "    </tr>\n",
       "  </tbody>\n",
       "</table>\n",
       "</div>"
      ],
      "text/plain": [
       "          ego       alter                time       date  isCall  duration  \\\n",
       "0  7896556837  7794665331 2007-03-05 15:02:00 2007-03-05       1        56   \n",
       "1  7896556837  7800650511 2007-03-05 16:29:00 2007-03-05       0         0   \n",
       "2  7896556837  7821100539 2007-03-05 16:37:00 2007-03-05       1        28   \n",
       "3  7896556837  7785571995 2007-03-05 16:38:00 2007-03-05       1        30   \n",
       "4  7896556837  7800650511 2007-03-05 16:47:00 2007-03-05       1         2   \n",
       "\n",
       "                       pair  eid  efemale            pair2   aid  \n",
       "0  (7896556837, 7794665331)    6        0  (6, 7794665331)     6  \n",
       "1  (7896556837, 7800650511)    6        0  (6, 7800650511)    63  \n",
       "2  (7896556837, 7821100539)    6        0  (6, 7821100539)     0  \n",
       "3  (7896556837, 7785571995)    6        0  (6, 7785571995)  <NA>  \n",
       "4  (7896556837, 7800650511)    6        0  (6, 7800650511)    63  "
      ]
     },
     "execution_count": 35,
     "metadata": {},
     "output_type": "execute_result"
    }
   ],
   "source": [
    "uk['pair2'] = list(zip(uk['eid'], uk['alter']))\n",
    "uk['aid'] = uk['pair2'].map(lambda i: int(alterid[i[0]][i[1]]) if i[1] in alterid[i[0]].keys() else np.nan).astype('Int64')\n",
    "uk.head()"
   ]
  },
  {
   "cell_type": "code",
   "execution_count": 36,
   "id": "f2940edb-0c5f-4354-8b6e-e176b87814fa",
   "metadata": {
    "execution": {
     "iopub.execute_input": "2023-03-16T23:56:27.100174Z",
     "iopub.status.busy": "2023-03-16T23:56:27.099959Z",
     "iopub.status.idle": "2023-03-16T23:56:27.382780Z",
     "shell.execute_reply": "2023-03-16T23:56:27.382129Z",
     "shell.execute_reply.started": "2023-03-16T23:56:27.100159Z"
    },
    "tags": []
   },
   "outputs": [
    {
     "data": {
      "text/html": [
       "<div>\n",
       "<style scoped>\n",
       "    .dataframe tbody tr th:only-of-type {\n",
       "        vertical-align: middle;\n",
       "    }\n",
       "\n",
       "    .dataframe tbody tr th {\n",
       "        vertical-align: top;\n",
       "    }\n",
       "\n",
       "    .dataframe thead th {\n",
       "        text-align: right;\n",
       "    }\n",
       "</style>\n",
       "<table border=\"1\" class=\"dataframe\">\n",
       "  <thead>\n",
       "    <tr style=\"text-align: right;\">\n",
       "      <th></th>\n",
       "      <th>ego</th>\n",
       "      <th>alter</th>\n",
       "      <th>time</th>\n",
       "      <th>date</th>\n",
       "      <th>isCall</th>\n",
       "      <th>duration</th>\n",
       "      <th>pair</th>\n",
       "      <th>eid</th>\n",
       "      <th>efemale</th>\n",
       "      <th>pair2</th>\n",
       "      <th>aid</th>\n",
       "      <th>pair3</th>\n",
       "    </tr>\n",
       "  </thead>\n",
       "  <tbody>\n",
       "    <tr>\n",
       "      <th>0</th>\n",
       "      <td>7896556837</td>\n",
       "      <td>7794665331</td>\n",
       "      <td>2007-03-05 15:02:00</td>\n",
       "      <td>2007-03-05</td>\n",
       "      <td>1</td>\n",
       "      <td>56</td>\n",
       "      <td>(7896556837, 7794665331)</td>\n",
       "      <td>6</td>\n",
       "      <td>0</td>\n",
       "      <td>(6, 7794665331)</td>\n",
       "      <td>6</td>\n",
       "      <td>(6, 6)</td>\n",
       "    </tr>\n",
       "    <tr>\n",
       "      <th>1</th>\n",
       "      <td>7896556837</td>\n",
       "      <td>7800650511</td>\n",
       "      <td>2007-03-05 16:29:00</td>\n",
       "      <td>2007-03-05</td>\n",
       "      <td>0</td>\n",
       "      <td>0</td>\n",
       "      <td>(7896556837, 7800650511)</td>\n",
       "      <td>6</td>\n",
       "      <td>0</td>\n",
       "      <td>(6, 7800650511)</td>\n",
       "      <td>63</td>\n",
       "      <td>(6, 63)</td>\n",
       "    </tr>\n",
       "    <tr>\n",
       "      <th>2</th>\n",
       "      <td>7896556837</td>\n",
       "      <td>7821100539</td>\n",
       "      <td>2007-03-05 16:37:00</td>\n",
       "      <td>2007-03-05</td>\n",
       "      <td>1</td>\n",
       "      <td>28</td>\n",
       "      <td>(7896556837, 7821100539)</td>\n",
       "      <td>6</td>\n",
       "      <td>0</td>\n",
       "      <td>(6, 7821100539)</td>\n",
       "      <td>0</td>\n",
       "      <td>(6, 0)</td>\n",
       "    </tr>\n",
       "    <tr>\n",
       "      <th>3</th>\n",
       "      <td>7896556837</td>\n",
       "      <td>7785571995</td>\n",
       "      <td>2007-03-05 16:38:00</td>\n",
       "      <td>2007-03-05</td>\n",
       "      <td>1</td>\n",
       "      <td>30</td>\n",
       "      <td>(7896556837, 7785571995)</td>\n",
       "      <td>6</td>\n",
       "      <td>0</td>\n",
       "      <td>(6, 7785571995)</td>\n",
       "      <td>&lt;NA&gt;</td>\n",
       "      <td>(6, &lt;NA&gt;)</td>\n",
       "    </tr>\n",
       "    <tr>\n",
       "      <th>4</th>\n",
       "      <td>7896556837</td>\n",
       "      <td>7800650511</td>\n",
       "      <td>2007-03-05 16:47:00</td>\n",
       "      <td>2007-03-05</td>\n",
       "      <td>1</td>\n",
       "      <td>2</td>\n",
       "      <td>(7896556837, 7800650511)</td>\n",
       "      <td>6</td>\n",
       "      <td>0</td>\n",
       "      <td>(6, 7800650511)</td>\n",
       "      <td>63</td>\n",
       "      <td>(6, 63)</td>\n",
       "    </tr>\n",
       "  </tbody>\n",
       "</table>\n",
       "</div>"
      ],
      "text/plain": [
       "          ego       alter                time       date  isCall  duration  \\\n",
       "0  7896556837  7794665331 2007-03-05 15:02:00 2007-03-05       1        56   \n",
       "1  7896556837  7800650511 2007-03-05 16:29:00 2007-03-05       0         0   \n",
       "2  7896556837  7821100539 2007-03-05 16:37:00 2007-03-05       1        28   \n",
       "3  7896556837  7785571995 2007-03-05 16:38:00 2007-03-05       1        30   \n",
       "4  7896556837  7800650511 2007-03-05 16:47:00 2007-03-05       1         2   \n",
       "\n",
       "                       pair  eid  efemale            pair2   aid      pair3  \n",
       "0  (7896556837, 7794665331)    6        0  (6, 7794665331)     6     (6, 6)  \n",
       "1  (7896556837, 7800650511)    6        0  (6, 7800650511)    63    (6, 63)  \n",
       "2  (7896556837, 7821100539)    6        0  (6, 7821100539)     0     (6, 0)  \n",
       "3  (7896556837, 7785571995)    6        0  (6, 7785571995)  <NA>  (6, <NA>)  \n",
       "4  (7896556837, 7800650511)    6        0  (6, 7800650511)    63    (6, 63)  "
      ]
     },
     "execution_count": 36,
     "metadata": {},
     "output_type": "execute_result"
    }
   ],
   "source": [
    "uk['pair3'] = list(zip(uk['eid'], uk['aid']))\n",
    "uk.head()"
   ]
  },
  {
   "cell_type": "code",
   "execution_count": 37,
   "id": "4e8b10e6-7f57-4a64-8f32-dd547cd538ff",
   "metadata": {
    "execution": {
     "iopub.execute_input": "2023-03-16T23:56:37.832657Z",
     "iopub.status.busy": "2023-03-16T23:56:37.832260Z",
     "iopub.status.idle": "2023-03-16T23:56:37.853357Z",
     "shell.execute_reply": "2023-03-16T23:56:37.852679Z",
     "shell.execute_reply.started": "2023-03-16T23:56:37.832622Z"
    },
    "tags": []
   },
   "outputs": [
    {
     "data": {
      "text/plain": [
       "316900"
      ]
     },
     "execution_count": 37,
     "metadata": {},
     "output_type": "execute_result"
    }
   ],
   "source": [
    "len(uk) - uk['aid'].isna().sum()"
   ]
  },
  {
   "cell_type": "code",
   "execution_count": 38,
   "id": "72d3a4fb-757c-44a7-929e-c11018d2de65",
   "metadata": {
    "execution": {
     "iopub.execute_input": "2023-03-16T23:56:43.356623Z",
     "iopub.status.busy": "2023-03-16T23:56:43.356261Z",
     "iopub.status.idle": "2023-03-16T23:56:43.440875Z",
     "shell.execute_reply": "2023-03-16T23:56:43.440376Z",
     "shell.execute_reply.started": "2023-03-16T23:56:43.356606Z"
    },
    "tags": []
   },
   "outputs": [
    {
     "data": {
      "text/plain": [
       "316900"
      ]
     },
     "execution_count": 38,
     "metadata": {},
     "output_type": "execute_result"
    }
   ],
   "source": [
    "uk = uk.dropna(subset=['aid'])\n",
    "len(uk)"
   ]
  },
  {
   "cell_type": "code",
   "execution_count": 39,
   "id": "2a9c7809-0828-443a-9708-ed3650eef48c",
   "metadata": {
    "execution": {
     "iopub.execute_input": "2023-03-16T23:57:33.907543Z",
     "iopub.status.busy": "2023-03-16T23:57:33.907159Z",
     "iopub.status.idle": "2023-03-16T23:57:34.029189Z",
     "shell.execute_reply": "2023-03-16T23:57:34.028656Z",
     "shell.execute_reply.started": "2023-03-16T23:57:33.907525Z"
    },
    "tags": []
   },
   "outputs": [],
   "source": [
    "alterextra = {}\n",
    "for file in os.listdir(\"../ukdata/egos_attributeSummaries/\"):\n",
    "    if file[-4:] == '.dat':\n",
    "        eid = int(file[3:5])\n",
    "        alterextra[eid] = {}\n",
    "        df = pd.read_csv(f\"../ukdata/egos_attributeSummaries/{file}\", na_values=-999, header=None, names=cols, sep=\" \", dtype={'alter1': str, 'alter2': str, 'alter3': str}, on_bad_lines='skip')\n",
    "        df = df[['afemale', 'related', 'sameGen', 'ec1', 'ec2', 'ec3']]\n",
    "        tuples = df.apply(tuple,axis=1).to_numpy()\n",
    "        for aid in range(len(tuples)):\n",
    "            alterextra[eid][aid] = tuples[aid]"
   ]
  },
  {
   "cell_type": "code",
   "execution_count": 40,
   "id": "6b587a16-5e50-4708-b2c5-eae010324848",
   "metadata": {
    "execution": {
     "iopub.execute_input": "2023-03-16T23:57:37.561467Z",
     "iopub.status.busy": "2023-03-16T23:57:37.561244Z",
     "iopub.status.idle": "2023-03-16T23:57:37.577482Z",
     "shell.execute_reply": "2023-03-16T23:57:37.576919Z",
     "shell.execute_reply.started": "2023-03-16T23:57:37.561452Z"
    },
    "tags": []
   },
   "outputs": [
    {
     "name": "stdout",
     "output_type": "stream",
     "text": [
      "29 128\n",
      "1 71\n",
      "30 273\n",
      "10 160\n",
      "9 203\n",
      "2 142\n",
      "4 246\n",
      "16 452\n",
      "24 142\n",
      "13 378\n",
      "11 228\n",
      "23 151\n",
      "28 340\n",
      "17 441\n",
      "26 661\n",
      "7 261\n",
      "21 244\n",
      "5 204\n",
      "6 331\n",
      "19 274\n",
      "20 239\n",
      "25 123\n",
      "14 615\n",
      "8 141\n",
      "27 265\n",
      "15 789\n",
      "18 268\n",
      "22 236\n",
      "12 303\n",
      "3 185\n"
     ]
    }
   ],
   "source": [
    "for i in alterextra.keys():\n",
    "    print(i, len(alterextra[i].keys()))"
   ]
  },
  {
   "cell_type": "code",
   "execution_count": 41,
   "id": "bb7b6c56-f7b5-4f42-a80f-be3c224f13ec",
   "metadata": {
    "execution": {
     "iopub.execute_input": "2023-03-16T23:57:41.409936Z",
     "iopub.status.busy": "2023-03-16T23:57:41.409676Z",
     "iopub.status.idle": "2023-03-16T23:57:41.448655Z",
     "shell.execute_reply": "2023-03-16T23:57:41.447897Z",
     "shell.execute_reply.started": "2023-03-16T23:57:41.409914Z"
    },
    "tags": []
   },
   "outputs": [
    {
     "data": {
      "text/html": [
       "<div>\n",
       "<style scoped>\n",
       "    .dataframe tbody tr th:only-of-type {\n",
       "        vertical-align: middle;\n",
       "    }\n",
       "\n",
       "    .dataframe tbody tr th {\n",
       "        vertical-align: top;\n",
       "    }\n",
       "\n",
       "    .dataframe thead th {\n",
       "        text-align: right;\n",
       "    }\n",
       "</style>\n",
       "<table border=\"1\" class=\"dataframe\">\n",
       "  <thead>\n",
       "    <tr style=\"text-align: right;\">\n",
       "      <th></th>\n",
       "      <th>ego</th>\n",
       "      <th>alter</th>\n",
       "      <th>time</th>\n",
       "      <th>date</th>\n",
       "      <th>isCall</th>\n",
       "      <th>duration</th>\n",
       "      <th>pair</th>\n",
       "      <th>eid</th>\n",
       "      <th>efemale</th>\n",
       "      <th>pair2</th>\n",
       "      <th>aid</th>\n",
       "      <th>pair3</th>\n",
       "    </tr>\n",
       "  </thead>\n",
       "  <tbody>\n",
       "    <tr>\n",
       "      <th>0</th>\n",
       "      <td>7896556837</td>\n",
       "      <td>7794665331</td>\n",
       "      <td>2007-03-05 15:02:00</td>\n",
       "      <td>2007-03-05</td>\n",
       "      <td>1</td>\n",
       "      <td>56</td>\n",
       "      <td>(7896556837, 7794665331)</td>\n",
       "      <td>6</td>\n",
       "      <td>0</td>\n",
       "      <td>(6, 7794665331)</td>\n",
       "      <td>6</td>\n",
       "      <td>(6, 6)</td>\n",
       "    </tr>\n",
       "    <tr>\n",
       "      <th>1</th>\n",
       "      <td>7896556837</td>\n",
       "      <td>7800650511</td>\n",
       "      <td>2007-03-05 16:29:00</td>\n",
       "      <td>2007-03-05</td>\n",
       "      <td>0</td>\n",
       "      <td>0</td>\n",
       "      <td>(7896556837, 7800650511)</td>\n",
       "      <td>6</td>\n",
       "      <td>0</td>\n",
       "      <td>(6, 7800650511)</td>\n",
       "      <td>63</td>\n",
       "      <td>(6, 63)</td>\n",
       "    </tr>\n",
       "    <tr>\n",
       "      <th>2</th>\n",
       "      <td>7896556837</td>\n",
       "      <td>7821100539</td>\n",
       "      <td>2007-03-05 16:37:00</td>\n",
       "      <td>2007-03-05</td>\n",
       "      <td>1</td>\n",
       "      <td>28</td>\n",
       "      <td>(7896556837, 7821100539)</td>\n",
       "      <td>6</td>\n",
       "      <td>0</td>\n",
       "      <td>(6, 7821100539)</td>\n",
       "      <td>0</td>\n",
       "      <td>(6, 0)</td>\n",
       "    </tr>\n",
       "    <tr>\n",
       "      <th>4</th>\n",
       "      <td>7896556837</td>\n",
       "      <td>7800650511</td>\n",
       "      <td>2007-03-05 16:47:00</td>\n",
       "      <td>2007-03-05</td>\n",
       "      <td>1</td>\n",
       "      <td>2</td>\n",
       "      <td>(7896556837, 7800650511)</td>\n",
       "      <td>6</td>\n",
       "      <td>0</td>\n",
       "      <td>(6, 7800650511)</td>\n",
       "      <td>63</td>\n",
       "      <td>(6, 63)</td>\n",
       "    </tr>\n",
       "    <tr>\n",
       "      <th>5</th>\n",
       "      <td>7896556837</td>\n",
       "      <td>1142551732</td>\n",
       "      <td>2007-03-05 16:48:00</td>\n",
       "      <td>2007-03-05</td>\n",
       "      <td>1</td>\n",
       "      <td>143</td>\n",
       "      <td>(7896556837, 1142551732)</td>\n",
       "      <td>6</td>\n",
       "      <td>0</td>\n",
       "      <td>(6, 1142551732)</td>\n",
       "      <td>7</td>\n",
       "      <td>(6, 7)</td>\n",
       "    </tr>\n",
       "  </tbody>\n",
       "</table>\n",
       "</div>"
      ],
      "text/plain": [
       "          ego       alter                time       date  isCall  duration  \\\n",
       "0  7896556837  7794665331 2007-03-05 15:02:00 2007-03-05       1        56   \n",
       "1  7896556837  7800650511 2007-03-05 16:29:00 2007-03-05       0         0   \n",
       "2  7896556837  7821100539 2007-03-05 16:37:00 2007-03-05       1        28   \n",
       "4  7896556837  7800650511 2007-03-05 16:47:00 2007-03-05       1         2   \n",
       "5  7896556837  1142551732 2007-03-05 16:48:00 2007-03-05       1       143   \n",
       "\n",
       "                       pair  eid  efemale            pair2  aid    pair3  \n",
       "0  (7896556837, 7794665331)    6        0  (6, 7794665331)    6   (6, 6)  \n",
       "1  (7896556837, 7800650511)    6        0  (6, 7800650511)   63  (6, 63)  \n",
       "2  (7896556837, 7821100539)    6        0  (6, 7821100539)    0   (6, 0)  \n",
       "4  (7896556837, 7800650511)    6        0  (6, 7800650511)   63  (6, 63)  \n",
       "5  (7896556837, 1142551732)    6        0  (6, 1142551732)    7   (6, 7)  "
      ]
     },
     "execution_count": 41,
     "metadata": {},
     "output_type": "execute_result"
    }
   ],
   "source": [
    "uk.head()"
   ]
  },
  {
   "cell_type": "code",
   "execution_count": 42,
   "id": "5f841b17-61b1-40b9-a552-8667c99545ac",
   "metadata": {
    "execution": {
     "iopub.execute_input": "2023-03-16T23:58:03.956551Z",
     "iopub.status.busy": "2023-03-16T23:58:03.955792Z",
     "iopub.status.idle": "2023-03-16T23:58:04.424234Z",
     "shell.execute_reply": "2023-03-16T23:58:04.423703Z",
     "shell.execute_reply.started": "2023-03-16T23:58:03.956522Z"
    },
    "tags": []
   },
   "outputs": [
    {
     "data": {
      "text/html": [
       "<div>\n",
       "<style scoped>\n",
       "    .dataframe tbody tr th:only-of-type {\n",
       "        vertical-align: middle;\n",
       "    }\n",
       "\n",
       "    .dataframe tbody tr th {\n",
       "        vertical-align: top;\n",
       "    }\n",
       "\n",
       "    .dataframe thead th {\n",
       "        text-align: right;\n",
       "    }\n",
       "</style>\n",
       "<table border=\"1\" class=\"dataframe\">\n",
       "  <thead>\n",
       "    <tr style=\"text-align: right;\">\n",
       "      <th></th>\n",
       "      <th>ego</th>\n",
       "      <th>alter</th>\n",
       "      <th>time</th>\n",
       "      <th>date</th>\n",
       "      <th>isCall</th>\n",
       "      <th>duration</th>\n",
       "      <th>pair</th>\n",
       "      <th>eid</th>\n",
       "      <th>efemale</th>\n",
       "      <th>pair2</th>\n",
       "      <th>aid</th>\n",
       "      <th>pair3</th>\n",
       "      <th>afemale</th>\n",
       "      <th>related</th>\n",
       "      <th>sameGen</th>\n",
       "      <th>ec1</th>\n",
       "      <th>ec2</th>\n",
       "      <th>ec3</th>\n",
       "    </tr>\n",
       "  </thead>\n",
       "  <tbody>\n",
       "    <tr>\n",
       "      <th>0</th>\n",
       "      <td>7896556837</td>\n",
       "      <td>7794665331</td>\n",
       "      <td>2007-03-05 15:02:00</td>\n",
       "      <td>2007-03-05</td>\n",
       "      <td>1</td>\n",
       "      <td>56</td>\n",
       "      <td>(7896556837, 7794665331)</td>\n",
       "      <td>6</td>\n",
       "      <td>0</td>\n",
       "      <td>(6, 7794665331)</td>\n",
       "      <td>6</td>\n",
       "      <td>(6, 6)</td>\n",
       "      <td>1.0</td>\n",
       "      <td>0.0</td>\n",
       "      <td>NaN</td>\n",
       "      <td>9.0</td>\n",
       "      <td>8.0</td>\n",
       "      <td>8.0</td>\n",
       "    </tr>\n",
       "    <tr>\n",
       "      <th>1</th>\n",
       "      <td>7896556837</td>\n",
       "      <td>7800650511</td>\n",
       "      <td>2007-03-05 16:29:00</td>\n",
       "      <td>2007-03-05</td>\n",
       "      <td>0</td>\n",
       "      <td>0</td>\n",
       "      <td>(7896556837, 7800650511)</td>\n",
       "      <td>6</td>\n",
       "      <td>0</td>\n",
       "      <td>(6, 7800650511)</td>\n",
       "      <td>63</td>\n",
       "      <td>(6, 63)</td>\n",
       "      <td>1.0</td>\n",
       "      <td>0.0</td>\n",
       "      <td>NaN</td>\n",
       "      <td>3.0</td>\n",
       "      <td>4.0</td>\n",
       "      <td>1.0</td>\n",
       "    </tr>\n",
       "    <tr>\n",
       "      <th>2</th>\n",
       "      <td>7896556837</td>\n",
       "      <td>7821100539</td>\n",
       "      <td>2007-03-05 16:37:00</td>\n",
       "      <td>2007-03-05</td>\n",
       "      <td>1</td>\n",
       "      <td>28</td>\n",
       "      <td>(7896556837, 7821100539)</td>\n",
       "      <td>6</td>\n",
       "      <td>0</td>\n",
       "      <td>(6, 7821100539)</td>\n",
       "      <td>0</td>\n",
       "      <td>(6, 0)</td>\n",
       "      <td>0.0</td>\n",
       "      <td>1.0</td>\n",
       "      <td>0.0</td>\n",
       "      <td>9.0</td>\n",
       "      <td>10.0</td>\n",
       "      <td>9.0</td>\n",
       "    </tr>\n",
       "    <tr>\n",
       "      <th>4</th>\n",
       "      <td>7896556837</td>\n",
       "      <td>7800650511</td>\n",
       "      <td>2007-03-05 16:47:00</td>\n",
       "      <td>2007-03-05</td>\n",
       "      <td>1</td>\n",
       "      <td>2</td>\n",
       "      <td>(7896556837, 7800650511)</td>\n",
       "      <td>6</td>\n",
       "      <td>0</td>\n",
       "      <td>(6, 7800650511)</td>\n",
       "      <td>63</td>\n",
       "      <td>(6, 63)</td>\n",
       "      <td>1.0</td>\n",
       "      <td>0.0</td>\n",
       "      <td>NaN</td>\n",
       "      <td>3.0</td>\n",
       "      <td>4.0</td>\n",
       "      <td>1.0</td>\n",
       "    </tr>\n",
       "    <tr>\n",
       "      <th>5</th>\n",
       "      <td>7896556837</td>\n",
       "      <td>1142551732</td>\n",
       "      <td>2007-03-05 16:48:00</td>\n",
       "      <td>2007-03-05</td>\n",
       "      <td>1</td>\n",
       "      <td>143</td>\n",
       "      <td>(7896556837, 1142551732)</td>\n",
       "      <td>6</td>\n",
       "      <td>0</td>\n",
       "      <td>(6, 1142551732)</td>\n",
       "      <td>7</td>\n",
       "      <td>(6, 7)</td>\n",
       "      <td>1.0</td>\n",
       "      <td>0.0</td>\n",
       "      <td>NaN</td>\n",
       "      <td>9.0</td>\n",
       "      <td>8.0</td>\n",
       "      <td>8.0</td>\n",
       "    </tr>\n",
       "  </tbody>\n",
       "</table>\n",
       "</div>"
      ],
      "text/plain": [
       "          ego       alter                time       date  isCall  duration  \\\n",
       "0  7896556837  7794665331 2007-03-05 15:02:00 2007-03-05       1        56   \n",
       "1  7896556837  7800650511 2007-03-05 16:29:00 2007-03-05       0         0   \n",
       "2  7896556837  7821100539 2007-03-05 16:37:00 2007-03-05       1        28   \n",
       "4  7896556837  7800650511 2007-03-05 16:47:00 2007-03-05       1         2   \n",
       "5  7896556837  1142551732 2007-03-05 16:48:00 2007-03-05       1       143   \n",
       "\n",
       "                       pair  eid  efemale            pair2  aid    pair3  \\\n",
       "0  (7896556837, 7794665331)    6        0  (6, 7794665331)    6   (6, 6)   \n",
       "1  (7896556837, 7800650511)    6        0  (6, 7800650511)   63  (6, 63)   \n",
       "2  (7896556837, 7821100539)    6        0  (6, 7821100539)    0   (6, 0)   \n",
       "4  (7896556837, 7800650511)    6        0  (6, 7800650511)   63  (6, 63)   \n",
       "5  (7896556837, 1142551732)    6        0  (6, 1142551732)    7   (6, 7)   \n",
       "\n",
       "   afemale  related  sameGen  ec1   ec2  ec3  \n",
       "0      1.0      0.0      NaN  9.0   8.0  8.0  \n",
       "1      1.0      0.0      NaN  3.0   4.0  1.0  \n",
       "2      0.0      1.0      0.0  9.0  10.0  9.0  \n",
       "4      1.0      0.0      NaN  3.0   4.0  1.0  \n",
       "5      1.0      0.0      NaN  9.0   8.0  8.0  "
      ]
     },
     "execution_count": 42,
     "metadata": {},
     "output_type": "execute_result"
    }
   ],
   "source": [
    "uk['afemale'] = uk['pair3'].map(lambda i: alterextra[i[0]][i[1]][0])\n",
    "uk['related'] = uk['pair3'].map(lambda i: alterextra[i[0]][i[1]][1])\n",
    "uk['sameGen'] = uk['pair3'].map(lambda i: alterextra[i[0]][i[1]][2])\n",
    "uk['ec1'] = uk['pair3'].map(lambda i: alterextra[i[0]][i[1]][3])\n",
    "uk['ec2'] = uk['pair3'].map(lambda i: alterextra[i[0]][i[1]][4])\n",
    "uk['ec3'] = uk['pair3'].map(lambda i: alterextra[i[0]][i[1]][5])\n",
    "uk.head()"
   ]
  },
  {
   "cell_type": "code",
   "execution_count": 43,
   "id": "99c0f6c4-bdf0-4650-9b0b-cc2d9371af83",
   "metadata": {
    "execution": {
     "iopub.execute_input": "2023-03-16T23:58:16.890358Z",
     "iopub.status.busy": "2023-03-16T23:58:16.890138Z",
     "iopub.status.idle": "2023-03-16T23:58:16.909005Z",
     "shell.execute_reply": "2023-03-16T23:58:16.908459Z",
     "shell.execute_reply.started": "2023-03-16T23:58:16.890344Z"
    },
    "tags": []
   },
   "outputs": [
    {
     "data": {
      "text/plain": [
       "0.0    246857\n",
       "1.0     35314\n",
       "Name: related, dtype: int64"
      ]
     },
     "execution_count": 43,
     "metadata": {},
     "output_type": "execute_result"
    }
   ],
   "source": [
    "uk['related'].value_counts()"
   ]
  },
  {
   "cell_type": "code",
   "execution_count": 44,
   "id": "4a799dd3-c024-4f69-9639-df6a8acfc422",
   "metadata": {
    "execution": {
     "iopub.execute_input": "2023-03-16T23:58:27.837842Z",
     "iopub.status.busy": "2023-03-16T23:58:27.837658Z",
     "iopub.status.idle": "2023-03-16T23:58:27.990150Z",
     "shell.execute_reply": "2023-03-16T23:58:27.989563Z",
     "shell.execute_reply.started": "2023-03-16T23:58:27.837826Z"
    },
    "tags": []
   },
   "outputs": [
    {
     "name": "stdout",
     "output_type": "stream",
     "text": [
      "2277\n",
      "2277\n"
     ]
    },
    {
     "data": {
      "text/html": [
       "<div>\n",
       "<style scoped>\n",
       "    .dataframe tbody tr th:only-of-type {\n",
       "        vertical-align: middle;\n",
       "    }\n",
       "\n",
       "    .dataframe tbody tr th {\n",
       "        vertical-align: top;\n",
       "    }\n",
       "\n",
       "    .dataframe thead th {\n",
       "        text-align: right;\n",
       "    }\n",
       "</style>\n",
       "<table border=\"1\" class=\"dataframe\">\n",
       "  <thead>\n",
       "    <tr style=\"text-align: right;\">\n",
       "      <th></th>\n",
       "      <th>ego</th>\n",
       "      <th>alter</th>\n",
       "      <th>time</th>\n",
       "      <th>date</th>\n",
       "      <th>isCall</th>\n",
       "      <th>duration</th>\n",
       "      <th>pair</th>\n",
       "      <th>eid</th>\n",
       "      <th>efemale</th>\n",
       "      <th>pair2</th>\n",
       "      <th>...</th>\n",
       "      <th>pair3</th>\n",
       "      <th>afemale</th>\n",
       "      <th>related</th>\n",
       "      <th>sameGen</th>\n",
       "      <th>ec1</th>\n",
       "      <th>ec2</th>\n",
       "      <th>ec3</th>\n",
       "      <th>face1</th>\n",
       "      <th>face2</th>\n",
       "      <th>face3</th>\n",
       "    </tr>\n",
       "  </thead>\n",
       "  <tbody>\n",
       "    <tr>\n",
       "      <th>0</th>\n",
       "      <td>7896556837</td>\n",
       "      <td>7794665331</td>\n",
       "      <td>2007-03-05 15:02:00</td>\n",
       "      <td>2007-03-05</td>\n",
       "      <td>1</td>\n",
       "      <td>56</td>\n",
       "      <td>(7896556837, 7794665331)</td>\n",
       "      <td>6</td>\n",
       "      <td>0</td>\n",
       "      <td>(6, 7794665331)</td>\n",
       "      <td>...</td>\n",
       "      <td>(6, 6)</td>\n",
       "      <td>1.0</td>\n",
       "      <td>0.0</td>\n",
       "      <td>NaN</td>\n",
       "      <td>9.0</td>\n",
       "      <td>8.0</td>\n",
       "      <td>8.0</td>\n",
       "      <td>1.0</td>\n",
       "      <td>1.0</td>\n",
       "      <td>1.0</td>\n",
       "    </tr>\n",
       "    <tr>\n",
       "      <th>1</th>\n",
       "      <td>7896556837</td>\n",
       "      <td>7800650511</td>\n",
       "      <td>2007-03-05 16:29:00</td>\n",
       "      <td>2007-03-05</td>\n",
       "      <td>0</td>\n",
       "      <td>0</td>\n",
       "      <td>(7896556837, 7800650511)</td>\n",
       "      <td>6</td>\n",
       "      <td>0</td>\n",
       "      <td>(6, 7800650511)</td>\n",
       "      <td>...</td>\n",
       "      <td>(6, 63)</td>\n",
       "      <td>1.0</td>\n",
       "      <td>0.0</td>\n",
       "      <td>NaN</td>\n",
       "      <td>3.0</td>\n",
       "      <td>4.0</td>\n",
       "      <td>1.0</td>\n",
       "      <td>5.0</td>\n",
       "      <td>124.0</td>\n",
       "      <td>286.0</td>\n",
       "    </tr>\n",
       "    <tr>\n",
       "      <th>2</th>\n",
       "      <td>7896556837</td>\n",
       "      <td>7821100539</td>\n",
       "      <td>2007-03-05 16:37:00</td>\n",
       "      <td>2007-03-05</td>\n",
       "      <td>1</td>\n",
       "      <td>28</td>\n",
       "      <td>(7896556837, 7821100539)</td>\n",
       "      <td>6</td>\n",
       "      <td>0</td>\n",
       "      <td>(6, 7821100539)</td>\n",
       "      <td>...</td>\n",
       "      <td>(6, 0)</td>\n",
       "      <td>0.0</td>\n",
       "      <td>1.0</td>\n",
       "      <td>0.0</td>\n",
       "      <td>9.0</td>\n",
       "      <td>10.0</td>\n",
       "      <td>9.0</td>\n",
       "      <td>1.0</td>\n",
       "      <td>1.0</td>\n",
       "      <td>1.0</td>\n",
       "    </tr>\n",
       "    <tr>\n",
       "      <th>3</th>\n",
       "      <td>7896556837</td>\n",
       "      <td>7800650511</td>\n",
       "      <td>2007-03-05 16:47:00</td>\n",
       "      <td>2007-03-05</td>\n",
       "      <td>1</td>\n",
       "      <td>2</td>\n",
       "      <td>(7896556837, 7800650511)</td>\n",
       "      <td>6</td>\n",
       "      <td>0</td>\n",
       "      <td>(6, 7800650511)</td>\n",
       "      <td>...</td>\n",
       "      <td>(6, 63)</td>\n",
       "      <td>1.0</td>\n",
       "      <td>0.0</td>\n",
       "      <td>NaN</td>\n",
       "      <td>3.0</td>\n",
       "      <td>4.0</td>\n",
       "      <td>1.0</td>\n",
       "      <td>5.0</td>\n",
       "      <td>124.0</td>\n",
       "      <td>286.0</td>\n",
       "    </tr>\n",
       "    <tr>\n",
       "      <th>4</th>\n",
       "      <td>7896556837</td>\n",
       "      <td>1142551732</td>\n",
       "      <td>2007-03-05 16:48:00</td>\n",
       "      <td>2007-03-05</td>\n",
       "      <td>1</td>\n",
       "      <td>143</td>\n",
       "      <td>(7896556837, 1142551732)</td>\n",
       "      <td>6</td>\n",
       "      <td>0</td>\n",
       "      <td>(6, 1142551732)</td>\n",
       "      <td>...</td>\n",
       "      <td>(6, 7)</td>\n",
       "      <td>1.0</td>\n",
       "      <td>0.0</td>\n",
       "      <td>NaN</td>\n",
       "      <td>9.0</td>\n",
       "      <td>8.0</td>\n",
       "      <td>8.0</td>\n",
       "      <td>1.0</td>\n",
       "      <td>1.0</td>\n",
       "      <td>133.0</td>\n",
       "    </tr>\n",
       "  </tbody>\n",
       "</table>\n",
       "<p>5 rows × 21 columns</p>\n",
       "</div>"
      ],
      "text/plain": [
       "          ego       alter                time       date  isCall  duration  \\\n",
       "0  7896556837  7794665331 2007-03-05 15:02:00 2007-03-05       1        56   \n",
       "1  7896556837  7800650511 2007-03-05 16:29:00 2007-03-05       0         0   \n",
       "2  7896556837  7821100539 2007-03-05 16:37:00 2007-03-05       1        28   \n",
       "3  7896556837  7800650511 2007-03-05 16:47:00 2007-03-05       1         2   \n",
       "4  7896556837  1142551732 2007-03-05 16:48:00 2007-03-05       1       143   \n",
       "\n",
       "                       pair  eid  efemale            pair2  ...    pair3  \\\n",
       "0  (7896556837, 7794665331)    6        0  (6, 7794665331)  ...   (6, 6)   \n",
       "1  (7896556837, 7800650511)    6        0  (6, 7800650511)  ...  (6, 63)   \n",
       "2  (7896556837, 7821100539)    6        0  (6, 7821100539)  ...   (6, 0)   \n",
       "3  (7896556837, 7800650511)    6        0  (6, 7800650511)  ...  (6, 63)   \n",
       "4  (7896556837, 1142551732)    6        0  (6, 1142551732)  ...   (6, 7)   \n",
       "\n",
       "  afemale  related  sameGen  ec1   ec2  ec3  face1  face2  face3  \n",
       "0     1.0      0.0      NaN  9.0   8.0  8.0    1.0    1.0    1.0  \n",
       "1     1.0      0.0      NaN  3.0   4.0  1.0    5.0  124.0  286.0  \n",
       "2     0.0      1.0      0.0  9.0  10.0  9.0    1.0    1.0    1.0  \n",
       "3     1.0      0.0      NaN  3.0   4.0  1.0    5.0  124.0  286.0  \n",
       "4     1.0      0.0      NaN  9.0   8.0  8.0    1.0    1.0  133.0  \n",
       "\n",
       "[5 rows x 21 columns]"
      ]
     },
     "execution_count": 44,
     "metadata": {},
     "output_type": "execute_result"
    }
   ],
   "source": [
    "print(len(uk['pair3'].unique()))\n",
    "uk = uk.merge(face, on='pair3', how='left')\n",
    "print(len(uk['pair3'].unique()))\n",
    "uk.head()"
   ]
  },
  {
   "cell_type": "code",
   "execution_count": 45,
   "id": "e69fce73-33dc-422f-9e08-e22cbf7d1b20",
   "metadata": {
    "execution": {
     "iopub.execute_input": "2023-03-16T23:58:39.581766Z",
     "iopub.status.busy": "2023-03-16T23:58:39.581562Z",
     "iopub.status.idle": "2023-03-16T23:58:39.617700Z",
     "shell.execute_reply": "2023-03-16T23:58:39.617192Z",
     "shell.execute_reply.started": "2023-03-16T23:58:39.581751Z"
    },
    "tags": []
   },
   "outputs": [
    {
     "data": {
      "text/plain": [
       "202366"
      ]
     },
     "execution_count": 45,
     "metadata": {},
     "output_type": "execute_result"
    }
   ],
   "source": [
    "sum(~uk['face1'].isna())"
   ]
  },
  {
   "cell_type": "markdown",
   "id": "e5499675-e85a-481e-ae61-5f3b93bdefab",
   "metadata": {},
   "source": [
    "## Include layers"
   ]
  },
  {
   "cell_type": "code",
   "execution_count": 48,
   "id": "4f7440ec-6359-44f4-a69e-d953561fe633",
   "metadata": {
    "execution": {
     "iopub.execute_input": "2022-12-19T18:16:44.346116Z",
     "iopub.status.busy": "2022-12-19T18:16:44.345817Z",
     "iopub.status.idle": "2022-12-19T18:16:44.369873Z",
     "shell.execute_reply": "2022-12-19T18:16:44.369233Z",
     "shell.execute_reply.started": "2022-12-19T18:16:44.346100Z"
    },
    "tags": []
   },
   "outputs": [
    {
     "ename": "ImportError",
     "evalue": "dlopen(/Users/vsvh/Library/Python/3.10/lib/python/site-packages/pyreadstat/pyreadstat.cpython-310-darwin.so, 0x0002): tried: '/Users/vsvh/Library/Python/3.10/lib/python/site-packages/pyreadstat/pyreadstat.cpython-310-darwin.so' (mach-o file, but is an incompatible architecture (have 'x86_64', need 'arm64')), '/System/Volumes/Preboot/Cryptexes/OS/Users/vsvh/Library/Python/3.10/lib/python/site-packages/pyreadstat/pyreadstat.cpython-310-darwin.so' (no such file), '/Users/vsvh/Library/Python/3.10/lib/python/site-packages/pyreadstat/pyreadstat.cpython-310-darwin.so' (mach-o file, but is an incompatible architecture (have 'x86_64', need 'arm64'))",
     "output_type": "error",
     "traceback": [
      "\u001b[0;31m---------------------------------------------------------------------------\u001b[0m",
      "\u001b[0;31mImportError\u001b[0m                               Traceback (most recent call last)",
      "Input \u001b[0;32mIn [48]\u001b[0m, in \u001b[0;36m<cell line: 1>\u001b[0;34m()\u001b[0m\n\u001b[0;32m----> 1\u001b[0m \u001b[38;5;28;01mimport\u001b[39;00m \u001b[38;5;21;01mpyreadstat\u001b[39;00m\n",
      "File \u001b[0;32m~/Library/Python/3.10/lib/python/site-packages/pyreadstat/__init__.py:17\u001b[0m, in \u001b[0;36m<module>\u001b[0;34m\u001b[0m\n\u001b[1;32m      1\u001b[0m \u001b[38;5;66;03m# #############################################################################\u001b[39;00m\n\u001b[1;32m      2\u001b[0m \u001b[38;5;66;03m# Copyright 2018 Hoffmann-La Roche\u001b[39;00m\n\u001b[1;32m      3\u001b[0m \u001b[38;5;66;03m#\u001b[39;00m\n\u001b[0;32m   (...)\u001b[0m\n\u001b[1;32m     14\u001b[0m \u001b[38;5;66;03m# limitations under the License.\u001b[39;00m\n\u001b[1;32m     15\u001b[0m \u001b[38;5;66;03m# #############################################################################\u001b[39;00m\n\u001b[0;32m---> 17\u001b[0m \u001b[38;5;28;01mfrom\u001b[39;00m \u001b[38;5;21;01m.\u001b[39;00m\u001b[38;5;21;01mpyreadstat\u001b[39;00m \u001b[38;5;28;01mimport\u001b[39;00m read_sas7bdat, read_xport, read_dta, read_sav, read_por, read_sas7bcat\n\u001b[1;32m     18\u001b[0m \u001b[38;5;28;01mfrom\u001b[39;00m \u001b[38;5;21;01m.\u001b[39;00m\u001b[38;5;21;01mpyreadstat\u001b[39;00m \u001b[38;5;28;01mimport\u001b[39;00m write_sav, write_dta, write_xport, write_por\n\u001b[1;32m     19\u001b[0m \u001b[38;5;28;01mfrom\u001b[39;00m \u001b[38;5;21;01m.\u001b[39;00m\u001b[38;5;21;01mpyreadstat\u001b[39;00m \u001b[38;5;28;01mimport\u001b[39;00m set_value_labels, set_catalog_to_sas\n",
      "\u001b[0;31mImportError\u001b[0m: dlopen(/Users/vsvh/Library/Python/3.10/lib/python/site-packages/pyreadstat/pyreadstat.cpython-310-darwin.so, 0x0002): tried: '/Users/vsvh/Library/Python/3.10/lib/python/site-packages/pyreadstat/pyreadstat.cpython-310-darwin.so' (mach-o file, but is an incompatible architecture (have 'x86_64', need 'arm64')), '/System/Volumes/Preboot/Cryptexes/OS/Users/vsvh/Library/Python/3.10/lib/python/site-packages/pyreadstat/pyreadstat.cpython-310-darwin.so' (no such file), '/Users/vsvh/Library/Python/3.10/lib/python/site-packages/pyreadstat/pyreadstat.cpython-310-darwin.so' (mach-o file, but is an incompatible architecture (have 'x86_64', need 'arm64'))"
     ]
    }
   ],
   "source": [
    "import pyreadstat"
   ]
  },
  {
   "cell_type": "code",
   "execution_count": 49,
   "id": "a7cc9bde-8c78-4be0-a120-999571e8c247",
   "metadata": {
    "execution": {
     "iopub.execute_input": "2022-12-19T18:16:56.399096Z",
     "iopub.status.busy": "2022-12-19T18:16:56.398922Z",
     "iopub.status.idle": "2022-12-19T18:16:56.434781Z",
     "shell.execute_reply": "2022-12-19T18:16:56.434266Z",
     "shell.execute_reply.started": "2022-12-19T18:16:56.399086Z"
    },
    "tags": []
   },
   "outputs": [
    {
     "ename": "ImportError",
     "evalue": "Missing optional dependency 'pyreadstat'.  Use pip or conda to install pyreadstat.",
     "output_type": "error",
     "traceback": [
      "\u001b[0;31m---------------------------------------------------------------------------\u001b[0m",
      "\u001b[0;31mImportError\u001b[0m                               Traceback (most recent call last)",
      "Input \u001b[0;32mIn [49]\u001b[0m, in \u001b[0;36m<cell line: 1>\u001b[0;34m()\u001b[0m\n\u001b[0;32m----> 1\u001b[0m layers \u001b[38;5;241m=\u001b[39m \u001b[43mpd\u001b[49m\u001b[38;5;241;43m.\u001b[39;49m\u001b[43mread_spss\u001b[49m\u001b[43m(\u001b[49m\u001b[38;5;124;43m\"\u001b[39;49m\u001b[38;5;124;43m../ukdata/layers.sav\u001b[39;49m\u001b[38;5;124;43m\"\u001b[39;49m\u001b[43m)\u001b[49m\n\u001b[1;32m      2\u001b[0m layers\u001b[38;5;241m.\u001b[39mreplace(\u001b[38;5;124m'\u001b[39m\u001b[38;5;124m999\u001b[39m\u001b[38;5;124m'\u001b[39m, np\u001b[38;5;241m.\u001b[39mnan, inplace\u001b[38;5;241m=\u001b[39m\u001b[38;5;28;01mTrue\u001b[39;00m)\n\u001b[1;32m      3\u001b[0m layers\u001b[38;5;241m.\u001b[39mhead()\n",
      "File \u001b[0;32m/opt/homebrew/lib/python3.10/site-packages/pandas/io/spss.py:38\u001b[0m, in \u001b[0;36mread_spss\u001b[0;34m(path, usecols, convert_categoricals)\u001b[0m\n\u001b[1;32m     15\u001b[0m \u001b[38;5;28;01mdef\u001b[39;00m \u001b[38;5;21mread_spss\u001b[39m(\n\u001b[1;32m     16\u001b[0m     path: \u001b[38;5;28mstr\u001b[39m \u001b[38;5;241m|\u001b[39m Path,\n\u001b[1;32m     17\u001b[0m     usecols: Sequence[\u001b[38;5;28mstr\u001b[39m] \u001b[38;5;241m|\u001b[39m \u001b[38;5;28;01mNone\u001b[39;00m \u001b[38;5;241m=\u001b[39m \u001b[38;5;28;01mNone\u001b[39;00m,\n\u001b[1;32m     18\u001b[0m     convert_categoricals: \u001b[38;5;28mbool\u001b[39m \u001b[38;5;241m=\u001b[39m \u001b[38;5;28;01mTrue\u001b[39;00m,\n\u001b[1;32m     19\u001b[0m ) \u001b[38;5;241m-\u001b[39m\u001b[38;5;241m>\u001b[39m DataFrame:\n\u001b[1;32m     20\u001b[0m     \u001b[38;5;124;03m\"\"\"\u001b[39;00m\n\u001b[1;32m     21\u001b[0m \u001b[38;5;124;03m    Load an SPSS file from the file path, returning a DataFrame.\u001b[39;00m\n\u001b[1;32m     22\u001b[0m \n\u001b[0;32m   (...)\u001b[0m\n\u001b[1;32m     36\u001b[0m \u001b[38;5;124;03m    DataFrame\u001b[39;00m\n\u001b[1;32m     37\u001b[0m \u001b[38;5;124;03m    \"\"\"\u001b[39;00m\n\u001b[0;32m---> 38\u001b[0m     pyreadstat \u001b[38;5;241m=\u001b[39m \u001b[43mimport_optional_dependency\u001b[49m\u001b[43m(\u001b[49m\u001b[38;5;124;43m\"\u001b[39;49m\u001b[38;5;124;43mpyreadstat\u001b[39;49m\u001b[38;5;124;43m\"\u001b[39;49m\u001b[43m)\u001b[49m\n\u001b[1;32m     40\u001b[0m     \u001b[38;5;28;01mif\u001b[39;00m usecols \u001b[38;5;129;01mis\u001b[39;00m \u001b[38;5;129;01mnot\u001b[39;00m \u001b[38;5;28;01mNone\u001b[39;00m:\n\u001b[1;32m     41\u001b[0m         \u001b[38;5;28;01mif\u001b[39;00m \u001b[38;5;129;01mnot\u001b[39;00m is_list_like(usecols):\n",
      "File \u001b[0;32m/opt/homebrew/lib/python3.10/site-packages/pandas/compat/_optional.py:118\u001b[0m, in \u001b[0;36mimport_optional_dependency\u001b[0;34m(name, extra, errors, min_version)\u001b[0m\n\u001b[1;32m    116\u001b[0m \u001b[38;5;28;01mexcept\u001b[39;00m \u001b[38;5;167;01mImportError\u001b[39;00m:\n\u001b[1;32m    117\u001b[0m     \u001b[38;5;28;01mif\u001b[39;00m errors \u001b[38;5;241m==\u001b[39m \u001b[38;5;124m\"\u001b[39m\u001b[38;5;124mraise\u001b[39m\u001b[38;5;124m\"\u001b[39m:\n\u001b[0;32m--> 118\u001b[0m         \u001b[38;5;28;01mraise\u001b[39;00m \u001b[38;5;167;01mImportError\u001b[39;00m(msg) \u001b[38;5;28;01mfrom\u001b[39;00m \u001b[38;5;28mNone\u001b[39m\n\u001b[1;32m    119\u001b[0m     \u001b[38;5;28;01melse\u001b[39;00m:\n\u001b[1;32m    120\u001b[0m         \u001b[38;5;28;01mreturn\u001b[39;00m \u001b[38;5;28;01mNone\u001b[39;00m\n",
      "\u001b[0;31mImportError\u001b[0m: Missing optional dependency 'pyreadstat'.  Use pip or conda to install pyreadstat."
     ]
    }
   ],
   "source": [
    "layers = pd.read_spss(\"../ukdata/layers.sav\")\n",
    "layers.replace('999', np.nan, inplace=True)\n",
    "layers.head()"
   ]
  },
  {
   "cell_type": "code",
   "execution_count": 49,
   "id": "06a08a93-777d-436e-8b73-28d21c1f2c3b",
   "metadata": {
    "execution": {
     "iopub.execute_input": "2022-11-07T14:35:46.321644Z",
     "iopub.status.busy": "2022-11-07T14:35:46.320134Z",
     "iopub.status.idle": "2022-11-07T14:35:46.341267Z",
     "shell.execute_reply": "2022-11-07T14:35:46.340752Z",
     "shell.execute_reply.started": "2022-11-07T14:35:46.321593Z"
    },
    "tags": []
   },
   "outputs": [
    {
     "data": {
      "text/plain": [
       "Index(['subjectno', 'alter_added_time', 'atype_recode', 'alterno', 'agender',\n",
       "       'arelation', 'affcontact_days', 'amobile', 'alandline', 'support_1',\n",
       "       'sympathy_1', 'networklayer_1', 'networklayer_1_recode', 'subjectno2',\n",
       "       'atype2', 'alterno2', 'TIME_alterenter', 'alterint2', 'agender2',\n",
       "       'arelation2', 'face_contact_days2', 'amobile2', 'alandline2',\n",
       "       'aeemotionc2', 'support2', 'sympathy2', 'networklayer_2', 'subjecno_3',\n",
       "       'related_3', 'alterno_3', 'timeadded_3', 'relationship_3',\n",
       "       'days_fcontact_3', 'mobile_3', 'landline_3', 'support_3', 'sympathy_3',\n",
       "       'network_3'],\n",
       "      dtype='object')"
      ]
     },
     "execution_count": 49,
     "metadata": {},
     "output_type": "execute_result"
    }
   ],
   "source": [
    "layers.columns"
   ]
  },
  {
   "cell_type": "code",
   "execution_count": 50,
   "id": "3258da17-7fef-479a-90bb-3e377c936e1b",
   "metadata": {
    "execution": {
     "iopub.execute_input": "2022-11-07T14:35:47.413308Z",
     "iopub.status.busy": "2022-11-07T14:35:47.412868Z",
     "iopub.status.idle": "2022-11-07T14:35:47.441734Z",
     "shell.execute_reply": "2022-11-07T14:35:47.441106Z",
     "shell.execute_reply.started": "2022-11-07T14:35:47.413291Z"
    },
    "tags": []
   },
   "outputs": [
    {
     "data": {
      "text/html": [
       "<div>\n",
       "<style scoped>\n",
       "    .dataframe tbody tr th:only-of-type {\n",
       "        vertical-align: middle;\n",
       "    }\n",
       "\n",
       "    .dataframe tbody tr th {\n",
       "        vertical-align: top;\n",
       "    }\n",
       "\n",
       "    .dataframe thead th {\n",
       "        text-align: right;\n",
       "    }\n",
       "</style>\n",
       "<table border=\"1\" class=\"dataframe\">\n",
       "  <thead>\n",
       "    <tr style=\"text-align: right;\">\n",
       "      <th></th>\n",
       "      <th>subjectno</th>\n",
       "      <th>alter_added_time</th>\n",
       "      <th>atype_recode</th>\n",
       "      <th>alterno</th>\n",
       "      <th>agender</th>\n",
       "      <th>arelation</th>\n",
       "      <th>affcontact_days</th>\n",
       "      <th>amobile</th>\n",
       "      <th>alandline</th>\n",
       "      <th>support_1</th>\n",
       "      <th>...</th>\n",
       "      <th>related_3</th>\n",
       "      <th>alterno_3</th>\n",
       "      <th>timeadded_3</th>\n",
       "      <th>relationship_3</th>\n",
       "      <th>days_fcontact_3</th>\n",
       "      <th>mobile_3</th>\n",
       "      <th>landline_3</th>\n",
       "      <th>support_3</th>\n",
       "      <th>sympathy_3</th>\n",
       "      <th>network_3</th>\n",
       "    </tr>\n",
       "  </thead>\n",
       "  <tbody>\n",
       "    <tr>\n",
       "      <th>0</th>\n",
       "      <td>1.0</td>\n",
       "      <td>Time 1 (beginnng of study)</td>\n",
       "      <td>Related</td>\n",
       "      <td>011</td>\n",
       "      <td>Male</td>\n",
       "      <td>Father</td>\n",
       "      <td>1.0</td>\n",
       "      <td>07968 983808</td>\n",
       "      <td>0114 2685494</td>\n",
       "      <td>Yes</td>\n",
       "      <td>...</td>\n",
       "      <td>Related</td>\n",
       "      <td>011</td>\n",
       "      <td>Time 1 (beginnng of study)</td>\n",
       "      <td>Father</td>\n",
       "      <td>5.0</td>\n",
       "      <td>07968 983808</td>\n",
       "      <td>0114 2685494</td>\n",
       "      <td>Yes</td>\n",
       "      <td>Yes</td>\n",
       "      <td>Support clique</td>\n",
       "    </tr>\n",
       "    <tr>\n",
       "      <th>1</th>\n",
       "      <td>1.0</td>\n",
       "      <td>Time 1 (beginnng of study)</td>\n",
       "      <td>Related</td>\n",
       "      <td>0110</td>\n",
       "      <td>Female</td>\n",
       "      <td>Cousin</td>\n",
       "      <td>87.0</td>\n",
       "      <td>NaN</td>\n",
       "      <td>0038631863362</td>\n",
       "      <td>No</td>\n",
       "      <td>...</td>\n",
       "      <td>Related</td>\n",
       "      <td>0110</td>\n",
       "      <td>Time 1 (beginnng of study)</td>\n",
       "      <td>Cousin</td>\n",
       "      <td>83.0</td>\n",
       "      <td>NaN</td>\n",
       "      <td>0038631863362</td>\n",
       "      <td>No</td>\n",
       "      <td>Yes</td>\n",
       "      <td>Sympathy group</td>\n",
       "    </tr>\n",
       "  </tbody>\n",
       "</table>\n",
       "<p>2 rows × 38 columns</p>\n",
       "</div>"
      ],
      "text/plain": [
       "   subjectno            alter_added_time atype_recode alterno agender  \\\n",
       "0        1.0  Time 1 (beginnng of study)      Related     011    Male   \n",
       "1        1.0  Time 1 (beginnng of study)      Related    0110  Female   \n",
       "\n",
       "  arelation  affcontact_days       amobile      alandline support_1  ...  \\\n",
       "0    Father              1.0  07968 983808   0114 2685494       Yes  ...   \n",
       "1    Cousin             87.0           NaN  0038631863362        No  ...   \n",
       "\n",
       "  related_3 alterno_3                 timeadded_3  relationship_3  \\\n",
       "0   Related       011  Time 1 (beginnng of study)          Father   \n",
       "1   Related      0110  Time 1 (beginnng of study)          Cousin   \n",
       "\n",
       "  days_fcontact_3      mobile_3     landline_3 support_3 sympathy_3  \\\n",
       "0             5.0  07968 983808   0114 2685494       Yes        Yes   \n",
       "1            83.0           NaN  0038631863362        No        Yes   \n",
       "\n",
       "        network_3  \n",
       "0  Support clique  \n",
       "1  Sympathy group  \n",
       "\n",
       "[2 rows x 38 columns]"
      ]
     },
     "execution_count": 50,
     "metadata": {},
     "output_type": "execute_result"
    }
   ],
   "source": [
    "layers.head(2)"
   ]
  },
  {
   "cell_type": "code",
   "execution_count": 51,
   "id": "d15e2229-266f-473b-81f0-9bb670b33b4c",
   "metadata": {
    "execution": {
     "iopub.execute_input": "2022-11-07T14:35:51.000109Z",
     "iopub.status.busy": "2022-11-07T14:35:50.999722Z",
     "iopub.status.idle": "2022-11-07T14:35:51.020270Z",
     "shell.execute_reply": "2022-11-07T14:35:51.019739Z",
     "shell.execute_reply.started": "2022-11-07T14:35:51.000074Z"
    },
    "tags": []
   },
   "outputs": [
    {
     "data": {
      "text/plain": [
       "'1142685494'"
      ]
     },
     "execution_count": 51,
     "metadata": {},
     "output_type": "execute_result"
    }
   ],
   "source": [
    "dealnum(layers.at[0, 'alandline'])"
   ]
  },
  {
   "cell_type": "code",
   "execution_count": 52,
   "id": "e8b0cadc-a4f5-41c7-ade9-07c8cd8b1fc7",
   "metadata": {
    "execution": {
     "iopub.execute_input": "2022-11-07T14:35:53.657989Z",
     "iopub.status.busy": "2022-11-07T14:35:53.657780Z",
     "iopub.status.idle": "2022-11-07T14:35:53.829412Z",
     "shell.execute_reply": "2022-11-07T14:35:53.828894Z",
     "shell.execute_reply.started": "2022-11-07T14:35:53.657975Z"
    },
    "tags": []
   },
   "outputs": [],
   "source": [
    "layersd = {}\n",
    "for i in layers.index:\n",
    "    ego = layers.at[i, 'subjectno'].astype('int64')\n",
    "    layersd[ego] = layersd.get(ego, {})\n",
    "    num1 = dealnum(layers.at[i, 'amobile'])\n",
    "    num1b = dealnum(layers.at[i, 'alandline'])\n",
    "    if num1 in alterid[ego].keys():\n",
    "        alter = alterid[ego][num1]\n",
    "        layersd[ego][alter] = layersd[ego].get(alter, {})\n",
    "        if not pd.isna(layers.at[i, 'networklayer_1']):\n",
    "            layersd[ego][alter][1] = dict({'Support clique': 0, 'Sympathy group': 1, 'Active network': 2})[layers.at[i, 'networklayer_1']]\n",
    "    elif num1b in alterid[ego].keys():\n",
    "        alter = alterid[ego][num1b]\n",
    "        layersd[ego][alter] = layersd[ego].get(alter, {})\n",
    "        if not pd.isna(layers.at[i, 'networklayer_1']):\n",
    "            layersd[ego][alter][1] = dict({'Support clique': 0, 'Sympathy group': 1, 'Active network': 2})[layers.at[i, 'networklayer_1']]\n",
    "    num2 = dealnum(layers.at[i, 'amobile2'])\n",
    "    num2b = dealnum(layers.at[i, 'alandline2'])\n",
    "    if num2 in alterid[ego].keys():\n",
    "        alter = alterid[ego][num2]\n",
    "        layersd[ego][alter] = layersd[ego].get(alter, {})\n",
    "        if not pd.isna(layers.at[i, 'networklayer_2']):\n",
    "            layersd[ego][alter][2] = dict({'Support clique': 0, 'Sympathy group': 1, 'Active network': 2})[layers.at[i, 'networklayer_2']]\n",
    "    elif num2b in alterid[ego].keys():\n",
    "        alter = alterid[ego][num2b]\n",
    "        layersd[ego][alter] = layersd[ego].get(alter, {})\n",
    "        if not pd.isna(layers.at[i, 'networklayer_2']):\n",
    "            layersd[ego][alter][2] = dict({'Support clique': 0, 'Sympathy group': 1, 'Active network': 2})[layers.at[i, 'networklayer_2']]\n",
    "    num3 = dealnum(layers.at[i, 'mobile_3'])\n",
    "    num3b = dealnum(layers.at[i, 'landline_3'])\n",
    "    if num3 in alterid[ego].keys():\n",
    "        alter = alterid[ego][num3]\n",
    "        layersd[ego][alter] = layersd[ego].get(alter, {})\n",
    "        if not pd.isna(layers.at[i, 'network_3']):\n",
    "            layersd[ego][alter][3] = dict({'Support clique': 0, 'Sympathy group': 1, 'Active network': 2})[layers.at[i, 'network_3']]\n",
    "    elif num3b in alterid[ego].keys():\n",
    "        alter = alterid[ego][num3b]\n",
    "        layersd[ego][alter] = layersd[ego].get(alter, {})\n",
    "        if not pd.isna(layers.at[i, 'network_3']):\n",
    "            layersd[ego][alter][3] = dict({'Support clique': 0, 'Sympathy group': 1, 'Active network': 2})[layers.at[i, 'network_3']]\n",
    "            \n",
    "for ego in layersd.keys():\n",
    "    for alter in layersd[ego].keys():\n",
    "        for t in range(1, 4):\n",
    "            if t not in layersd[ego][alter].keys():\n",
    "                layersd[ego][alter][t] = np.nan"
   ]
  },
  {
   "cell_type": "code",
   "execution_count": 53,
   "id": "5bd439c4-6df2-4c94-9425-4b49eb4e3fc6",
   "metadata": {
    "execution": {
     "iopub.execute_input": "2022-11-07T14:35:58.248014Z",
     "iopub.status.busy": "2022-11-07T14:35:58.247791Z",
     "iopub.status.idle": "2022-11-07T14:35:58.714286Z",
     "shell.execute_reply": "2022-11-07T14:35:58.713778Z",
     "shell.execute_reply.started": "2022-11-07T14:35:58.247999Z"
    },
    "tags": []
   },
   "outputs": [],
   "source": [
    "uk['layer1'] = uk['pair3'].map(lambda i: layersd[i[0]][i[1]][1] if i[1] in layersd[i[0]].keys() else np.nan)\n",
    "uk['layer2'] = uk['pair3'].map(lambda i: layersd[i[0]][i[1]][2] if i[1] in layersd[i[0]].keys() else np.nan)\n",
    "uk['layer3'] = uk['pair3'].map(lambda i: layersd[i[0]][i[1]][3] if i[1] in layersd[i[0]].keys() else np.nan)"
   ]
  },
  {
   "cell_type": "code",
   "execution_count": 50,
   "id": "8160d158-fdce-485b-b8d8-b43cb5b63580",
   "metadata": {
    "execution": {
     "iopub.execute_input": "2022-12-19T18:19:56.678847Z",
     "iopub.status.busy": "2022-12-19T18:19:56.678668Z",
     "iopub.status.idle": "2022-12-19T18:19:56.701577Z",
     "shell.execute_reply": "2022-12-19T18:19:56.701109Z",
     "shell.execute_reply.started": "2022-12-19T18:19:56.678837Z"
    },
    "tags": []
   },
   "outputs": [
    {
     "data": {
      "text/html": [
       "<div>\n",
       "<style scoped>\n",
       "    .dataframe tbody tr th:only-of-type {\n",
       "        vertical-align: middle;\n",
       "    }\n",
       "\n",
       "    .dataframe tbody tr th {\n",
       "        vertical-align: top;\n",
       "    }\n",
       "\n",
       "    .dataframe thead th {\n",
       "        text-align: right;\n",
       "    }\n",
       "</style>\n",
       "<table border=\"1\" class=\"dataframe\">\n",
       "  <thead>\n",
       "    <tr style=\"text-align: right;\">\n",
       "      <th></th>\n",
       "      <th>ego</th>\n",
       "      <th>alter</th>\n",
       "      <th>time</th>\n",
       "      <th>date</th>\n",
       "      <th>isCall</th>\n",
       "      <th>duration</th>\n",
       "      <th>pair</th>\n",
       "      <th>eid</th>\n",
       "      <th>efemale</th>\n",
       "      <th>pair2</th>\n",
       "      <th>...</th>\n",
       "      <th>pair3</th>\n",
       "      <th>afemale</th>\n",
       "      <th>related</th>\n",
       "      <th>sameGen</th>\n",
       "      <th>ec1</th>\n",
       "      <th>ec2</th>\n",
       "      <th>ec3</th>\n",
       "      <th>face1</th>\n",
       "      <th>face2</th>\n",
       "      <th>face3</th>\n",
       "    </tr>\n",
       "  </thead>\n",
       "  <tbody>\n",
       "    <tr>\n",
       "      <th>0</th>\n",
       "      <td>7970136770</td>\n",
       "      <td>7800643277</td>\n",
       "      <td>2007-03-05 18:17:00</td>\n",
       "      <td>2007-03-05</td>\n",
       "      <td>0</td>\n",
       "      <td>0</td>\n",
       "      <td>(7970136770, 7800643277)</td>\n",
       "      <td>12</td>\n",
       "      <td>0</td>\n",
       "      <td>(12, 7800643277)</td>\n",
       "      <td>...</td>\n",
       "      <td>(12, 20)</td>\n",
       "      <td>1.0</td>\n",
       "      <td>0.0</td>\n",
       "      <td>NaN</td>\n",
       "      <td>8.0</td>\n",
       "      <td>2.0</td>\n",
       "      <td>6.0</td>\n",
       "      <td>5.0</td>\n",
       "      <td>16.0</td>\n",
       "      <td>1.0</td>\n",
       "    </tr>\n",
       "    <tr>\n",
       "      <th>1</th>\n",
       "      <td>7970136770</td>\n",
       "      <td>7800643277</td>\n",
       "      <td>2007-03-05 18:22:00</td>\n",
       "      <td>2007-03-05</td>\n",
       "      <td>0</td>\n",
       "      <td>0</td>\n",
       "      <td>(7970136770, 7800643277)</td>\n",
       "      <td>12</td>\n",
       "      <td>0</td>\n",
       "      <td>(12, 7800643277)</td>\n",
       "      <td>...</td>\n",
       "      <td>(12, 20)</td>\n",
       "      <td>1.0</td>\n",
       "      <td>0.0</td>\n",
       "      <td>NaN</td>\n",
       "      <td>8.0</td>\n",
       "      <td>2.0</td>\n",
       "      <td>6.0</td>\n",
       "      <td>5.0</td>\n",
       "      <td>16.0</td>\n",
       "      <td>1.0</td>\n",
       "    </tr>\n",
       "    <tr>\n",
       "      <th>2</th>\n",
       "      <td>7970136770</td>\n",
       "      <td>7800643277</td>\n",
       "      <td>2007-03-05 18:25:00</td>\n",
       "      <td>2007-03-05</td>\n",
       "      <td>0</td>\n",
       "      <td>0</td>\n",
       "      <td>(7970136770, 7800643277)</td>\n",
       "      <td>12</td>\n",
       "      <td>0</td>\n",
       "      <td>(12, 7800643277)</td>\n",
       "      <td>...</td>\n",
       "      <td>(12, 20)</td>\n",
       "      <td>1.0</td>\n",
       "      <td>0.0</td>\n",
       "      <td>NaN</td>\n",
       "      <td>8.0</td>\n",
       "      <td>2.0</td>\n",
       "      <td>6.0</td>\n",
       "      <td>5.0</td>\n",
       "      <td>16.0</td>\n",
       "      <td>1.0</td>\n",
       "    </tr>\n",
       "    <tr>\n",
       "      <th>3</th>\n",
       "      <td>7970136770</td>\n",
       "      <td>7800643277</td>\n",
       "      <td>2007-03-05 18:33:00</td>\n",
       "      <td>2007-03-05</td>\n",
       "      <td>0</td>\n",
       "      <td>0</td>\n",
       "      <td>(7970136770, 7800643277)</td>\n",
       "      <td>12</td>\n",
       "      <td>0</td>\n",
       "      <td>(12, 7800643277)</td>\n",
       "      <td>...</td>\n",
       "      <td>(12, 20)</td>\n",
       "      <td>1.0</td>\n",
       "      <td>0.0</td>\n",
       "      <td>NaN</td>\n",
       "      <td>8.0</td>\n",
       "      <td>2.0</td>\n",
       "      <td>6.0</td>\n",
       "      <td>5.0</td>\n",
       "      <td>16.0</td>\n",
       "      <td>1.0</td>\n",
       "    </tr>\n",
       "    <tr>\n",
       "      <th>4</th>\n",
       "      <td>7970136770</td>\n",
       "      <td>7709186078</td>\n",
       "      <td>2007-03-05 18:51:00</td>\n",
       "      <td>2007-03-05</td>\n",
       "      <td>0</td>\n",
       "      <td>0</td>\n",
       "      <td>(7970136770, 7709186078)</td>\n",
       "      <td>12</td>\n",
       "      <td>0</td>\n",
       "      <td>(12, 7709186078)</td>\n",
       "      <td>...</td>\n",
       "      <td>(12, 17)</td>\n",
       "      <td>1.0</td>\n",
       "      <td>0.0</td>\n",
       "      <td>NaN</td>\n",
       "      <td>9.0</td>\n",
       "      <td>9.0</td>\n",
       "      <td>1.0</td>\n",
       "      <td>5.0</td>\n",
       "      <td>23.0</td>\n",
       "      <td>22.5</td>\n",
       "    </tr>\n",
       "  </tbody>\n",
       "</table>\n",
       "<p>5 rows × 21 columns</p>\n",
       "</div>"
      ],
      "text/plain": [
       "          ego       alter                time       date  isCall  duration  \\\n",
       "0  7970136770  7800643277 2007-03-05 18:17:00 2007-03-05       0         0   \n",
       "1  7970136770  7800643277 2007-03-05 18:22:00 2007-03-05       0         0   \n",
       "2  7970136770  7800643277 2007-03-05 18:25:00 2007-03-05       0         0   \n",
       "3  7970136770  7800643277 2007-03-05 18:33:00 2007-03-05       0         0   \n",
       "4  7970136770  7709186078 2007-03-05 18:51:00 2007-03-05       0         0   \n",
       "\n",
       "                       pair  eid  efemale             pair2  ...     pair3  \\\n",
       "0  (7970136770, 7800643277)   12        0  (12, 7800643277)  ...  (12, 20)   \n",
       "1  (7970136770, 7800643277)   12        0  (12, 7800643277)  ...  (12, 20)   \n",
       "2  (7970136770, 7800643277)   12        0  (12, 7800643277)  ...  (12, 20)   \n",
       "3  (7970136770, 7800643277)   12        0  (12, 7800643277)  ...  (12, 20)   \n",
       "4  (7970136770, 7709186078)   12        0  (12, 7709186078)  ...  (12, 17)   \n",
       "\n",
       "  afemale  related  sameGen  ec1  ec2  ec3  face1  face2  face3  \n",
       "0     1.0      0.0      NaN  8.0  2.0  6.0    5.0   16.0    1.0  \n",
       "1     1.0      0.0      NaN  8.0  2.0  6.0    5.0   16.0    1.0  \n",
       "2     1.0      0.0      NaN  8.0  2.0  6.0    5.0   16.0    1.0  \n",
       "3     1.0      0.0      NaN  8.0  2.0  6.0    5.0   16.0    1.0  \n",
       "4     1.0      0.0      NaN  9.0  9.0  1.0    5.0   23.0   22.5  \n",
       "\n",
       "[5 rows x 21 columns]"
      ]
     },
     "execution_count": 50,
     "metadata": {},
     "output_type": "execute_result"
    }
   ],
   "source": [
    "uk.head()"
   ]
  },
  {
   "cell_type": "markdown",
   "id": "281ec614-2977-4a9a-8136-1f3daff45456",
   "metadata": {},
   "source": [
    "## Activities "
   ]
  },
  {
   "cell_type": "code",
   "execution_count": 51,
   "id": "72189490-8d7a-409f-9af4-fbdc237872d4",
   "metadata": {
    "execution": {
     "iopub.execute_input": "2022-12-19T18:20:07.656691Z",
     "iopub.status.busy": "2022-12-19T18:20:07.656313Z",
     "iopub.status.idle": "2022-12-19T18:20:07.752695Z",
     "shell.execute_reply": "2022-12-19T18:20:07.752359Z",
     "shell.execute_reply.started": "2022-12-19T18:20:07.656673Z"
    },
    "tags": []
   },
   "outputs": [
    {
     "data": {
      "text/html": [
       "<div>\n",
       "<style scoped>\n",
       "    .dataframe tbody tr th:only-of-type {\n",
       "        vertical-align: middle;\n",
       "    }\n",
       "\n",
       "    .dataframe tbody tr th {\n",
       "        vertical-align: top;\n",
       "    }\n",
       "\n",
       "    .dataframe thead th {\n",
       "        text-align: right;\n",
       "    }\n",
       "</style>\n",
       "<table border=\"1\" class=\"dataframe\">\n",
       "  <thead>\n",
       "    <tr style=\"text-align: right;\">\n",
       "      <th></th>\n",
       "      <th>ego</th>\n",
       "      <th>alter</th>\n",
       "      <th>pair</th>\n",
       "      <th>time</th>\n",
       "      <th>date</th>\n",
       "      <th>duration</th>\n",
       "      <th>t</th>\n",
       "      <th>a</th>\n",
       "      <th>efemale</th>\n",
       "      <th>afemale</th>\n",
       "      <th>...</th>\n",
       "      <th>sameGen</th>\n",
       "      <th>ec1</th>\n",
       "      <th>ec2</th>\n",
       "      <th>ec3</th>\n",
       "      <th>face1</th>\n",
       "      <th>face2</th>\n",
       "      <th>face3</th>\n",
       "      <th>pair2</th>\n",
       "      <th>ego2</th>\n",
       "      <th>alter2</th>\n",
       "    </tr>\n",
       "  </thead>\n",
       "  <tbody>\n",
       "    <tr>\n",
       "      <th>0</th>\n",
       "      <td>1</td>\n",
       "      <td>0</td>\n",
       "      <td>(1, 0)</td>\n",
       "      <td>2007-03-08 11:26:00</td>\n",
       "      <td>2007-03-08 00:00:00</td>\n",
       "      <td>3</td>\n",
       "      <td>3</td>\n",
       "      <td>0</td>\n",
       "      <td>0</td>\n",
       "      <td>1.0</td>\n",
       "      <td>...</td>\n",
       "      <td>0.0</td>\n",
       "      <td>10.0</td>\n",
       "      <td>10.0</td>\n",
       "      <td>8.0</td>\n",
       "      <td>NaN</td>\n",
       "      <td>NaN</td>\n",
       "      <td>NaN</td>\n",
       "      <td>('7805206865', '7968983808')</td>\n",
       "      <td>7805206865</td>\n",
       "      <td>7968983808</td>\n",
       "    </tr>\n",
       "    <tr>\n",
       "      <th>1</th>\n",
       "      <td>1</td>\n",
       "      <td>0</td>\n",
       "      <td>(1, 0)</td>\n",
       "      <td>2007-03-30 09:48:00</td>\n",
       "      <td>2007-03-30 00:00:00</td>\n",
       "      <td>1</td>\n",
       "      <td>25</td>\n",
       "      <td>22</td>\n",
       "      <td>0</td>\n",
       "      <td>1.0</td>\n",
       "      <td>...</td>\n",
       "      <td>0.0</td>\n",
       "      <td>10.0</td>\n",
       "      <td>10.0</td>\n",
       "      <td>8.0</td>\n",
       "      <td>NaN</td>\n",
       "      <td>NaN</td>\n",
       "      <td>NaN</td>\n",
       "      <td>('7805206865', '7968983808')</td>\n",
       "      <td>7805206865</td>\n",
       "      <td>7968983808</td>\n",
       "    </tr>\n",
       "    <tr>\n",
       "      <th>2</th>\n",
       "      <td>1</td>\n",
       "      <td>0</td>\n",
       "      <td>(1, 0)</td>\n",
       "      <td>2007-03-31 13:23:00</td>\n",
       "      <td>2007-03-31 00:00:00</td>\n",
       "      <td>2</td>\n",
       "      <td>26</td>\n",
       "      <td>23</td>\n",
       "      <td>0</td>\n",
       "      <td>1.0</td>\n",
       "      <td>...</td>\n",
       "      <td>0.0</td>\n",
       "      <td>10.0</td>\n",
       "      <td>10.0</td>\n",
       "      <td>8.0</td>\n",
       "      <td>NaN</td>\n",
       "      <td>NaN</td>\n",
       "      <td>NaN</td>\n",
       "      <td>('7805206865', '7968983808')</td>\n",
       "      <td>7805206865</td>\n",
       "      <td>7968983808</td>\n",
       "    </tr>\n",
       "    <tr>\n",
       "      <th>3</th>\n",
       "      <td>1</td>\n",
       "      <td>0</td>\n",
       "      <td>(1, 0)</td>\n",
       "      <td>2007-04-11 09:44:00</td>\n",
       "      <td>2007-04-11 00:00:00</td>\n",
       "      <td>3</td>\n",
       "      <td>37</td>\n",
       "      <td>34</td>\n",
       "      <td>0</td>\n",
       "      <td>1.0</td>\n",
       "      <td>...</td>\n",
       "      <td>0.0</td>\n",
       "      <td>10.0</td>\n",
       "      <td>10.0</td>\n",
       "      <td>8.0</td>\n",
       "      <td>NaN</td>\n",
       "      <td>NaN</td>\n",
       "      <td>NaN</td>\n",
       "      <td>('7805206865', '7968983808')</td>\n",
       "      <td>7805206865</td>\n",
       "      <td>7968983808</td>\n",
       "    </tr>\n",
       "    <tr>\n",
       "      <th>4</th>\n",
       "      <td>1</td>\n",
       "      <td>0</td>\n",
       "      <td>(1, 0)</td>\n",
       "      <td>2007-04-11 10:49:00</td>\n",
       "      <td>2007-04-11 00:00:00</td>\n",
       "      <td>42</td>\n",
       "      <td>37</td>\n",
       "      <td>34</td>\n",
       "      <td>0</td>\n",
       "      <td>1.0</td>\n",
       "      <td>...</td>\n",
       "      <td>0.0</td>\n",
       "      <td>10.0</td>\n",
       "      <td>10.0</td>\n",
       "      <td>8.0</td>\n",
       "      <td>NaN</td>\n",
       "      <td>NaN</td>\n",
       "      <td>NaN</td>\n",
       "      <td>('7805206865', '7968983808')</td>\n",
       "      <td>7805206865</td>\n",
       "      <td>7968983808</td>\n",
       "    </tr>\n",
       "  </tbody>\n",
       "</table>\n",
       "<p>5 rows × 21 columns</p>\n",
       "</div>"
      ],
      "text/plain": [
       "   ego  alter    pair                 time                 date  duration   t  \\\n",
       "0    1      0  (1, 0)  2007-03-08 11:26:00  2007-03-08 00:00:00         3   3   \n",
       "1    1      0  (1, 0)  2007-03-30 09:48:00  2007-03-30 00:00:00         1  25   \n",
       "2    1      0  (1, 0)  2007-03-31 13:23:00  2007-03-31 00:00:00         2  26   \n",
       "3    1      0  (1, 0)  2007-04-11 09:44:00  2007-04-11 00:00:00         3  37   \n",
       "4    1      0  (1, 0)  2007-04-11 10:49:00  2007-04-11 00:00:00        42  37   \n",
       "\n",
       "    a  efemale  afemale  ...  sameGen   ec1   ec2  ec3  face1  face2  face3  \\\n",
       "0   0        0      1.0  ...      0.0  10.0  10.0  8.0    NaN    NaN    NaN   \n",
       "1  22        0      1.0  ...      0.0  10.0  10.0  8.0    NaN    NaN    NaN   \n",
       "2  23        0      1.0  ...      0.0  10.0  10.0  8.0    NaN    NaN    NaN   \n",
       "3  34        0      1.0  ...      0.0  10.0  10.0  8.0    NaN    NaN    NaN   \n",
       "4  34        0      1.0  ...      0.0  10.0  10.0  8.0    NaN    NaN    NaN   \n",
       "\n",
       "                          pair2        ego2      alter2  \n",
       "0  ('7805206865', '7968983808')  7805206865  7968983808  \n",
       "1  ('7805206865', '7968983808')  7805206865  7968983808  \n",
       "2  ('7805206865', '7968983808')  7805206865  7968983808  \n",
       "3  ('7805206865', '7968983808')  7805206865  7968983808  \n",
       "4  ('7805206865', '7968983808')  7805206865  7968983808  \n",
       "\n",
       "[5 rows x 21 columns]"
      ]
     },
     "execution_count": 51,
     "metadata": {},
     "output_type": "execute_result"
    }
   ],
   "source": [
    "UKc = pd.read_csv(\"data/UKc2.txt\", sep=\"\\t\", dtype={'ego2': str, 'alter2': str})\n",
    "UKc.head()"
   ]
  },
  {
   "cell_type": "code",
   "execution_count": 52,
   "id": "13b1420b-3fe8-4dd7-8c46-99c6123b1369",
   "metadata": {
    "execution": {
     "iopub.execute_input": "2022-12-19T18:20:09.746744Z",
     "iopub.status.busy": "2022-12-19T18:20:09.746250Z",
     "iopub.status.idle": "2022-12-19T18:20:09.777741Z",
     "shell.execute_reply": "2022-12-19T18:20:09.777352Z",
     "shell.execute_reply.started": "2022-12-19T18:20:09.746717Z"
    },
    "tags": []
   },
   "outputs": [
    {
     "data": {
      "text/plain": [
       "'(1, 0)'"
      ]
     },
     "execution_count": 52,
     "metadata": {},
     "output_type": "execute_result"
    }
   ],
   "source": [
    "UKc['pair'].iloc[0]"
   ]
  },
  {
   "cell_type": "code",
   "execution_count": 3,
   "id": "49255a02-c478-400f-a83b-3487ccfc6566",
   "metadata": {
    "execution": {
     "iopub.execute_input": "2022-11-21T02:18:51.045052Z",
     "iopub.status.busy": "2022-11-21T02:18:51.044616Z",
     "iopub.status.idle": "2022-11-21T02:18:51.121874Z",
     "shell.execute_reply": "2022-11-21T02:18:51.121269Z",
     "shell.execute_reply.started": "2022-11-21T02:18:51.045029Z"
    },
    "tags": []
   },
   "outputs": [],
   "source": [
    "activities = pd.read_csv(\"../ukdata/activities.csv\", na_values=[9999, 999, \" \"], sep=\"\\t\")"
   ]
  },
  {
   "cell_type": "code",
   "execution_count": 5,
   "id": "e4cba82e-ae37-4887-861f-7b3c1dfc7814",
   "metadata": {
    "execution": {
     "iopub.execute_input": "2022-11-21T02:19:17.670983Z",
     "iopub.status.busy": "2022-11-21T02:19:17.670587Z",
     "iopub.status.idle": "2022-11-21T02:19:17.690430Z",
     "shell.execute_reply": "2022-11-21T02:19:17.689937Z",
     "shell.execute_reply.started": "2022-11-21T02:19:17.670948Z"
    },
    "tags": []
   },
   "outputs": [
    {
     "name": "stdout",
     "output_type": "stream",
     "text": [
      "subjectno\n",
      "date_time1\n",
      "location\n",
      "complete\n",
      "subjectint\n",
      "gender\n",
      "ego_gender_recode\n",
      "VAR00005\n",
      "ethnic\n",
      "dateofb\n",
      "shefftime\n",
      "atype\n",
      "alter_added_time\n",
      "atype_recode\n",
      "alterno\n",
      "alterint\n",
      "aliveego\n",
      "agender\n",
      "alter_gender_recode\n",
      "aegender\n",
      "aegender_same\n",
      "atimeknown\n",
      "arelation\n",
      "VAR00006\n",
      "VAR00014\n",
      "VAR00011\n",
      "arelation_genetic\n",
      "arelation_genetic_recode\n",
      "dummy_genetic\n",
      "dummy_affinal\n",
      "genetic_friends\n",
      "affinal_friends\n",
      "alreation_genetic\n",
      "arelation2_recode\n",
      "arelation3\n",
      "affcontact\n",
      "affcondate\n",
      "aocontact\n",
      "aocontype\n",
      "aocontdate\n",
      "affcontact_days\n",
      "affcontact_days_LOG\n",
      "aocontact_days\n",
      "aocontact_days_LOG\n",
      "anycontact_days_days\n",
      "contact_freq_permonth\n",
      "contact_freq_peryear\n",
      "anycontact_days_LOG\n",
      "amobile\n",
      "alandline\n",
      "alocation\n",
      "alocation_recode\n",
      "aemotionc_1\n",
      "aeemotionc_LOG\n",
      "asubjcl1\n",
      "asubjcl2\n",
      "subjclose\n",
      "subjclose_LOG\n",
      "asport\n",
      "aleisure\n",
      "asocial\n",
      "awork\n",
      "aholiday\n",
      "activitysc\n",
      "activitysc_LOG\n",
      "comments\n",
      "relate_type_copy\n",
      "VAR00012\n",
      "type_copy\n",
      "ec_copy\n",
      "alterint_copy\n",
      "support_1\n",
      "sympathy_1\n",
      "networklayer_1\n",
      "subject_copy2\n",
      "relate_type_copy3\n",
      "networklayer_1_recode\n",
      "rmoney_1\n",
      "rassistance_1\n",
      "radvice_1\n",
      "gmoney_1\n",
      "gadvice_1\n",
      "gsupport_1\n",
      "tot_rsupport_1\n",
      "tot_gsupport_1\n",
      "tot_balance_1\n",
      "support_entry_1\n",
      "sympathy_entry_1\n",
      "QDATE2\n",
      "location2\n",
      "locatsheff\n",
      "ego_sheff_recode\n",
      "workuni\n",
      "uni\n",
      "subject\n",
      "subjectno2\n",
      "subjectint2\n",
      "gender2\n",
      "atype2\n",
      "alterno2\n",
      "TIME_alterenter\n",
      "alterint2\n",
      "aliveego2\n",
      "agender2\n",
      "aegender2\n",
      "aegender_same2\n",
      "atimeknown_2\n",
      "arelation2\n",
      "arelation_genetic2\n",
      "arelation_coeff2\n",
      "arelation_recode2\n",
      "arelation_3_2\n",
      "affcontact2\n",
      "affcondate2\n",
      "aocontact2\n",
      "other_contact_type2\n",
      "other_contact_date2\n",
      "face_contact_days2\n",
      "other_contact_days2\n",
      "VAR00002\n",
      "ANY_CONTACT_DAYS2\n",
      "anycont_change2\n",
      "contact_change_2\n",
      "anycont_change_recode2\n",
      "amobile2\n",
      "alandline2\n",
      "alocation2\n",
      "alivesheff2\n",
      "VAR00001\n",
      "aeemotionc2\n",
      "aeemotion2_recode\n",
      "asport2\n",
      "aleisure2\n",
      "asocial2\n",
      "awork2\n",
      "aholiday2\n",
      "activitysc2\n",
      "activitysc_change_recode\n",
      "comments2\n",
      "ec_change\n",
      "ec_change_recode\n",
      "activitysc_change\n",
      "subjectint_copy2\n",
      "alter_int_copy\n",
      "related_copy\n",
      "relation_copy\n",
      "support2\n",
      "kin2\n",
      "sympathy2\n",
      "networklayer_2\n",
      "rmoney2\n",
      "rassist2\n",
      "radvice2\n",
      "total_recieved2\n",
      "gmoney\n",
      "gassist\n",
      "gadvice\n",
      "total_given2\n",
      "total_balance2\n",
      "supp_present\n",
      "symp_present\n",
      "filter_$\n",
      "face_contact_days_change\n",
      "face_contact_change_recode\n",
      "other_contact_days_change\n",
      "other_contact_days_change_recode\n",
      "Q_DATE_3\n",
      "subjecno_3\n",
      "subjectint_3\n",
      "egogender_3\n",
      "related_3\n",
      "alterno_3\n",
      "timeadded_3\n",
      "related_3_copy\n",
      "alterint_3\n",
      "livetogether_3\n",
      "altergender_3\n",
      "samegender_3\n",
      "VAR00022\n",
      "timeknown_3\n",
      "relationship_3\n",
      "grelate_3\n",
      "coeff_relate_3\n",
      "genetic_relate_3\n",
      "mat_pat_2\n",
      "lastf_contact_3\n",
      "days_fcontact_3\n",
      "date_lastf_contact_3\n",
      "lastnf_contact_3\n",
      "days_nfcontact_3\n",
      "type_nf_contact_3\n",
      "date_nf_contact_3\n",
      "days_anycontact_3\n",
      "days_anycontact_change_3_1\n",
      "days_cont_change_3_1_recode\n",
      "days_contact_change_3_1_recode2\n",
      "days_contact_change_3_1_recode3\n",
      "days_anycontact_change_3_2\n",
      "days_cont_change_3_2_recode\n",
      "days_fcontact_change_3_1\n",
      "days_fcontact_change_3_1_recode\n",
      "days_nfcontact_change_3_1\n",
      "days_nfcontact_change_3_1_recode\n",
      "mobile_3\n",
      "landline_3\n",
      "alterlive_3\n",
      "live_sheff_3\n",
      "ec_3\n",
      "ec_3_recode\n",
      "EC_CHANGE_3_1\n",
      "ec_change_3_2\n",
      "sport_3\n",
      "leisure_3\n",
      "social_3\n",
      "work_3\n",
      "holiday_3\n"
     ]
    }
   ],
   "source": [
    "for c in activities.columns:\n",
    "    print(c)"
   ]
  },
  {
   "cell_type": "code",
   "execution_count": 18,
   "id": "52de473f-ca0b-47f2-b8a2-b76679aea9f6",
   "metadata": {
    "execution": {
     "iopub.execute_input": "2022-11-21T02:28:31.728671Z",
     "iopub.status.busy": "2022-11-21T02:28:31.728005Z",
     "iopub.status.idle": "2022-11-21T02:28:31.751057Z",
     "shell.execute_reply": "2022-11-21T02:28:31.750653Z",
     "shell.execute_reply.started": "2022-11-21T02:28:31.728613Z"
    },
    "tags": []
   },
   "outputs": [
    {
     "data": {
      "text/plain": [
       "9.0     186\n",
       "7.0      75\n",
       "8.0      64\n",
       "16.0     32\n",
       "2.0      29\n",
       "3.0      29\n",
       "11.0     29\n",
       "1.0      28\n",
       "17.0     23\n",
       "4.0      22\n",
       "12.0     16\n",
       "28.0     11\n",
       "22.0     10\n",
       "13.0     10\n",
       "35.0      7\n",
       "36.0      4\n",
       "23.0      4\n",
       "27.0      3\n",
       "34.0      3\n",
       "33.0      2\n",
       "37.0      2\n",
       "26.0      1\n",
       "29.0      1\n",
       "25.0      1\n",
       "24.0      1\n",
       "Name: arelation, dtype: int64"
      ]
     },
     "execution_count": 18,
     "metadata": {},
     "output_type": "execute_result"
    }
   ],
   "source": [
    "activities['arelation'].value_counts()"
   ]
  },
  {
   "cell_type": "code",
   "execution_count": 12,
   "id": "f765f143-f47f-4cae-8398-ed8903fa080d",
   "metadata": {
    "execution": {
     "iopub.execute_input": "2022-11-21T02:23:37.282227Z",
     "iopub.status.busy": "2022-11-21T02:23:37.281989Z",
     "iopub.status.idle": "2022-11-21T02:23:37.315705Z",
     "shell.execute_reply": "2022-11-21T02:23:37.315158Z",
     "shell.execute_reply.started": "2022-11-21T02:23:37.282207Z"
    },
    "tags": []
   },
   "outputs": [
    {
     "data": {
      "text/html": [
       "<div>\n",
       "<style scoped>\n",
       "    .dataframe tbody tr th:only-of-type {\n",
       "        vertical-align: middle;\n",
       "    }\n",
       "\n",
       "    .dataframe tbody tr th {\n",
       "        vertical-align: top;\n",
       "    }\n",
       "\n",
       "    .dataframe thead th {\n",
       "        text-align: right;\n",
       "    }\n",
       "</style>\n",
       "<table border=\"1\" class=\"dataframe\">\n",
       "  <thead>\n",
       "    <tr style=\"text-align: right;\">\n",
       "      <th></th>\n",
       "      <th>subjectno</th>\n",
       "      <th>date_time1</th>\n",
       "      <th>location</th>\n",
       "      <th>complete</th>\n",
       "      <th>subjectint</th>\n",
       "      <th>gender</th>\n",
       "      <th>ego_gender_recode</th>\n",
       "      <th>VAR00005</th>\n",
       "      <th>ethnic</th>\n",
       "      <th>dateofb</th>\n",
       "      <th>...</th>\n",
       "      <th>live_sheff_3</th>\n",
       "      <th>ec_3</th>\n",
       "      <th>ec_3_recode</th>\n",
       "      <th>EC_CHANGE_3_1</th>\n",
       "      <th>ec_change_3_2</th>\n",
       "      <th>sport_3</th>\n",
       "      <th>leisure_3</th>\n",
       "      <th>social_3</th>\n",
       "      <th>work_3</th>\n",
       "      <th>holiday_3</th>\n",
       "    </tr>\n",
       "  </thead>\n",
       "  <tbody>\n",
       "    <tr>\n",
       "      <th>0</th>\n",
       "      <td>1</td>\n",
       "      <td>NaN</td>\n",
       "      <td>sheffield</td>\n",
       "      <td>1</td>\n",
       "      <td>ah</td>\n",
       "      <td>1.0</td>\n",
       "      <td>1.0</td>\n",
       "      <td>1</td>\n",
       "      <td>0</td>\n",
       "      <td>4/25/1989</td>\n",
       "      <td>...</td>\n",
       "      <td>NaN</td>\n",
       "      <td>8.0</td>\n",
       "      <td>8.0</td>\n",
       "      <td>-2.0</td>\n",
       "      <td>-2.0</td>\n",
       "      <td>0.0</td>\n",
       "      <td>1.0</td>\n",
       "      <td>1.0</td>\n",
       "      <td>0.0</td>\n",
       "      <td>1.0</td>\n",
       "    </tr>\n",
       "    <tr>\n",
       "      <th>1</th>\n",
       "      <td>1</td>\n",
       "      <td>03/12/2007</td>\n",
       "      <td>sheffield</td>\n",
       "      <td>1</td>\n",
       "      <td>ah</td>\n",
       "      <td>1.0</td>\n",
       "      <td>1.0</td>\n",
       "      <td>1</td>\n",
       "      <td>0</td>\n",
       "      <td>4/25/1989</td>\n",
       "      <td>...</td>\n",
       "      <td>NaN</td>\n",
       "      <td>NaN</td>\n",
       "      <td>NaN</td>\n",
       "      <td>NaN</td>\n",
       "      <td>NaN</td>\n",
       "      <td>1.0</td>\n",
       "      <td>1.0</td>\n",
       "      <td>0.0</td>\n",
       "      <td>0.0</td>\n",
       "      <td>0.0</td>\n",
       "    </tr>\n",
       "    <tr>\n",
       "      <th>2</th>\n",
       "      <td>1</td>\n",
       "      <td>03/12/2007</td>\n",
       "      <td>sheffield</td>\n",
       "      <td>1</td>\n",
       "      <td>ah</td>\n",
       "      <td>1.0</td>\n",
       "      <td>1.0</td>\n",
       "      <td>1</td>\n",
       "      <td>0</td>\n",
       "      <td>4/25/1989</td>\n",
       "      <td>...</td>\n",
       "      <td>NaN</td>\n",
       "      <td>NaN</td>\n",
       "      <td>NaN</td>\n",
       "      <td>NaN</td>\n",
       "      <td>NaN</td>\n",
       "      <td>1.0</td>\n",
       "      <td>1.0</td>\n",
       "      <td>0.0</td>\n",
       "      <td>0.0</td>\n",
       "      <td>0.0</td>\n",
       "    </tr>\n",
       "    <tr>\n",
       "      <th>3</th>\n",
       "      <td>1</td>\n",
       "      <td>03/12/2007</td>\n",
       "      <td>sheffield</td>\n",
       "      <td>1</td>\n",
       "      <td>ah</td>\n",
       "      <td>1.0</td>\n",
       "      <td>1.0</td>\n",
       "      <td>1</td>\n",
       "      <td>0</td>\n",
       "      <td>4/25/1989</td>\n",
       "      <td>...</td>\n",
       "      <td>NaN</td>\n",
       "      <td>NaN</td>\n",
       "      <td>NaN</td>\n",
       "      <td>NaN</td>\n",
       "      <td>NaN</td>\n",
       "      <td>0.0</td>\n",
       "      <td>0.0</td>\n",
       "      <td>1.0</td>\n",
       "      <td>0.0</td>\n",
       "      <td>0.0</td>\n",
       "    </tr>\n",
       "    <tr>\n",
       "      <th>4</th>\n",
       "      <td>1</td>\n",
       "      <td>03/12/2007</td>\n",
       "      <td>sheffield</td>\n",
       "      <td>1</td>\n",
       "      <td>ah</td>\n",
       "      <td>1.0</td>\n",
       "      <td>1.0</td>\n",
       "      <td>1</td>\n",
       "      <td>0</td>\n",
       "      <td>4/25/1989</td>\n",
       "      <td>...</td>\n",
       "      <td>NaN</td>\n",
       "      <td>8.0</td>\n",
       "      <td>8.0</td>\n",
       "      <td>0.0</td>\n",
       "      <td>1.0</td>\n",
       "      <td>1.0</td>\n",
       "      <td>1.0</td>\n",
       "      <td>0.0</td>\n",
       "      <td>0.0</td>\n",
       "      <td>0.0</td>\n",
       "    </tr>\n",
       "  </tbody>\n",
       "</table>\n",
       "<p>5 rows × 216 columns</p>\n",
       "</div>"
      ],
      "text/plain": [
       "   subjectno  date_time1   location  complete subjectint  gender  \\\n",
       "0          1         NaN  sheffield         1         ah     1.0   \n",
       "1          1  03/12/2007  sheffield         1         ah     1.0   \n",
       "2          1  03/12/2007  sheffield         1         ah     1.0   \n",
       "3          1  03/12/2007  sheffield         1         ah     1.0   \n",
       "4          1  03/12/2007  sheffield         1         ah     1.0   \n",
       "\n",
       "   ego_gender_recode  VAR00005  ethnic    dateofb  ...  live_sheff_3  ec_3  \\\n",
       "0                1.0         1       0  4/25/1989  ...           NaN   8.0   \n",
       "1                1.0         1       0  4/25/1989  ...           NaN   NaN   \n",
       "2                1.0         1       0  4/25/1989  ...           NaN   NaN   \n",
       "3                1.0         1       0  4/25/1989  ...           NaN   NaN   \n",
       "4                1.0         1       0  4/25/1989  ...           NaN   8.0   \n",
       "\n",
       "   ec_3_recode  EC_CHANGE_3_1  ec_change_3_2 sport_3  leisure_3  social_3  \\\n",
       "0          8.0           -2.0           -2.0     0.0        1.0       1.0   \n",
       "1          NaN            NaN            NaN     1.0        1.0       0.0   \n",
       "2          NaN            NaN            NaN     1.0        1.0       0.0   \n",
       "3          NaN            NaN            NaN     0.0        0.0       1.0   \n",
       "4          8.0            0.0            1.0     1.0        1.0       0.0   \n",
       "\n",
       "   work_3  holiday_3  \n",
       "0     0.0        1.0  \n",
       "1     0.0        0.0  \n",
       "2     0.0        0.0  \n",
       "3     0.0        0.0  \n",
       "4     0.0        0.0  \n",
       "\n",
       "[5 rows x 216 columns]"
      ]
     },
     "execution_count": 12,
     "metadata": {},
     "output_type": "execute_result"
    }
   ],
   "source": [
    "activities.head()"
   ]
  },
  {
   "cell_type": "code",
   "execution_count": null,
   "id": "08d71d38-a6d0-442c-a7cc-5f4ff789cf2f",
   "metadata": {
    "execution": {
     "iopub.status.busy": "2022-11-06T03:32:42.630662Z",
     "iopub.status.idle": "2022-11-06T03:32:42.630938Z",
     "shell.execute_reply": "2022-11-06T03:32:42.630843Z",
     "shell.execute_reply.started": "2022-11-06T03:32:42.630832Z"
    },
    "tags": []
   },
   "outputs": [],
   "source": [
    "type(activities['amobile'].iloc[0])"
   ]
  },
  {
   "cell_type": "code",
   "execution_count": null,
   "id": "41d13187-8459-415e-8f72-7c8cbdc9e71a",
   "metadata": {
    "execution": {
     "iopub.status.busy": "2022-11-06T03:32:42.631402Z",
     "iopub.status.idle": "2022-11-06T03:32:42.631596Z",
     "shell.execute_reply": "2022-11-06T03:32:42.631505Z",
     "shell.execute_reply.started": "2022-11-06T03:32:42.631495Z"
    },
    "tags": []
   },
   "outputs": [],
   "source": [
    "type(UKc['alter2'].iloc[0])"
   ]
  },
  {
   "cell_type": "code",
   "execution_count": null,
   "id": "e5119bd7-b978-41a2-bb75-258baf6eb729",
   "metadata": {
    "execution": {
     "iopub.status.busy": "2022-11-06T03:32:42.632344Z",
     "iopub.status.idle": "2022-11-06T03:32:42.632541Z",
     "shell.execute_reply": "2022-11-06T03:32:42.632448Z",
     "shell.execute_reply.started": "2022-11-06T03:32:42.632438Z"
    },
    "tags": []
   },
   "outputs": [],
   "source": [
    "activities['tmp'] = activities['amobile'].map(lambda i: str(i).replace(\" \", \"\")[-10:])\n",
    "for i in activities.index:\n",
    "    ego = activities['subjectno'][i]\n",
    "    alter = activities['tmp'][i]\n",
    "    if pd.isna(alter):\n",
    "        activities['pair'] = pd.NA\n",
    "    else:\n",
    "        df = UKc.loc[(UKc['ego'] == ego) & (UKc['alter2'] == alter)]\n",
    "        if len(df) > 0:\n",
    "            activities['pair'] = df['pair'].iloc[0]\n",
    "        else:\n",
    "            activities['pair'] = pd.NA\n",
    "# activities['aid'] = activities.index.map(lambda i: alterid[activities['subjectno'][i]][activities['tmp'][i]] if activities['tmp'][i] in alterid[activities['subjectno'][i]].keys() else pd.NA)"
   ]
  },
  {
   "cell_type": "code",
   "execution_count": null,
   "id": "17ccf93c-3002-47e3-a97a-434d815f628f",
   "metadata": {
    "execution": {
     "iopub.status.busy": "2022-11-06T03:32:42.633137Z",
     "iopub.status.idle": "2022-11-06T03:32:42.633407Z",
     "shell.execute_reply": "2022-11-06T03:32:42.633314Z",
     "shell.execute_reply.started": "2022-11-06T03:32:42.633304Z"
    },
    "tags": []
   },
   "outputs": [],
   "source": [
    "activities['tmp'] = activities['amobile2'].map(lambda i: str(i).replace(\" \", \"\")[-10:])\n",
    "for i in activities.index:\n",
    "    if pd.isna(activities['pair'][i]):\n",
    "        ego = activities['subjectno'][i]\n",
    "        alter = activities['tmp'][i]\n",
    "        if pd.isna(alter):\n",
    "            activities['pair'] = pd.NA\n",
    "        else:\n",
    "            df = UKc.loc[(UKc['ego'] == ego) & (UKc['alter2'] == alter)]\n",
    "            if len(df) > 0:\n",
    "                activities['pair'] = df['pair'].iloc[0]\n",
    "            else:\n",
    "                activities['pair'] = pd.NA"
   ]
  },
  {
   "cell_type": "code",
   "execution_count": null,
   "id": "4df9f16c-6a4e-4afa-9e69-a56c81d4ddfd",
   "metadata": {
    "execution": {
     "iopub.status.busy": "2022-11-06T03:32:42.633858Z",
     "iopub.status.idle": "2022-11-06T03:32:42.634053Z",
     "shell.execute_reply": "2022-11-06T03:32:42.633961Z",
     "shell.execute_reply.started": "2022-11-06T03:32:42.633951Z"
    },
    "tags": []
   },
   "outputs": [],
   "source": [
    "activities['tmp'] = activities['mobile_3'].map(lambda i: str(i).replace(\" \", \"\")[-10:])\n",
    "for i in activities.index:\n",
    "    if pd.isna(activities['pair'][i]):\n",
    "        ego = activities['subjectno'][i]\n",
    "        alter = activities['tmp'][i]\n",
    "        if pd.isna(alter):\n",
    "            activities['pair'] = pd.NA\n",
    "        else:\n",
    "            df = UKc.loc[(UKc['ego'] == ego) & (UKc['alter2'] == alter)]\n",
    "            if len(df) > 0:\n",
    "                activities['pair'] = df['pair'].iloc[0]\n",
    "            else:\n",
    "                activities['pair'] = pd.NA"
   ]
  },
  {
   "cell_type": "code",
   "execution_count": null,
   "id": "cc64b378-5939-481a-ae7c-4de12824cac6",
   "metadata": {
    "execution": {
     "iopub.status.busy": "2022-11-06T03:32:42.634652Z",
     "iopub.status.idle": "2022-11-06T03:32:42.634846Z",
     "shell.execute_reply": "2022-11-06T03:32:42.634756Z",
     "shell.execute_reply.started": "2022-11-06T03:32:42.634746Z"
    },
    "tags": []
   },
   "outputs": [],
   "source": [
    "activities['tmp'] = activities['alandline'].map(lambda i: str(i).replace(\" \", \"\")[-10:])\n",
    "for i in activities.index:\n",
    "    if pd.isna(activities['pair'][i]):\n",
    "        ego = activities['subjectno'][i]\n",
    "        alter = activities['tmp'][i]\n",
    "        if pd.isna(alter):\n",
    "            activities['pair'] = pd.NA\n",
    "        else:\n",
    "            df = UKc.loc[(UKc['ego'] == ego) & (UKc['alter2'] == alter)]\n",
    "            if len(df) > 0:\n",
    "                activities['pair'] = df['pair'].iloc[0]\n",
    "            else:\n",
    "                activities['pair'] = pd.NA"
   ]
  },
  {
   "cell_type": "code",
   "execution_count": null,
   "id": "b7452c45-60d3-459a-95b5-82f3c2833eca",
   "metadata": {
    "execution": {
     "iopub.status.busy": "2022-11-06T03:32:42.635472Z",
     "iopub.status.idle": "2022-11-06T03:32:42.635664Z",
     "shell.execute_reply": "2022-11-06T03:32:42.635571Z",
     "shell.execute_reply.started": "2022-11-06T03:32:42.635562Z"
    },
    "tags": []
   },
   "outputs": [],
   "source": [
    "activities['tmp'] = activities['alandline2'].map(lambda i: str(i).replace(\" \", \"\")[-10:])\n",
    "for i in activities.index:\n",
    "    if pd.isna(activities['pair'][i]):\n",
    "        ego = activities['subjectno'][i]\n",
    "        alter = activities['tmp'][i]\n",
    "        if pd.isna(alter):\n",
    "            activities['pair'] = pd.NA\n",
    "        else:\n",
    "            df = UKc.loc[(UKc['ego'] == ego) & (UKc['alter2'] == alter)]\n",
    "            if len(df) > 0:\n",
    "                activities['pair'] = df['pair'].iloc[0]\n",
    "            else:\n",
    "                activities['pair'] = pd.NA"
   ]
  },
  {
   "cell_type": "code",
   "execution_count": null,
   "id": "1823e29c-d393-403f-9155-b6d94dbc7ad7",
   "metadata": {
    "execution": {
     "iopub.status.busy": "2022-11-06T03:32:42.636257Z",
     "iopub.status.idle": "2022-11-06T03:32:42.636448Z",
     "shell.execute_reply": "2022-11-06T03:32:42.636358Z",
     "shell.execute_reply.started": "2022-11-06T03:32:42.636348Z"
    },
    "tags": []
   },
   "outputs": [],
   "source": [
    "activities['tmp'] = activities['landline_3'].map(lambda i: str(i).replace(\" \", \"\")[-10:])\n",
    "for i in activities.index:\n",
    "    if pd.isna(activities['pair'][i]):\n",
    "        ego = activities['subjectno'][i]\n",
    "        alter = activities['tmp'][i]\n",
    "        if pd.isna(alter):\n",
    "            activities['pair'] = pd.NA\n",
    "        else:\n",
    "            df = UKc.loc[(UKc['ego'] == ego) & (UKc['alter2'] == alter)]\n",
    "            if len(df) > 0:\n",
    "                activities['pair'] = df['pair'].iloc[0]\n",
    "            else:\n",
    "                activities['pair'] = pd.NA"
   ]
  },
  {
   "cell_type": "code",
   "execution_count": null,
   "id": "45d27dc8-7600-4f2d-9628-a470ddd193db",
   "metadata": {
    "execution": {
     "iopub.status.busy": "2022-11-06T03:32:42.636890Z",
     "iopub.status.idle": "2022-11-06T03:32:42.637080Z",
     "shell.execute_reply": "2022-11-06T03:32:42.636990Z",
     "shell.execute_reply.started": "2022-11-06T03:32:42.636981Z"
    },
    "tags": []
   },
   "outputs": [],
   "source": [
    "sum(~activities['pair'].isna())"
   ]
  },
  {
   "cell_type": "code",
   "execution_count": null,
   "id": "e0a09dd1-ee2c-43c1-989b-d5cd7205369c",
   "metadata": {
    "execution": {
     "iopub.status.busy": "2022-11-06T03:32:42.637570Z",
     "iopub.status.idle": "2022-11-06T03:32:42.637767Z",
     "shell.execute_reply": "2022-11-06T03:32:42.637677Z",
     "shell.execute_reply.started": "2022-11-06T03:32:42.637667Z"
    },
    "tags": []
   },
   "outputs": [],
   "source": [
    "activities['pair'].value_counts()"
   ]
  },
  {
   "cell_type": "code",
   "execution_count": null,
   "id": "0b376b2b-2be6-4b4b-98c7-8d46f561de7f",
   "metadata": {
    "execution": {
     "iopub.status.busy": "2022-11-06T03:32:42.638212Z",
     "iopub.status.idle": "2022-11-06T03:32:42.638400Z",
     "shell.execute_reply": "2022-11-06T03:32:42.638310Z",
     "shell.execute_reply.started": "2022-11-06T03:32:42.638301Z"
    },
    "tags": []
   },
   "outputs": [],
   "source": [
    "# activities['pair'] = list(zip(activities['subjectno'], activities['aid']))\n",
    "# activities['pair'] = activities['pair'].astype(str)\n",
    "activities.head()"
   ]
  },
  {
   "cell_type": "code",
   "execution_count": null,
   "id": "a93c9bc6-9402-443c-bb5a-bf9fbb34d118",
   "metadata": {
    "execution": {
     "iopub.status.busy": "2022-11-06T03:32:42.638975Z",
     "iopub.status.idle": "2022-11-06T03:32:42.639170Z",
     "shell.execute_reply": "2022-11-06T03:32:42.639077Z",
     "shell.execute_reply.started": "2022-11-06T03:32:42.639067Z"
    },
    "tags": []
   },
   "outputs": [],
   "source": [
    "activities['pair'][0]"
   ]
  },
  {
   "cell_type": "code",
   "execution_count": null,
   "id": "c71ec6d9-1b1b-4d2c-9820-fc19a3b0e450",
   "metadata": {
    "execution": {
     "iopub.status.busy": "2022-11-06T03:32:42.639623Z",
     "iopub.status.idle": "2022-11-06T03:32:42.639812Z",
     "shell.execute_reply": "2022-11-06T03:32:42.639722Z",
     "shell.execute_reply.started": "2022-11-06T03:32:42.639713Z"
    }
   },
   "outputs": [],
   "source": [
    "activities = activities[['pair', 'asport', 'aleisure', 'asocial', 'awork', 'aholiday', 'asport2', 'aleisure2', 'asocial2', 'awork2', 'aholiday2', 'sport_3', 'leisure_3', 'social_3', 'work_3', 'holiday_3']]\n",
    "activities.columns = ['pair', 'asport1', 'aleisure1', 'asocial1', 'awork1', 'aholiday1', 'asport2', 'aleisure2', 'asocial2', 'awork2', 'aholiday2', 'asport3', 'aleisure3', 'asocial3', 'awork3', 'aholiday3']"
   ]
  },
  {
   "cell_type": "code",
   "execution_count": null,
   "id": "472e8100-211d-4e0d-9f0b-dedab9dd4ecd",
   "metadata": {
    "execution": {
     "iopub.status.busy": "2022-11-06T03:32:42.640322Z",
     "iopub.status.idle": "2022-11-06T03:32:42.640517Z",
     "shell.execute_reply": "2022-11-06T03:32:42.640426Z",
     "shell.execute_reply.started": "2022-11-06T03:32:42.640417Z"
    },
    "tags": []
   },
   "outputs": [],
   "source": [
    "activities"
   ]
  },
  {
   "cell_type": "code",
   "execution_count": null,
   "id": "d2e3faea-62e4-4d90-9ea8-329025ace6bf",
   "metadata": {
    "execution": {
     "iopub.status.busy": "2022-11-06T03:32:42.640972Z",
     "iopub.status.idle": "2022-11-06T03:32:42.641160Z",
     "shell.execute_reply": "2022-11-06T03:32:42.641071Z",
     "shell.execute_reply.started": "2022-11-06T03:32:42.641061Z"
    },
    "tags": []
   },
   "outputs": [],
   "source": [
    "# with open('data/activities.pickle', 'wb') as acts:\n",
    "#     pickle.dump(activities, acts, protocol=pickle.HIGHEST_PROTOCOL)\n",
    "# acts.close()"
   ]
  },
  {
   "cell_type": "markdown",
   "id": "791a14e6-4e93-45d9-b110-193cf044a875",
   "metadata": {},
   "source": [
    "## Produce data for EC analysis "
   ]
  },
  {
   "cell_type": "code",
   "execution_count": 55,
   "id": "2d27947e-b2b3-4306-8daf-944e2d91ffa3",
   "metadata": {
    "execution": {
     "iopub.execute_input": "2022-11-07T14:36:17.272690Z",
     "iopub.status.busy": "2022-11-07T14:36:17.272401Z",
     "iopub.status.idle": "2022-11-07T14:36:27.408884Z",
     "shell.execute_reply": "2022-11-07T14:36:27.408382Z",
     "shell.execute_reply.started": "2022-11-07T14:36:17.272665Z"
    },
    "tags": []
   },
   "outputs": [
    {
     "data": {
      "text/html": [
       "<div>\n",
       "<style scoped>\n",
       "    .dataframe tbody tr th:only-of-type {\n",
       "        vertical-align: middle;\n",
       "    }\n",
       "\n",
       "    .dataframe tbody tr th {\n",
       "        vertical-align: top;\n",
       "    }\n",
       "\n",
       "    .dataframe thead th {\n",
       "        text-align: right;\n",
       "    }\n",
       "</style>\n",
       "<table border=\"1\" class=\"dataframe\">\n",
       "  <thead>\n",
       "    <tr style=\"text-align: right;\">\n",
       "      <th></th>\n",
       "      <th>ego</th>\n",
       "      <th>alter</th>\n",
       "      <th>time</th>\n",
       "      <th>date</th>\n",
       "      <th>isCall</th>\n",
       "      <th>duration</th>\n",
       "      <th>pair</th>\n",
       "      <th>eid</th>\n",
       "      <th>efemale</th>\n",
       "      <th>pair2</th>\n",
       "      <th>...</th>\n",
       "      <th>ec2</th>\n",
       "      <th>ec3</th>\n",
       "      <th>face1</th>\n",
       "      <th>face2</th>\n",
       "      <th>face3</th>\n",
       "      <th>layer1</th>\n",
       "      <th>layer2</th>\n",
       "      <th>layer3</th>\n",
       "      <th>t</th>\n",
       "      <th>a</th>\n",
       "    </tr>\n",
       "  </thead>\n",
       "  <tbody>\n",
       "    <tr>\n",
       "      <th>0</th>\n",
       "      <td>7896556837</td>\n",
       "      <td>7794665331</td>\n",
       "      <td>2007-03-05 15:02:00</td>\n",
       "      <td>2007-03-05</td>\n",
       "      <td>1</td>\n",
       "      <td>56</td>\n",
       "      <td>(7896556837, 7794665331)</td>\n",
       "      <td>6</td>\n",
       "      <td>0</td>\n",
       "      <td>(6, 7794665331)</td>\n",
       "      <td>...</td>\n",
       "      <td>8.0</td>\n",
       "      <td>8.0</td>\n",
       "      <td>1.0</td>\n",
       "      <td>1.0</td>\n",
       "      <td>1.0</td>\n",
       "      <td>0.0</td>\n",
       "      <td>0.0</td>\n",
       "      <td>0.0</td>\n",
       "      <td>0</td>\n",
       "      <td>0</td>\n",
       "    </tr>\n",
       "    <tr>\n",
       "      <th>1</th>\n",
       "      <td>7896556837</td>\n",
       "      <td>7800650511</td>\n",
       "      <td>2007-03-05 16:29:00</td>\n",
       "      <td>2007-03-05</td>\n",
       "      <td>0</td>\n",
       "      <td>0</td>\n",
       "      <td>(7896556837, 7800650511)</td>\n",
       "      <td>6</td>\n",
       "      <td>0</td>\n",
       "      <td>(6, 7800650511)</td>\n",
       "      <td>...</td>\n",
       "      <td>4.0</td>\n",
       "      <td>1.0</td>\n",
       "      <td>5.0</td>\n",
       "      <td>124.0</td>\n",
       "      <td>286.0</td>\n",
       "      <td>2.0</td>\n",
       "      <td>2.0</td>\n",
       "      <td>2.0</td>\n",
       "      <td>0</td>\n",
       "      <td>0</td>\n",
       "    </tr>\n",
       "    <tr>\n",
       "      <th>2</th>\n",
       "      <td>7896556837</td>\n",
       "      <td>7821100539</td>\n",
       "      <td>2007-03-05 16:37:00</td>\n",
       "      <td>2007-03-05</td>\n",
       "      <td>1</td>\n",
       "      <td>28</td>\n",
       "      <td>(7896556837, 7821100539)</td>\n",
       "      <td>6</td>\n",
       "      <td>0</td>\n",
       "      <td>(6, 7821100539)</td>\n",
       "      <td>...</td>\n",
       "      <td>10.0</td>\n",
       "      <td>9.0</td>\n",
       "      <td>1.0</td>\n",
       "      <td>1.0</td>\n",
       "      <td>1.0</td>\n",
       "      <td>0.0</td>\n",
       "      <td>0.0</td>\n",
       "      <td>0.0</td>\n",
       "      <td>0</td>\n",
       "      <td>0</td>\n",
       "    </tr>\n",
       "    <tr>\n",
       "      <th>3</th>\n",
       "      <td>7896556837</td>\n",
       "      <td>7800650511</td>\n",
       "      <td>2007-03-05 16:47:00</td>\n",
       "      <td>2007-03-05</td>\n",
       "      <td>1</td>\n",
       "      <td>2</td>\n",
       "      <td>(7896556837, 7800650511)</td>\n",
       "      <td>6</td>\n",
       "      <td>0</td>\n",
       "      <td>(6, 7800650511)</td>\n",
       "      <td>...</td>\n",
       "      <td>4.0</td>\n",
       "      <td>1.0</td>\n",
       "      <td>5.0</td>\n",
       "      <td>124.0</td>\n",
       "      <td>286.0</td>\n",
       "      <td>2.0</td>\n",
       "      <td>2.0</td>\n",
       "      <td>2.0</td>\n",
       "      <td>0</td>\n",
       "      <td>0</td>\n",
       "    </tr>\n",
       "    <tr>\n",
       "      <th>4</th>\n",
       "      <td>7896556837</td>\n",
       "      <td>1142551732</td>\n",
       "      <td>2007-03-05 16:48:00</td>\n",
       "      <td>2007-03-05</td>\n",
       "      <td>1</td>\n",
       "      <td>143</td>\n",
       "      <td>(7896556837, 1142551732)</td>\n",
       "      <td>6</td>\n",
       "      <td>0</td>\n",
       "      <td>(6, 1142551732)</td>\n",
       "      <td>...</td>\n",
       "      <td>8.0</td>\n",
       "      <td>8.0</td>\n",
       "      <td>1.0</td>\n",
       "      <td>1.0</td>\n",
       "      <td>133.0</td>\n",
       "      <td>0.0</td>\n",
       "      <td>0.0</td>\n",
       "      <td>1.0</td>\n",
       "      <td>0</td>\n",
       "      <td>0</td>\n",
       "    </tr>\n",
       "  </tbody>\n",
       "</table>\n",
       "<p>5 rows × 26 columns</p>\n",
       "</div>"
      ],
      "text/plain": [
       "          ego       alter                time       date  isCall  duration  \\\n",
       "0  7896556837  7794665331 2007-03-05 15:02:00 2007-03-05       1        56   \n",
       "1  7896556837  7800650511 2007-03-05 16:29:00 2007-03-05       0         0   \n",
       "2  7896556837  7821100539 2007-03-05 16:37:00 2007-03-05       1        28   \n",
       "3  7896556837  7800650511 2007-03-05 16:47:00 2007-03-05       1         2   \n",
       "4  7896556837  1142551732 2007-03-05 16:48:00 2007-03-05       1       143   \n",
       "\n",
       "                       pair  eid  efemale            pair2  ...   ec2  ec3  \\\n",
       "0  (7896556837, 7794665331)    6        0  (6, 7794665331)  ...   8.0  8.0   \n",
       "1  (7896556837, 7800650511)    6        0  (6, 7800650511)  ...   4.0  1.0   \n",
       "2  (7896556837, 7821100539)    6        0  (6, 7821100539)  ...  10.0  9.0   \n",
       "3  (7896556837, 7800650511)    6        0  (6, 7800650511)  ...   4.0  1.0   \n",
       "4  (7896556837, 1142551732)    6        0  (6, 1142551732)  ...   8.0  8.0   \n",
       "\n",
       "   face1  face2  face3  layer1  layer2  layer3  t  a  \n",
       "0    1.0    1.0    1.0     0.0     0.0     0.0  0  0  \n",
       "1    5.0  124.0  286.0     2.0     2.0     2.0  0  0  \n",
       "2    1.0    1.0    1.0     0.0     0.0     0.0  0  0  \n",
       "3    5.0  124.0  286.0     2.0     2.0     2.0  0  0  \n",
       "4    1.0    1.0  133.0     0.0     0.0     1.0  0  0  \n",
       "\n",
       "[5 rows x 26 columns]"
      ]
     },
     "execution_count": 55,
     "metadata": {},
     "output_type": "execute_result"
    }
   ],
   "source": [
    "tmp = uk.copy(deep=True)\n",
    "mindate = min(tmp['date'])\n",
    "tmp['t'] = tmp['date'].map(lambda i: (i - mindate).days)\n",
    "t0ix = tmp.groupby('pair')['date'].min()\n",
    "tmp['a'] = tmp.index.map(lambda i: (tmp.at[i, 'date'] - t0ix[tmp.at[i, 'pair']]).days)\n",
    "tmp.head()"
   ]
  },
  {
   "cell_type": "code",
   "execution_count": 56,
   "id": "973b1265-498e-484a-ae01-ba17ee21962c",
   "metadata": {
    "execution": {
     "iopub.execute_input": "2022-11-07T14:38:34.002019Z",
     "iopub.status.busy": "2022-11-07T14:38:34.001728Z",
     "iopub.status.idle": "2022-11-07T14:38:34.020835Z",
     "shell.execute_reply": "2022-11-07T14:38:34.020297Z",
     "shell.execute_reply.started": "2022-11-07T14:38:34.001994Z"
    },
    "tags": []
   },
   "outputs": [
    {
     "data": {
      "text/plain": [
       "Index(['ego', 'alter', 'time', 'date', 'isCall', 'duration', 'pair', 'eid',\n",
       "       'efemale', 'pair2', 'aid', 'pair3', 'afemale', 'related', 'sameGen',\n",
       "       'ec1', 'ec2', 'ec3', 'face1', 'face2', 'face3', 'layer1', 'layer2',\n",
       "       'layer3', 't', 'a'],\n",
       "      dtype='object')"
      ]
     },
     "execution_count": 56,
     "metadata": {},
     "output_type": "execute_result"
    }
   ],
   "source": [
    "tmp.columns"
   ]
  },
  {
   "cell_type": "code",
   "execution_count": 58,
   "id": "964bc967-3b14-4764-88d5-a056fa8ebad9",
   "metadata": {
    "execution": {
     "iopub.execute_input": "2022-11-07T14:40:44.477822Z",
     "iopub.status.busy": "2022-11-07T14:40:44.477333Z",
     "iopub.status.idle": "2022-11-07T14:40:44.752594Z",
     "shell.execute_reply": "2022-11-07T14:40:44.752083Z",
     "shell.execute_reply.started": "2022-11-07T14:40:44.477779Z"
    },
    "tags": []
   },
   "outputs": [],
   "source": [
    "tmp_ell = tmp.groupby('pair')['a'].max()\n",
    "tmp_ec = tmp.groupby('pair')[['ec1', 'ec2', 'ec3']].first()\n",
    "tmp_related = tmp.groupby('pair')['related'].first()\n",
    "tmp_nix = tmp.groupby('pair')['time'].count()\n",
    "tmp_prop_calls = tmp.groupby('pair')['isCall'].mean()\n",
    "tmp_eid = tmp.groupby('pair')['eid'].first()\n",
    "tmp_aid = tmp.groupby('pair')['aid'].first()\n",
    "tmp_t0ix = tmp.groupby('pair')['t'].min()\n",
    "tmp_tfix = tmp.groupby('pair')['t'].max()"
   ]
  },
  {
   "cell_type": "code",
   "execution_count": 59,
   "id": "087c21e9-9f25-4334-84f7-690abaa6ca6c",
   "metadata": {
    "execution": {
     "iopub.execute_input": "2022-11-07T14:40:47.493211Z",
     "iopub.status.busy": "2022-11-07T14:40:47.492883Z",
     "iopub.status.idle": "2022-11-07T14:40:49.798034Z",
     "shell.execute_reply": "2022-11-07T14:40:49.797419Z",
     "shell.execute_reply.started": "2022-11-07T14:40:47.493183Z"
    },
    "tags": []
   },
   "outputs": [
    {
     "data": {
      "text/html": [
       "<div>\n",
       "<style scoped>\n",
       "    .dataframe tbody tr th:only-of-type {\n",
       "        vertical-align: middle;\n",
       "    }\n",
       "\n",
       "    .dataframe tbody tr th {\n",
       "        vertical-align: top;\n",
       "    }\n",
       "\n",
       "    .dataframe thead th {\n",
       "        text-align: right;\n",
       "    }\n",
       "</style>\n",
       "<table border=\"1\" class=\"dataframe\">\n",
       "  <thead>\n",
       "    <tr style=\"text-align: right;\">\n",
       "      <th></th>\n",
       "      <th>ego</th>\n",
       "      <th>eid</th>\n",
       "      <th>alter</th>\n",
       "      <th>aid</th>\n",
       "      <th>ec1</th>\n",
       "      <th>ec2</th>\n",
       "      <th>ec3</th>\n",
       "      <th>related</th>\n",
       "      <th>ell</th>\n",
       "      <th>nix</th>\n",
       "      <th>propcalls</th>\n",
       "      <th>t0</th>\n",
       "      <th>tf</th>\n",
       "    </tr>\n",
       "  </thead>\n",
       "  <tbody>\n",
       "    <tr>\n",
       "      <th>(7896556837, 7794665331)</th>\n",
       "      <td>7896556837</td>\n",
       "      <td>6</td>\n",
       "      <td>7794665331</td>\n",
       "      <td>6</td>\n",
       "      <td>9.0</td>\n",
       "      <td>8.0</td>\n",
       "      <td>8.0</td>\n",
       "      <td>0.0</td>\n",
       "      <td>293</td>\n",
       "      <td>249</td>\n",
       "      <td>0.522088</td>\n",
       "      <td>0</td>\n",
       "      <td>293</td>\n",
       "    </tr>\n",
       "    <tr>\n",
       "      <th>(7896556837, 7800650511)</th>\n",
       "      <td>7896556837</td>\n",
       "      <td>6</td>\n",
       "      <td>7800650511</td>\n",
       "      <td>63</td>\n",
       "      <td>3.0</td>\n",
       "      <td>4.0</td>\n",
       "      <td>1.0</td>\n",
       "      <td>0.0</td>\n",
       "      <td>280</td>\n",
       "      <td>9</td>\n",
       "      <td>0.333333</td>\n",
       "      <td>0</td>\n",
       "      <td>280</td>\n",
       "    </tr>\n",
       "    <tr>\n",
       "      <th>(7896556837, 7821100539)</th>\n",
       "      <td>7896556837</td>\n",
       "      <td>6</td>\n",
       "      <td>7821100539</td>\n",
       "      <td>0</td>\n",
       "      <td>9.0</td>\n",
       "      <td>10.0</td>\n",
       "      <td>9.0</td>\n",
       "      <td>1.0</td>\n",
       "      <td>527</td>\n",
       "      <td>196</td>\n",
       "      <td>0.566327</td>\n",
       "      <td>0</td>\n",
       "      <td>527</td>\n",
       "    </tr>\n",
       "    <tr>\n",
       "      <th>(7896556837, 1142551732)</th>\n",
       "      <td>7896556837</td>\n",
       "      <td>6</td>\n",
       "      <td>1142551732</td>\n",
       "      <td>7</td>\n",
       "      <td>9.0</td>\n",
       "      <td>8.0</td>\n",
       "      <td>8.0</td>\n",
       "      <td>0.0</td>\n",
       "      <td>504</td>\n",
       "      <td>11</td>\n",
       "      <td>1.0</td>\n",
       "      <td>0</td>\n",
       "      <td>504</td>\n",
       "    </tr>\n",
       "    <tr>\n",
       "      <th>(7896556837, 7707061494)</th>\n",
       "      <td>7896556837</td>\n",
       "      <td>6</td>\n",
       "      <td>7707061494</td>\n",
       "      <td>54</td>\n",
       "      <td>6.0</td>\n",
       "      <td>6.0</td>\n",
       "      <td>2.0</td>\n",
       "      <td>0.0</td>\n",
       "      <td>301</td>\n",
       "      <td>70</td>\n",
       "      <td>0.114286</td>\n",
       "      <td>0</td>\n",
       "      <td>301</td>\n",
       "    </tr>\n",
       "  </tbody>\n",
       "</table>\n",
       "</div>"
      ],
      "text/plain": [
       "                                 ego eid       alter aid  ec1   ec2  ec3  \\\n",
       "(7896556837, 7794665331)  7896556837   6  7794665331   6  9.0   8.0  8.0   \n",
       "(7896556837, 7800650511)  7896556837   6  7800650511  63  3.0   4.0  1.0   \n",
       "(7896556837, 7821100539)  7896556837   6  7821100539   0  9.0  10.0  9.0   \n",
       "(7896556837, 1142551732)  7896556837   6  1142551732   7  9.0   8.0  8.0   \n",
       "(7896556837, 7707061494)  7896556837   6  7707061494  54  6.0   6.0  2.0   \n",
       "\n",
       "                         related  ell  nix propcalls t0   tf  \n",
       "(7896556837, 7794665331)     0.0  293  249  0.522088  0  293  \n",
       "(7896556837, 7800650511)     0.0  280    9  0.333333  0  280  \n",
       "(7896556837, 7821100539)     1.0  527  196  0.566327  0  527  \n",
       "(7896556837, 1142551732)     0.0  504   11       1.0  0  504  \n",
       "(7896556837, 7707061494)     0.0  301   70  0.114286  0  301  "
      ]
     },
     "execution_count": 59,
     "metadata": {},
     "output_type": "execute_result"
    }
   ],
   "source": [
    "uk_ec = pd.DataFrame(index=list(tmp['pair'].unique()), columns=['ego', 'eid', 'alter', 'aid', 'ec1', 'ec2', 'ec3', 'related', 'ell', 'nix', 'propcalls', 't0', 'tf'])\n",
    "for i in list(tmp['pair'].unique()):\n",
    "    uk_ec.at[i, 'ego'] = i[0]\n",
    "    uk_ec.at[i, 'eid'] = tmp_eid[i]\n",
    "    uk_ec.at[i, 'alter'] = i[1]\n",
    "    uk_ec.at[i, 'aid'] = tmp_aid[i]\n",
    "    for t in range(1,4):\n",
    "        uk_ec.at[i, f'ec{t}'] = tmp_ec[f'ec{t}'][i]\n",
    "    uk_ec.at[i, 'related'] = tmp_related[i]\n",
    "    uk_ec.at[i, 'ell'] = tmp_ell[i]\n",
    "    uk_ec.at[i, 'nix'] = tmp_nix[i]\n",
    "    uk_ec.at[i, 'propcalls'] = tmp_prop_calls[i]\n",
    "    uk_ec.at[i, 't0'] = tmp_t0ix[i]\n",
    "    uk_ec.at[i, 'tf'] = tmp_tfix[i]\n",
    "uk_ec.head()"
   ]
  },
  {
   "cell_type": "code",
   "execution_count": 61,
   "id": "81d3d4de-411d-45b3-a21c-c0cf4ddca887",
   "metadata": {
    "execution": {
     "iopub.execute_input": "2022-11-07T14:46:16.549863Z",
     "iopub.status.busy": "2022-11-07T14:46:16.548487Z",
     "iopub.status.idle": "2022-11-07T14:46:16.589170Z",
     "shell.execute_reply": "2022-11-07T14:46:16.588483Z",
     "shell.execute_reply.started": "2022-11-07T14:46:16.549793Z"
    },
    "tags": []
   },
   "outputs": [],
   "source": [
    "# uk_ec.to_csv(\"data/uk_ec.txt\", index=False, header=True, sep=\"\\t\")"
   ]
  },
  {
   "cell_type": "code",
   "execution_count": 65,
   "id": "4852dd93-bb29-48cd-abd8-3c837708d71e",
   "metadata": {
    "execution": {
     "iopub.execute_input": "2022-11-07T15:42:05.089554Z",
     "iopub.status.busy": "2022-11-07T15:42:05.088989Z",
     "iopub.status.idle": "2022-11-07T15:42:05.107526Z",
     "shell.execute_reply": "2022-11-07T15:42:05.107032Z",
     "shell.execute_reply.started": "2022-11-07T15:42:05.089528Z"
    },
    "tags": []
   },
   "outputs": [
    {
     "data": {
      "text/plain": [
       "545"
      ]
     },
     "execution_count": 65,
     "metadata": {},
     "output_type": "execute_result"
    }
   ],
   "source": [
    "tmp['t'].max()"
   ]
  },
  {
   "cell_type": "markdown",
   "id": "ae6cee71-c7d1-43c2-a09e-3723f483f7b9",
   "metadata": {},
   "source": [
    "## Split between calls and texts and save"
   ]
  },
  {
   "cell_type": "code",
   "execution_count": 46,
   "id": "eb410c4b-ba5d-4ab0-ab2d-885d4910bce3",
   "metadata": {
    "execution": {
     "iopub.execute_input": "2023-03-17T00:00:08.668041Z",
     "iopub.status.busy": "2023-03-17T00:00:08.667862Z",
     "iopub.status.idle": "2023-03-17T00:00:08.743105Z",
     "shell.execute_reply": "2023-03-17T00:00:08.742581Z",
     "shell.execute_reply.started": "2023-03-17T00:00:08.668026Z"
    },
    "tags": []
   },
   "outputs": [],
   "source": [
    "ukt = uk.loc[uk['isCall'] == 0]\n",
    "ukc = uk.loc[uk['isCall'] == 1]"
   ]
  },
  {
   "cell_type": "code",
   "execution_count": 47,
   "id": "8fbc320b-4356-48c5-9356-8037b120bd54",
   "metadata": {
    "execution": {
     "iopub.execute_input": "2023-03-17T00:00:12.812925Z",
     "iopub.status.busy": "2023-03-17T00:00:12.812666Z",
     "iopub.status.idle": "2023-03-17T00:00:12.846222Z",
     "shell.execute_reply": "2023-03-17T00:00:12.845610Z",
     "shell.execute_reply.started": "2023-03-17T00:00:12.812903Z"
    },
    "tags": []
   },
   "outputs": [
    {
     "data": {
      "text/html": [
       "<div>\n",
       "<style scoped>\n",
       "    .dataframe tbody tr th:only-of-type {\n",
       "        vertical-align: middle;\n",
       "    }\n",
       "\n",
       "    .dataframe tbody tr th {\n",
       "        vertical-align: top;\n",
       "    }\n",
       "\n",
       "    .dataframe thead th {\n",
       "        text-align: right;\n",
       "    }\n",
       "</style>\n",
       "<table border=\"1\" class=\"dataframe\">\n",
       "  <thead>\n",
       "    <tr style=\"text-align: right;\">\n",
       "      <th></th>\n",
       "      <th>ego</th>\n",
       "      <th>alter</th>\n",
       "      <th>time</th>\n",
       "      <th>date</th>\n",
       "      <th>isCall</th>\n",
       "      <th>duration</th>\n",
       "      <th>pair</th>\n",
       "      <th>eid</th>\n",
       "      <th>efemale</th>\n",
       "      <th>pair2</th>\n",
       "      <th>...</th>\n",
       "      <th>pair3</th>\n",
       "      <th>afemale</th>\n",
       "      <th>related</th>\n",
       "      <th>sameGen</th>\n",
       "      <th>ec1</th>\n",
       "      <th>ec2</th>\n",
       "      <th>ec3</th>\n",
       "      <th>face1</th>\n",
       "      <th>face2</th>\n",
       "      <th>face3</th>\n",
       "    </tr>\n",
       "  </thead>\n",
       "  <tbody>\n",
       "    <tr>\n",
       "      <th>0</th>\n",
       "      <td>7896556837</td>\n",
       "      <td>7794665331</td>\n",
       "      <td>2007-03-05 15:02:00</td>\n",
       "      <td>2007-03-05</td>\n",
       "      <td>1</td>\n",
       "      <td>56</td>\n",
       "      <td>(7896556837, 7794665331)</td>\n",
       "      <td>6</td>\n",
       "      <td>0</td>\n",
       "      <td>(6, 7794665331)</td>\n",
       "      <td>...</td>\n",
       "      <td>(6, 6)</td>\n",
       "      <td>1.0</td>\n",
       "      <td>0.0</td>\n",
       "      <td>NaN</td>\n",
       "      <td>9.0</td>\n",
       "      <td>8.0</td>\n",
       "      <td>8.0</td>\n",
       "      <td>1.0</td>\n",
       "      <td>1.0</td>\n",
       "      <td>1.0</td>\n",
       "    </tr>\n",
       "    <tr>\n",
       "      <th>1</th>\n",
       "      <td>7896556837</td>\n",
       "      <td>7800650511</td>\n",
       "      <td>2007-03-05 16:29:00</td>\n",
       "      <td>2007-03-05</td>\n",
       "      <td>0</td>\n",
       "      <td>0</td>\n",
       "      <td>(7896556837, 7800650511)</td>\n",
       "      <td>6</td>\n",
       "      <td>0</td>\n",
       "      <td>(6, 7800650511)</td>\n",
       "      <td>...</td>\n",
       "      <td>(6, 63)</td>\n",
       "      <td>1.0</td>\n",
       "      <td>0.0</td>\n",
       "      <td>NaN</td>\n",
       "      <td>3.0</td>\n",
       "      <td>4.0</td>\n",
       "      <td>1.0</td>\n",
       "      <td>5.0</td>\n",
       "      <td>124.0</td>\n",
       "      <td>286.0</td>\n",
       "    </tr>\n",
       "    <tr>\n",
       "      <th>2</th>\n",
       "      <td>7896556837</td>\n",
       "      <td>7821100539</td>\n",
       "      <td>2007-03-05 16:37:00</td>\n",
       "      <td>2007-03-05</td>\n",
       "      <td>1</td>\n",
       "      <td>28</td>\n",
       "      <td>(7896556837, 7821100539)</td>\n",
       "      <td>6</td>\n",
       "      <td>0</td>\n",
       "      <td>(6, 7821100539)</td>\n",
       "      <td>...</td>\n",
       "      <td>(6, 0)</td>\n",
       "      <td>0.0</td>\n",
       "      <td>1.0</td>\n",
       "      <td>0.0</td>\n",
       "      <td>9.0</td>\n",
       "      <td>10.0</td>\n",
       "      <td>9.0</td>\n",
       "      <td>1.0</td>\n",
       "      <td>1.0</td>\n",
       "      <td>1.0</td>\n",
       "    </tr>\n",
       "    <tr>\n",
       "      <th>3</th>\n",
       "      <td>7896556837</td>\n",
       "      <td>7800650511</td>\n",
       "      <td>2007-03-05 16:47:00</td>\n",
       "      <td>2007-03-05</td>\n",
       "      <td>1</td>\n",
       "      <td>2</td>\n",
       "      <td>(7896556837, 7800650511)</td>\n",
       "      <td>6</td>\n",
       "      <td>0</td>\n",
       "      <td>(6, 7800650511)</td>\n",
       "      <td>...</td>\n",
       "      <td>(6, 63)</td>\n",
       "      <td>1.0</td>\n",
       "      <td>0.0</td>\n",
       "      <td>NaN</td>\n",
       "      <td>3.0</td>\n",
       "      <td>4.0</td>\n",
       "      <td>1.0</td>\n",
       "      <td>5.0</td>\n",
       "      <td>124.0</td>\n",
       "      <td>286.0</td>\n",
       "    </tr>\n",
       "    <tr>\n",
       "      <th>4</th>\n",
       "      <td>7896556837</td>\n",
       "      <td>1142551732</td>\n",
       "      <td>2007-03-05 16:48:00</td>\n",
       "      <td>2007-03-05</td>\n",
       "      <td>1</td>\n",
       "      <td>143</td>\n",
       "      <td>(7896556837, 1142551732)</td>\n",
       "      <td>6</td>\n",
       "      <td>0</td>\n",
       "      <td>(6, 1142551732)</td>\n",
       "      <td>...</td>\n",
       "      <td>(6, 7)</td>\n",
       "      <td>1.0</td>\n",
       "      <td>0.0</td>\n",
       "      <td>NaN</td>\n",
       "      <td>9.0</td>\n",
       "      <td>8.0</td>\n",
       "      <td>8.0</td>\n",
       "      <td>1.0</td>\n",
       "      <td>1.0</td>\n",
       "      <td>133.0</td>\n",
       "    </tr>\n",
       "  </tbody>\n",
       "</table>\n",
       "<p>5 rows × 21 columns</p>\n",
       "</div>"
      ],
      "text/plain": [
       "          ego       alter                time       date  isCall  duration  \\\n",
       "0  7896556837  7794665331 2007-03-05 15:02:00 2007-03-05       1        56   \n",
       "1  7896556837  7800650511 2007-03-05 16:29:00 2007-03-05       0         0   \n",
       "2  7896556837  7821100539 2007-03-05 16:37:00 2007-03-05       1        28   \n",
       "3  7896556837  7800650511 2007-03-05 16:47:00 2007-03-05       1         2   \n",
       "4  7896556837  1142551732 2007-03-05 16:48:00 2007-03-05       1       143   \n",
       "\n",
       "                       pair  eid  efemale            pair2  ...    pair3  \\\n",
       "0  (7896556837, 7794665331)    6        0  (6, 7794665331)  ...   (6, 6)   \n",
       "1  (7896556837, 7800650511)    6        0  (6, 7800650511)  ...  (6, 63)   \n",
       "2  (7896556837, 7821100539)    6        0  (6, 7821100539)  ...   (6, 0)   \n",
       "3  (7896556837, 7800650511)    6        0  (6, 7800650511)  ...  (6, 63)   \n",
       "4  (7896556837, 1142551732)    6        0  (6, 1142551732)  ...   (6, 7)   \n",
       "\n",
       "  afemale  related  sameGen  ec1   ec2  ec3  face1  face2  face3  \n",
       "0     1.0      0.0      NaN  9.0   8.0  8.0    1.0    1.0    1.0  \n",
       "1     1.0      0.0      NaN  3.0   4.0  1.0    5.0  124.0  286.0  \n",
       "2     0.0      1.0      0.0  9.0  10.0  9.0    1.0    1.0    1.0  \n",
       "3     1.0      0.0      NaN  3.0   4.0  1.0    5.0  124.0  286.0  \n",
       "4     1.0      0.0      NaN  9.0   8.0  8.0    1.0    1.0  133.0  \n",
       "\n",
       "[5 rows x 21 columns]"
      ]
     },
     "execution_count": 47,
     "metadata": {},
     "output_type": "execute_result"
    }
   ],
   "source": [
    "uk.head()"
   ]
  },
  {
   "cell_type": "code",
   "execution_count": 48,
   "id": "970abea7-ca20-474f-9b2d-5cbf3f4abaf3",
   "metadata": {
    "execution": {
     "iopub.execute_input": "2023-03-17T00:00:27.122423Z",
     "iopub.status.busy": "2023-03-17T00:00:27.121938Z",
     "iopub.status.idle": "2023-03-17T00:00:27.162562Z",
     "shell.execute_reply": "2023-03-17T00:00:27.161917Z",
     "shell.execute_reply.started": "2023-03-17T00:00:27.122380Z"
    },
    "tags": []
   },
   "outputs": [
    {
     "data": {
      "text/html": [
       "<div>\n",
       "<style scoped>\n",
       "    .dataframe tbody tr th:only-of-type {\n",
       "        vertical-align: middle;\n",
       "    }\n",
       "\n",
       "    .dataframe tbody tr th {\n",
       "        vertical-align: top;\n",
       "    }\n",
       "\n",
       "    .dataframe thead th {\n",
       "        text-align: right;\n",
       "    }\n",
       "</style>\n",
       "<table border=\"1\" class=\"dataframe\">\n",
       "  <thead>\n",
       "    <tr style=\"text-align: right;\">\n",
       "      <th></th>\n",
       "      <th>ego</th>\n",
       "      <th>alter</th>\n",
       "      <th>time</th>\n",
       "      <th>date</th>\n",
       "      <th>isCall</th>\n",
       "      <th>duration</th>\n",
       "      <th>pair</th>\n",
       "      <th>eid</th>\n",
       "      <th>efemale</th>\n",
       "      <th>pair2</th>\n",
       "      <th>...</th>\n",
       "      <th>pair3</th>\n",
       "      <th>afemale</th>\n",
       "      <th>related</th>\n",
       "      <th>sameGen</th>\n",
       "      <th>ec1</th>\n",
       "      <th>ec2</th>\n",
       "      <th>ec3</th>\n",
       "      <th>face1</th>\n",
       "      <th>face2</th>\n",
       "      <th>face3</th>\n",
       "    </tr>\n",
       "  </thead>\n",
       "  <tbody>\n",
       "    <tr>\n",
       "      <th>1</th>\n",
       "      <td>7896556837</td>\n",
       "      <td>7800650511</td>\n",
       "      <td>2007-03-05 16:29:00</td>\n",
       "      <td>2007-03-05</td>\n",
       "      <td>0</td>\n",
       "      <td>0</td>\n",
       "      <td>(7896556837, 7800650511)</td>\n",
       "      <td>6</td>\n",
       "      <td>0</td>\n",
       "      <td>(6, 7800650511)</td>\n",
       "      <td>...</td>\n",
       "      <td>(6, 63)</td>\n",
       "      <td>1.0</td>\n",
       "      <td>0.0</td>\n",
       "      <td>NaN</td>\n",
       "      <td>3.0</td>\n",
       "      <td>4.0</td>\n",
       "      <td>1.0</td>\n",
       "      <td>5.0</td>\n",
       "      <td>124.0</td>\n",
       "      <td>286.0</td>\n",
       "    </tr>\n",
       "    <tr>\n",
       "      <th>5</th>\n",
       "      <td>7896556837</td>\n",
       "      <td>7707061494</td>\n",
       "      <td>2007-03-05 17:37:00</td>\n",
       "      <td>2007-03-05</td>\n",
       "      <td>0</td>\n",
       "      <td>0</td>\n",
       "      <td>(7896556837, 7707061494)</td>\n",
       "      <td>6</td>\n",
       "      <td>0</td>\n",
       "      <td>(6, 7707061494)</td>\n",
       "      <td>...</td>\n",
       "      <td>(6, 54)</td>\n",
       "      <td>1.0</td>\n",
       "      <td>0.0</td>\n",
       "      <td>NaN</td>\n",
       "      <td>6.0</td>\n",
       "      <td>6.0</td>\n",
       "      <td>2.0</td>\n",
       "      <td>1.0</td>\n",
       "      <td>93.0</td>\n",
       "      <td>43.0</td>\n",
       "    </tr>\n",
       "    <tr>\n",
       "      <th>6</th>\n",
       "      <td>7896556837</td>\n",
       "      <td>7800755987</td>\n",
       "      <td>2007-03-05 17:37:00</td>\n",
       "      <td>2007-03-05</td>\n",
       "      <td>0</td>\n",
       "      <td>0</td>\n",
       "      <td>(7896556837, 7800755987)</td>\n",
       "      <td>6</td>\n",
       "      <td>0</td>\n",
       "      <td>(6, 7800755987)</td>\n",
       "      <td>...</td>\n",
       "      <td>(6, 9)</td>\n",
       "      <td>1.0</td>\n",
       "      <td>0.0</td>\n",
       "      <td>NaN</td>\n",
       "      <td>7.0</td>\n",
       "      <td>8.0</td>\n",
       "      <td>7.0</td>\n",
       "      <td>1.0</td>\n",
       "      <td>1.0</td>\n",
       "      <td>1.0</td>\n",
       "    </tr>\n",
       "    <tr>\n",
       "      <th>7</th>\n",
       "      <td>7896556837</td>\n",
       "      <td>7757845137</td>\n",
       "      <td>2007-03-05 17:38:00</td>\n",
       "      <td>2007-03-05</td>\n",
       "      <td>0</td>\n",
       "      <td>0</td>\n",
       "      <td>(7896556837, 7757845137)</td>\n",
       "      <td>6</td>\n",
       "      <td>0</td>\n",
       "      <td>(6, 7757845137)</td>\n",
       "      <td>...</td>\n",
       "      <td>(6, 14)</td>\n",
       "      <td>1.0</td>\n",
       "      <td>0.0</td>\n",
       "      <td>NaN</td>\n",
       "      <td>8.0</td>\n",
       "      <td>7.0</td>\n",
       "      <td>7.0</td>\n",
       "      <td>1.0</td>\n",
       "      <td>11.0</td>\n",
       "      <td>1.0</td>\n",
       "    </tr>\n",
       "    <tr>\n",
       "      <th>8</th>\n",
       "      <td>7896556837</td>\n",
       "      <td>7734730388</td>\n",
       "      <td>2007-03-05 17:39:00</td>\n",
       "      <td>2007-03-05</td>\n",
       "      <td>0</td>\n",
       "      <td>0</td>\n",
       "      <td>(7896556837, 7734730388)</td>\n",
       "      <td>6</td>\n",
       "      <td>0</td>\n",
       "      <td>(6, 7734730388)</td>\n",
       "      <td>...</td>\n",
       "      <td>(6, 57)</td>\n",
       "      <td>0.0</td>\n",
       "      <td>0.0</td>\n",
       "      <td>NaN</td>\n",
       "      <td>4.0</td>\n",
       "      <td>6.0</td>\n",
       "      <td>2.0</td>\n",
       "      <td>5.0</td>\n",
       "      <td>2.0</td>\n",
       "      <td>43.0</td>\n",
       "    </tr>\n",
       "  </tbody>\n",
       "</table>\n",
       "<p>5 rows × 21 columns</p>\n",
       "</div>"
      ],
      "text/plain": [
       "          ego       alter                time       date  isCall  duration  \\\n",
       "1  7896556837  7800650511 2007-03-05 16:29:00 2007-03-05       0         0   \n",
       "5  7896556837  7707061494 2007-03-05 17:37:00 2007-03-05       0         0   \n",
       "6  7896556837  7800755987 2007-03-05 17:37:00 2007-03-05       0         0   \n",
       "7  7896556837  7757845137 2007-03-05 17:38:00 2007-03-05       0         0   \n",
       "8  7896556837  7734730388 2007-03-05 17:39:00 2007-03-05       0         0   \n",
       "\n",
       "                       pair  eid  efemale            pair2  ...    pair3  \\\n",
       "1  (7896556837, 7800650511)    6        0  (6, 7800650511)  ...  (6, 63)   \n",
       "5  (7896556837, 7707061494)    6        0  (6, 7707061494)  ...  (6, 54)   \n",
       "6  (7896556837, 7800755987)    6        0  (6, 7800755987)  ...   (6, 9)   \n",
       "7  (7896556837, 7757845137)    6        0  (6, 7757845137)  ...  (6, 14)   \n",
       "8  (7896556837, 7734730388)    6        0  (6, 7734730388)  ...  (6, 57)   \n",
       "\n",
       "  afemale  related  sameGen  ec1  ec2  ec3  face1  face2  face3  \n",
       "1     1.0      0.0      NaN  3.0  4.0  1.0    5.0  124.0  286.0  \n",
       "5     1.0      0.0      NaN  6.0  6.0  2.0    1.0   93.0   43.0  \n",
       "6     1.0      0.0      NaN  7.0  8.0  7.0    1.0    1.0    1.0  \n",
       "7     1.0      0.0      NaN  8.0  7.0  7.0    1.0   11.0    1.0  \n",
       "8     0.0      0.0      NaN  4.0  6.0  2.0    5.0    2.0   43.0  \n",
       "\n",
       "[5 rows x 21 columns]"
      ]
     },
     "execution_count": 48,
     "metadata": {},
     "output_type": "execute_result"
    }
   ],
   "source": [
    "ukt.head()"
   ]
  },
  {
   "cell_type": "code",
   "execution_count": 49,
   "id": "26a70224-a572-4e35-8d1f-218f02aa2551",
   "metadata": {
    "execution": {
     "iopub.execute_input": "2023-03-17T00:00:31.731543Z",
     "iopub.status.busy": "2023-03-17T00:00:31.730841Z",
     "iopub.status.idle": "2023-03-17T00:00:44.624841Z",
     "shell.execute_reply": "2023-03-17T00:00:44.624303Z",
     "shell.execute_reply.started": "2023-03-17T00:00:31.731528Z"
    },
    "tags": []
   },
   "outputs": [],
   "source": [
    "counter = 0\n",
    "for d in [ukt, ukc]:\n",
    "    df = d.copy(deep=True)\n",
    "    mindate = min(df['date'])\n",
    "    df['t'] = df['date'].map(lambda i: (i - mindate).days)\n",
    "    t0ix = df.groupby('pair3')['date'].min()\n",
    "    df['a'] = df.index.map(lambda i: (df.at[i, 'date'] - t0ix[df.at[i, 'pair3']]).days)\n",
    "    df['pair27'] = df['pair']\n",
    "    df['ego2'] = df['ego']\n",
    "    df['alter2'] = df['alter']\n",
    "    df = df[['eid', 'aid', 'pair3', 'time', 'date', 'duration', 't', 'a', 'efemale', 'afemale', 'related', 'sameGen', 'ec1', 'ec2', 'ec3', 'face1', 'face2', 'face3', 'pair27', 'ego2', 'alter2']].rename({'eid': 'ego', 'aid': 'alter', 'pair3': 'pair', 'pair27': 'pair2'}, axis='columns')\n",
    "    df = df.sort_values(by=['ego', 'alter', 'time']).reset_index(drop=True)\n",
    "    if counter == 1:\n",
    "        df.to_csv(\"data/UKc2.txt\", index=False, header=True, sep=\"\\t\")\n",
    "    else:\n",
    "        df.to_csv(\"data/UKt2.txt\", index=False, header=True, sep=\"\\t\")\n",
    "    counter += 1"
   ]
  },
  {
   "cell_type": "code",
   "execution_count": null,
   "id": "7c1ae76c-4a3e-47ce-8d4a-9f4871b75d08",
   "metadata": {
    "execution": {
     "iopub.status.busy": "2022-11-06T03:32:42.644457Z",
     "iopub.status.idle": "2022-11-06T03:32:42.644645Z",
     "shell.execute_reply": "2022-11-06T03:32:42.644556Z",
     "shell.execute_reply.started": "2022-11-06T03:32:42.644546Z"
    },
    "tags": []
   },
   "outputs": [],
   "source": [
    "df.head(2)"
   ]
  },
  {
   "cell_type": "code",
   "execution_count": null,
   "id": "20bd518d-4358-4c07-8ab7-ce973782abed",
   "metadata": {
    "execution": {
     "iopub.status.busy": "2022-11-06T03:32:42.645177Z",
     "iopub.status.idle": "2022-11-06T03:32:42.645366Z",
     "shell.execute_reply": "2022-11-06T03:32:42.645276Z",
     "shell.execute_reply.started": "2022-11-06T03:32:42.645266Z"
    },
    "tags": []
   },
   "outputs": [],
   "source": [
    "len(ukc['pair'].unique())"
   ]
  },
  {
   "cell_type": "markdown",
   "id": "5e15d5be-b91f-48d1-9fd4-7cb9167ad31f",
   "metadata": {},
   "source": [
    "## Personality Traits"
   ]
  },
  {
   "cell_type": "code",
   "execution_count": null,
   "id": "c0831a06-62d4-45e2-81b7-83749d75a4a7",
   "metadata": {
    "execution": {
     "iopub.status.busy": "2022-11-06T03:32:42.645833Z",
     "iopub.status.idle": "2022-11-06T03:32:42.646025Z",
     "shell.execute_reply": "2022-11-06T03:32:42.645936Z",
     "shell.execute_reply.started": "2022-11-06T03:32:42.645926Z"
    },
    "tags": []
   },
   "outputs": [],
   "source": [
    "ptuk = pd.read_excel(\"../ukdata/personality_t3.xls\")\n",
    "ptuk.head()"
   ]
  },
  {
   "cell_type": "code",
   "execution_count": null,
   "id": "c9073806-79b1-432a-a873-58fc6d87e7a5",
   "metadata": {
    "execution": {
     "iopub.status.busy": "2022-11-06T03:32:42.646502Z",
     "iopub.status.idle": "2022-11-06T03:32:42.646693Z",
     "shell.execute_reply": "2022-11-06T03:32:42.646604Z",
     "shell.execute_reply.started": "2022-11-06T03:32:42.646594Z"
    },
    "tags": []
   },
   "outputs": [],
   "source": [
    "ptuk = ptuk.rename(columns={'subjectno': 'ego'})\n",
    "ptuk.head()"
   ]
  },
  {
   "cell_type": "code",
   "execution_count": null,
   "id": "b301ae76-a0b3-4b8e-9f54-17cc9cd5312f",
   "metadata": {
    "execution": {
     "iopub.status.busy": "2022-11-06T03:32:42.647254Z",
     "iopub.status.idle": "2022-11-06T03:32:42.647448Z",
     "shell.execute_reply": "2022-11-06T03:32:42.647357Z",
     "shell.execute_reply.started": "2022-11-06T03:32:42.647347Z"
    },
    "tags": []
   },
   "outputs": [],
   "source": [
    "ptuk = ptuk.set_index('ego')\n",
    "ptuk.head()"
   ]
  },
  {
   "cell_type": "code",
   "execution_count": null,
   "id": "897b9fae-e180-4535-b477-78ed613a3529",
   "metadata": {
    "execution": {
     "iopub.status.busy": "2022-11-06T03:32:42.648010Z",
     "iopub.status.idle": "2022-11-06T03:32:42.648215Z",
     "shell.execute_reply": "2022-11-06T03:32:42.648122Z",
     "shell.execute_reply.started": "2022-11-06T03:32:42.648112Z"
    },
    "tags": []
   },
   "outputs": [],
   "source": [
    "ptuk = ptuk.iloc[:, 2:]\n",
    "print(len(ptuk))\n",
    "ptuk.head(2)"
   ]
  },
  {
   "cell_type": "code",
   "execution_count": null,
   "id": "318d3c33-18a5-432a-90fb-7f41767b8c97",
   "metadata": {
    "execution": {
     "iopub.status.busy": "2022-11-06T03:32:42.649414Z",
     "iopub.status.idle": "2022-11-06T03:32:42.649695Z",
     "shell.execute_reply": "2022-11-06T03:32:42.649599Z",
     "shell.execute_reply.started": "2022-11-06T03:32:42.649588Z"
    }
   },
   "outputs": [],
   "source": [
    "personality['uk'] = ptuk"
   ]
  },
  {
   "cell_type": "code",
   "execution_count": null,
   "id": "dfe22c55-b8dc-4f77-b039-9bbcfe8436ac",
   "metadata": {
    "execution": {
     "iopub.status.busy": "2022-11-06T03:32:42.650227Z",
     "iopub.status.idle": "2022-11-06T03:32:42.650418Z",
     "shell.execute_reply": "2022-11-06T03:32:42.650329Z",
     "shell.execute_reply.started": "2022-11-06T03:32:42.650320Z"
    },
    "tags": []
   },
   "outputs": [],
   "source": [
    "pwd"
   ]
  },
  {
   "cell_type": "code",
   "execution_count": null,
   "id": "02d331e0-ecf5-4450-b696-b83b47da6ac7",
   "metadata": {
    "execution": {
     "iopub.status.busy": "2022-11-06T03:32:42.650921Z",
     "iopub.status.idle": "2022-11-06T03:32:42.651127Z",
     "shell.execute_reply": "2022-11-06T03:32:42.651031Z",
     "shell.execute_reply.started": "2022-11-06T03:32:42.651022Z"
    },
    "tags": []
   },
   "outputs": [],
   "source": [
    "# with open('data/personality.pickle', 'wb') as pers:\n",
    "#     pickle.dump(personality, pers, protocol=pickle.HIGHEST_PROTOCOL)\n",
    "# pers.close()"
   ]
  },
  {
   "cell_type": "code",
   "execution_count": null,
   "id": "085abcf7-bc2e-4ed7-bb54-a08331d92dbc",
   "metadata": {
    "execution": {
     "iopub.status.busy": "2022-11-06T03:32:42.651668Z",
     "iopub.status.idle": "2022-11-06T03:32:42.651857Z",
     "shell.execute_reply": "2022-11-06T03:32:42.651768Z",
     "shell.execute_reply.started": "2022-11-06T03:32:42.651759Z"
    }
   },
   "outputs": [],
   "source": [
    "# with open('data/personality.pickle', 'rb') as handle:\n",
    "#     aa = pickle.load(handle)"
   ]
  },
  {
   "cell_type": "code",
   "execution_count": null,
   "id": "044758ab-22ec-4bab-8fda-df5a73cdeb1b",
   "metadata": {
    "execution": {
     "iopub.status.busy": "2022-11-06T03:32:42.652310Z",
     "iopub.status.idle": "2022-11-06T03:32:42.652500Z",
     "shell.execute_reply": "2022-11-06T03:32:42.652409Z",
     "shell.execute_reply.started": "2022-11-06T03:32:42.652399Z"
    },
    "tags": []
   },
   "outputs": [],
   "source": [
    "personality['it']"
   ]
  },
  {
   "cell_type": "code",
   "execution_count": null,
   "id": "49998d45-43c1-42dc-b927-7602a7f3504d",
   "metadata": {},
   "outputs": [],
   "source": []
  }
 ],
 "metadata": {
  "kernelspec": {
   "display_name": "Python 3 (ipykernel)",
   "language": "python",
   "name": "python3"
  },
  "language_info": {
   "codemirror_mode": {
    "name": "ipython",
    "version": 3
   },
   "file_extension": ".py",
   "mimetype": "text/x-python",
   "name": "python",
   "nbconvert_exporter": "python",
   "pygments_lexer": "ipython3",
   "version": "3.10.10"
  },
  "toc-autonumbering": true
 },
 "nbformat": 4,
 "nbformat_minor": 5
}
